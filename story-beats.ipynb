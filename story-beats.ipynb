{
 "cells": [
  {
   "cell_type": "markdown",
   "id": "e4750b17-3e17-4bea-ac92-0886ca139561",
   "metadata": {},
   "source": [
    "## Imports and global variables"
   ]
  },
  {
   "cell_type": "code",
   "execution_count": 1,
   "id": "1639528a-1137-4270-8c2b-b3ef481c427a",
   "metadata": {},
   "outputs": [],
   "source": [
    "import os\n",
    "import re\n",
    "import pandas as pd\n",
    "import numpy as np\n",
    "import torch"
   ]
  },
  {
   "cell_type": "code",
   "execution_count": 2,
   "id": "d4526c69-03c4-4a09-a494-a3f00d9c2fb4",
   "metadata": {},
   "outputs": [],
   "source": [
    "TIMESTAMPS_PATH = 'train/train/scene_timestamps'\n",
    "FEATURES_PATH = 'train/train/features'\n",
    "LABELS_PATH = 'train/train/labels'\n",
    "SUBTITLES_PATH = 'train/train/subtitles'\n",
    "\n",
    "TEST_TIMESTAMPS_PATH = 'test/test/scene_timestamps'\n",
    "TEST_FEATURES_PATH = 'test/test/features'\n",
    "TEST_SUBTITLES_PATH = 'test/test/subtitles'"
   ]
  },
  {
   "cell_type": "code",
   "execution_count": 3,
   "id": "09a14a49",
   "metadata": {},
   "outputs": [
    {
     "data": {
      "text/plain": [
       "'cuda'"
      ]
     },
     "execution_count": 3,
     "metadata": {},
     "output_type": "execute_result"
    }
   ],
   "source": [
    "# Check GPU available\n",
    "device = 'cuda' if torch.cuda.is_available() else 'cpu'\n",
    "device"
   ]
  },
  {
   "cell_type": "markdown",
   "id": "e000a3d5-7031-41ca-8e30-21753aacfbb6",
   "metadata": {},
   "source": [
    "## Load data"
   ]
  },
  {
   "cell_type": "markdown",
   "id": "13e2e1c0-23af-428c-8112-10f7e0d6806b",
   "metadata": {},
   "source": [
    "### Helper functions"
   ]
  },
  {
   "cell_type": "code",
   "execution_count": 4,
   "id": "ac399c52-72f6-4643-be29-7f922e00447c",
   "metadata": {},
   "outputs": [],
   "source": [
    "def load_files(path):\n",
    "    if os.path.exists(path):\n",
    "        return os.listdir(path)\n",
    "    else:\n",
    "        print(\"PATH DOES NOT EXIST!\")\n",
    "        return []"
   ]
  },
  {
   "cell_type": "code",
   "execution_count": 5,
   "id": "ccb21fde-14d1-48e9-843d-adec49a4c328",
   "metadata": {},
   "outputs": [],
   "source": [
    "def get_movie_name(file):\n",
    "    return file[10:-15]\n",
    "\n",
    "def get_movie_id(file):\n",
    "    return file[:9]"
   ]
  },
  {
   "cell_type": "code",
   "execution_count": 6,
   "id": "536fd822-2c92-493b-b3d6-b13fa53a725c",
   "metadata": {},
   "outputs": [],
   "source": [
    "def get_feature_file(file):\n",
    "    return file.replace(\"_timestamps\", \"\")"
   ]
  },
  {
   "cell_type": "code",
   "execution_count": 7,
   "id": "c6315a7a-d497-4fd4-b13f-0d221a94634e",
   "metadata": {},
   "outputs": [],
   "source": [
    "def prepare_csv(path, movie_name):\n",
    "    df = pd.read_csv(path)\n",
    "    df.rename(columns={\"Unnamed: 0\": \"scene_id\"}, inplace=True)\n",
    "    df[\"movie\"] = movie_name\n",
    "    return df"
   ]
  },
  {
   "cell_type": "code",
   "execution_count": 8,
   "id": "487bbef4-02d3-4e56-b7df-d2abacfb907e",
   "metadata": {},
   "outputs": [],
   "source": [
    "def extract_movie_info(files):\n",
    "    movie_ids, movies = [], []\n",
    "    for file in files:\n",
    "        movie_name = get_movie_name(file)\n",
    "        movie_id = get_movie_id(file)\n",
    "        movie_ids.append(movie_id)\n",
    "        movies.append(movie_name)\n",
    "    return movie_ids, movies\n",
    "\n",
    "def prepare_dataframes(files, movies, path_func, data_func):\n",
    "    dfs = []\n",
    "    for idx, file in enumerate(files):\n",
    "        path = path_func(file)\n",
    "        df = data_func(path, movies[idx])\n",
    "        dfs.append(df)\n",
    "    return pd.concat(dfs, ignore_index=True)\n",
    "\n",
    "def merge_dataframes(df1, df2):\n",
    "    test_full_data = pd.merge(df1, df2, on=[\"scene_id\", \"movie\"])\n",
    "    test_full_data[\"end\"] = test_full_data[\"start\"] + test_full_data[\"s_dur\"]\n",
    "    return test_full_data"
   ]
  },
  {
   "cell_type": "markdown",
   "id": "4859a0bf-eda8-445d-8c8a-4d166393b1c9",
   "metadata": {},
   "source": [
    "### Files"
   ]
  },
  {
   "cell_type": "code",
   "execution_count": 9,
   "id": "4a2fabdc-1f16-4dfb-9b0d-e761b72e231b",
   "metadata": {},
   "outputs": [],
   "source": [
    "train_files = load_files(TIMESTAMPS_PATH)\n",
    "# remove australia because australia subtitles are in diffrent format than everything else\n",
    "train_files.remove(\"tt0455824_australia_timestamps.csv\")\n",
    "\n",
    "test_files = load_files(TEST_TIMESTAMPS_PATH)"
   ]
  },
  {
   "cell_type": "markdown",
   "id": "90fd91cd-a851-4157-9860-850ad3737162",
   "metadata": {},
   "source": [
    "### Movies"
   ]
  },
  {
   "cell_type": "code",
   "execution_count": 10,
   "id": "6798481c-e78e-4f88-87ea-4a0fa6451f46",
   "metadata": {},
   "outputs": [],
   "source": [
    "train_movies_ids, train_movies = extract_movie_info(train_files)\n",
    "test_movies_ids, test_movies = extract_movie_info(test_files)"
   ]
  },
  {
   "cell_type": "markdown",
   "id": "c8f59cca-5f69-44f2-9246-539cce0e99ae",
   "metadata": {},
   "source": [
    "### Timestamps"
   ]
  },
  {
   "cell_type": "code",
   "execution_count": 11,
   "id": "b51c99ee-7ffc-4df7-9c7c-932e7343bafe",
   "metadata": {},
   "outputs": [],
   "source": [
    "train_timestamps = prepare_dataframes(\n",
    "    train_files,\n",
    "    train_movies,\n",
    "    lambda file: os.path.join(TIMESTAMPS_PATH, file), \n",
    "    prepare_csv\n",
    ")\n",
    "\n",
    "test_timestamps = prepare_dataframes(\n",
    "    test_files,\n",
    "    test_movies,\n",
    "    lambda file: os.path.join(TEST_TIMESTAMPS_PATH, file), \n",
    "    prepare_csv\n",
    ")"
   ]
  },
  {
   "cell_type": "markdown",
   "id": "ba2befcf-73ce-4bde-8e7f-febf7891d147",
   "metadata": {},
   "source": [
    "### Features"
   ]
  },
  {
   "cell_type": "code",
   "execution_count": 12,
   "id": "bc254cd7-894b-4afa-9f26-c31b3974db16",
   "metadata": {},
   "outputs": [],
   "source": [
    "train_features = prepare_dataframes(\n",
    "    train_files,\n",
    "    train_movies,\n",
    "    lambda file: os.path.join(FEATURES_PATH, get_feature_file(file)), \n",
    "    prepare_csv\n",
    ")\n",
    "\n",
    "test_features = prepare_dataframes(\n",
    "    test_files,\n",
    "    test_movies,\n",
    "    lambda file: os.path.join(TEST_FEATURES_PATH, get_feature_file(file)), \n",
    "    prepare_csv\n",
    ")"
   ]
  },
  {
   "cell_type": "markdown",
   "id": "c8467b2d-3432-42a9-964c-226ac931c302",
   "metadata": {},
   "source": [
    "### Labels"
   ]
  },
  {
   "cell_type": "code",
   "execution_count": 13,
   "id": "b36a21f1-9d62-4a9f-a51f-c355a49a96ed",
   "metadata": {},
   "outputs": [],
   "source": [
    "dfs = []\n",
    "for idx, file in enumerate(train_files):\n",
    "    # print(feature_files[idx])\n",
    "    labels_path = os.path.join(LABELS_PATH, get_feature_file(file))\n",
    "    \n",
    "    df = pd.read_csv(labels_path, keep_default_na=False)\n",
    "    df.rename(\n",
    "        columns={\n",
    "            \"Unnamed: 0\": \"scene_id\",\n",
    "            \"0\": \"label\"\n",
    "        }, inplace=True\n",
    "    )\n",
    "    df[\"movie\"] = train_movies[idx]\n",
    "    \n",
    "    dfs.append(df)\n",
    "\n",
    "train_labels = pd.concat(dfs, ignore_index=True)\n",
    "# print(train_labels.shape)\n",
    "# train_labels.tail()"
   ]
  },
  {
   "cell_type": "markdown",
   "id": "063d9296-bf27-47ed-8a17-9aa1f7773a7d",
   "metadata": {},
   "source": [
    "### Merge dataframes"
   ]
  },
  {
   "cell_type": "code",
   "execution_count": 14,
   "id": "794727e1-b58f-4d9f-ba31-2aab8901196c",
   "metadata": {},
   "outputs": [
    {
     "name": "stdout",
     "output_type": "stream",
     "text": [
      "(3729, 12)\n",
      "(2470, 11)\n"
     ]
    }
   ],
   "source": [
    "train_merged = merge_dataframes(train_timestamps, train_features)\n",
    "# additionaly merge labels to train data\n",
    "train_full_data = pd.merge(train_merged, train_labels, on=[\"scene_id\", \"movie\"], how=\"outer\")\n",
    "print(train_full_data.shape)\n",
    "\n",
    "test_full_data = merge_dataframes(test_timestamps, test_features)\n",
    "print(test_full_data.shape)"
   ]
  },
  {
   "cell_type": "markdown",
   "id": "8e4c61e3-fdb8-45bd-9d9e-f47fff1e28fb",
   "metadata": {},
   "source": [
    "## Join Scenes with subtitles"
   ]
  },
  {
   "cell_type": "code",
   "execution_count": 15,
   "id": "70dc66ea-b37c-47aa-87b7-94c0e4c754cd",
   "metadata": {},
   "outputs": [],
   "source": [
    "import srt"
   ]
  },
  {
   "cell_type": "markdown",
   "id": "5e9b2751-a43c-4cf1-9b6b-6ea8e573fc1e",
   "metadata": {},
   "source": [
    "### Helper runctions"
   ]
  },
  {
   "cell_type": "code",
   "execution_count": 16,
   "id": "a04553f3-4e2f-4be1-9ea8-4202d4bc65cc",
   "metadata": {},
   "outputs": [],
   "source": [
    "train_movie_scenes_count = train_full_data.groupby('movie').count()['scene_id']\n",
    "# print(train_movie_scenes_count)\n",
    "test_movie_scenes_count = test_full_data.groupby('movie').count()['scene_id']"
   ]
  },
  {
   "cell_type": "code",
   "execution_count": 17,
   "id": "fc802824-73fc-44cc-ac7d-855155e0b34b",
   "metadata": {},
   "outputs": [
    {
     "data": {
      "text/html": [
       "<div>\n",
       "<style scoped>\n",
       "    .dataframe tbody tr th:only-of-type {\n",
       "        vertical-align: middle;\n",
       "    }\n",
       "\n",
       "    .dataframe tbody tr th {\n",
       "        vertical-align: top;\n",
       "    }\n",
       "\n",
       "    .dataframe thead th {\n",
       "        text-align: right;\n",
       "    }\n",
       "</style>\n",
       "<table border=\"1\" class=\"dataframe\">\n",
       "  <thead>\n",
       "    <tr style=\"text-align: right;\">\n",
       "      <th></th>\n",
       "      <th>scene_id</th>\n",
       "      <th>start</th>\n",
       "      <th>end</th>\n",
       "      <th>movie</th>\n",
       "      <th>s_dur</th>\n",
       "      <th>n_shots</th>\n",
       "      <th>ava_shot_dur</th>\n",
       "      <th>rel_id_loc</th>\n",
       "      <th>rel_t_loc</th>\n",
       "      <th>ava_char_score</th>\n",
       "      <th>is_prot_appear</th>\n",
       "      <th>label</th>\n",
       "    </tr>\n",
       "  </thead>\n",
       "  <tbody>\n",
       "    <tr>\n",
       "      <th>0</th>\n",
       "      <td>0</td>\n",
       "      <td>0.000</td>\n",
       "      <td>218.718333</td>\n",
       "      <td>the lost weekend</td>\n",
       "      <td>218.718333</td>\n",
       "      <td>6</td>\n",
       "      <td>36.453056</td>\n",
       "      <td>0.000000</td>\n",
       "      <td>0.000000</td>\n",
       "      <td>1295.579078</td>\n",
       "      <td>1</td>\n",
       "      <td>Opening Image</td>\n",
       "    </tr>\n",
       "    <tr>\n",
       "      <th>1</th>\n",
       "      <td>1</td>\n",
       "      <td>218.760</td>\n",
       "      <td>240.740333</td>\n",
       "      <td>the lost weekend</td>\n",
       "      <td>21.980333</td>\n",
       "      <td>3</td>\n",
       "      <td>7.326778</td>\n",
       "      <td>0.008403</td>\n",
       "      <td>0.036189</td>\n",
       "      <td>1295.579078</td>\n",
       "      <td>1</td>\n",
       "      <td>Opening Image</td>\n",
       "    </tr>\n",
       "    <tr>\n",
       "      <th>2</th>\n",
       "      <td>2</td>\n",
       "      <td>240.782</td>\n",
       "      <td>282.574333</td>\n",
       "      <td>the lost weekend</td>\n",
       "      <td>41.792333</td>\n",
       "      <td>1</td>\n",
       "      <td>41.792333</td>\n",
       "      <td>0.016807</td>\n",
       "      <td>0.039832</td>\n",
       "      <td>1256.344447</td>\n",
       "      <td>1</td>\n",
       "      <td>Set-Up</td>\n",
       "    </tr>\n",
       "    <tr>\n",
       "      <th>3</th>\n",
       "      <td>3</td>\n",
       "      <td>282.616</td>\n",
       "      <td>313.521333</td>\n",
       "      <td>the lost weekend</td>\n",
       "      <td>30.905333</td>\n",
       "      <td>1</td>\n",
       "      <td>30.905333</td>\n",
       "      <td>0.025210</td>\n",
       "      <td>0.046752</td>\n",
       "      <td>1256.344447</td>\n",
       "      <td>1</td>\n",
       "      <td>Set-Up</td>\n",
       "    </tr>\n",
       "    <tr>\n",
       "      <th>4</th>\n",
       "      <td>4</td>\n",
       "      <td>313.563</td>\n",
       "      <td>367.033333</td>\n",
       "      <td>the lost weekend</td>\n",
       "      <td>53.470333</td>\n",
       "      <td>4</td>\n",
       "      <td>13.367583</td>\n",
       "      <td>0.033613</td>\n",
       "      <td>0.051871</td>\n",
       "      <td>1256.344447</td>\n",
       "      <td>1</td>\n",
       "      <td>Theme Stated</td>\n",
       "    </tr>\n",
       "    <tr>\n",
       "      <th>...</th>\n",
       "      <td>...</td>\n",
       "      <td>...</td>\n",
       "      <td>...</td>\n",
       "      <td>...</td>\n",
       "      <td>...</td>\n",
       "      <td>...</td>\n",
       "      <td>...</td>\n",
       "      <td>...</td>\n",
       "      <td>...</td>\n",
       "      <td>...</td>\n",
       "      <td>...</td>\n",
       "      <td>...</td>\n",
       "    </tr>\n",
       "    <tr>\n",
       "      <th>3724</th>\n",
       "      <td>220</td>\n",
       "      <td>6499.655</td>\n",
       "      <td>6574.354333</td>\n",
       "      <td>dallas buyers club</td>\n",
       "      <td>74.699333</td>\n",
       "      <td>16</td>\n",
       "      <td>4.668708</td>\n",
       "      <td>0.960699</td>\n",
       "      <td>0.926278</td>\n",
       "      <td>656.478716</td>\n",
       "      <td>1</td>\n",
       "      <td>Finale</td>\n",
       "    </tr>\n",
       "    <tr>\n",
       "      <th>3725</th>\n",
       "      <td>221</td>\n",
       "      <td>6574.396</td>\n",
       "      <td>6579.776333</td>\n",
       "      <td>dallas buyers club</td>\n",
       "      <td>5.380333</td>\n",
       "      <td>1</td>\n",
       "      <td>5.380333</td>\n",
       "      <td>0.965066</td>\n",
       "      <td>0.936929</td>\n",
       "      <td>372.108700</td>\n",
       "      <td>0</td>\n",
       "      <td>Finale</td>\n",
       "    </tr>\n",
       "    <tr>\n",
       "      <th>3726</th>\n",
       "      <td>224</td>\n",
       "      <td>6589.161</td>\n",
       "      <td>6623.987333</td>\n",
       "      <td>dallas buyers club</td>\n",
       "      <td>34.826333</td>\n",
       "      <td>6</td>\n",
       "      <td>5.804389</td>\n",
       "      <td>0.978166</td>\n",
       "      <td>0.939033</td>\n",
       "      <td>928.370357</td>\n",
       "      <td>1</td>\n",
       "      <td>Final Image</td>\n",
       "    </tr>\n",
       "    <tr>\n",
       "      <th>3727</th>\n",
       "      <td>226</td>\n",
       "      <td>6629.701</td>\n",
       "      <td>6682.462333</td>\n",
       "      <td>dallas buyers club</td>\n",
       "      <td>52.761333</td>\n",
       "      <td>19</td>\n",
       "      <td>2.776912</td>\n",
       "      <td>0.986900</td>\n",
       "      <td>0.944811</td>\n",
       "      <td>1076.267498</td>\n",
       "      <td>1</td>\n",
       "      <td>Final Image</td>\n",
       "    </tr>\n",
       "    <tr>\n",
       "      <th>3728</th>\n",
       "      <td>227</td>\n",
       "      <td>6682.504</td>\n",
       "      <td>6688.176333</td>\n",
       "      <td>dallas buyers club</td>\n",
       "      <td>5.672333</td>\n",
       "      <td>4</td>\n",
       "      <td>1.418083</td>\n",
       "      <td>0.991266</td>\n",
       "      <td>0.952336</td>\n",
       "      <td>2085.459362</td>\n",
       "      <td>1</td>\n",
       "      <td>Final Image</td>\n",
       "    </tr>\n",
       "  </tbody>\n",
       "</table>\n",
       "<p>3729 rows × 12 columns</p>\n",
       "</div>"
      ],
      "text/plain": [
       "      scene_id     start          end               movie       s_dur  \\\n",
       "0            0     0.000   218.718333    the lost weekend  218.718333   \n",
       "1            1   218.760   240.740333    the lost weekend   21.980333   \n",
       "2            2   240.782   282.574333    the lost weekend   41.792333   \n",
       "3            3   282.616   313.521333    the lost weekend   30.905333   \n",
       "4            4   313.563   367.033333    the lost weekend   53.470333   \n",
       "...        ...       ...          ...                 ...         ...   \n",
       "3724       220  6499.655  6574.354333  dallas buyers club   74.699333   \n",
       "3725       221  6574.396  6579.776333  dallas buyers club    5.380333   \n",
       "3726       224  6589.161  6623.987333  dallas buyers club   34.826333   \n",
       "3727       226  6629.701  6682.462333  dallas buyers club   52.761333   \n",
       "3728       227  6682.504  6688.176333  dallas buyers club    5.672333   \n",
       "\n",
       "      n_shots  ava_shot_dur  rel_id_loc  rel_t_loc  ava_char_score  \\\n",
       "0           6     36.453056    0.000000   0.000000     1295.579078   \n",
       "1           3      7.326778    0.008403   0.036189     1295.579078   \n",
       "2           1     41.792333    0.016807   0.039832     1256.344447   \n",
       "3           1     30.905333    0.025210   0.046752     1256.344447   \n",
       "4           4     13.367583    0.033613   0.051871     1256.344447   \n",
       "...       ...           ...         ...        ...             ...   \n",
       "3724       16      4.668708    0.960699   0.926278      656.478716   \n",
       "3725        1      5.380333    0.965066   0.936929      372.108700   \n",
       "3726        6      5.804389    0.978166   0.939033      928.370357   \n",
       "3727       19      2.776912    0.986900   0.944811     1076.267498   \n",
       "3728        4      1.418083    0.991266   0.952336     2085.459362   \n",
       "\n",
       "      is_prot_appear          label  \n",
       "0                  1  Opening Image  \n",
       "1                  1  Opening Image  \n",
       "2                  1         Set-Up  \n",
       "3                  1         Set-Up  \n",
       "4                  1   Theme Stated  \n",
       "...              ...            ...  \n",
       "3724               1         Finale  \n",
       "3725               0         Finale  \n",
       "3726               1    Final Image  \n",
       "3727               1    Final Image  \n",
       "3728               1    Final Image  \n",
       "\n",
       "[3729 rows x 12 columns]"
      ]
     },
     "execution_count": 17,
     "metadata": {},
     "output_type": "execute_result"
    }
   ],
   "source": [
    "train_full_data"
   ]
  },
  {
   "cell_type": "code",
   "execution_count": 18,
   "id": "6768479e-06be-4fff-935f-7424174598ce",
   "metadata": {},
   "outputs": [],
   "source": [
    "problematic_movies = [\"the ugly truth\", \"the social network\", \"the girl with the dragon tattoo\"]"
   ]
  },
  {
   "cell_type": "code",
   "execution_count": 19,
   "id": "21b168cf-f6f1-429e-92ae-0f0f4e31033a",
   "metadata": {},
   "outputs": [],
   "source": [
    "def convert_files_to_subtitles(files):\n",
    "    return [file.replace('.csv', '.srt') for file in files]\n",
    "\n",
    "def load_subtitles(paths, movies):\n",
    "    movie_subtitles = {}\n",
    "    for idx, movie_name in enumerate(movies):\n",
    "        # print(movie_name)\n",
    "        \n",
    "        if movie_name == \"pretty woman\":\n",
    "            with open(paths[idx], 'r', encoding='utf-16') as subtitle_file:\n",
    "                movie_subtitles[movie_name] = list(srt.parse(subtitle_file.read()))\n",
    "        elif movie_name in problematic_movies:\n",
    "            with open(paths[idx], 'r', encoding='utf-8', errors='replace') as subtitle_file:\n",
    "                movie_subtitles[movie_name] = list(srt.parse(subtitle_file.read()))\n",
    "        else:\n",
    "            with open(paths[idx], 'r', encoding='utf-8') as subtitle_file:\n",
    "                movie_subtitles[movie_name] = list(srt.parse(subtitle_file.read()))\n",
    "                \n",
    "    return movie_subtitles\n",
    "\n",
    "def associate_scenes_with_subtitles(full_data, movie_subtitles):\n",
    "    movies_scenes_subtitles = {}\n",
    "    additional_data = []\n",
    "    last_processed_subtitle_idx = 0\n",
    "    missed_subtitles = 0\n",
    "\n",
    "    for scene_idx, scene_row in full_data.iterrows():\n",
    "        scene_start, scene_end = scene_row['start'], scene_row['end']\n",
    "        scene_id, movie_name = scene_row['scene_id'], scene_row['movie']\n",
    "        \n",
    "        # Create new dictionary for every movie\n",
    "        if movie_name not in movies_scenes_subtitles:\n",
    "            movies_scenes_subtitles[movie_name] = {}\n",
    "            last_processed_subtitle_idx = 0\n",
    "\n",
    "        # Craete new dictionary for every scene within movie\n",
    "        movies_scenes_subtitles[movie_name][scene_id] = []\n",
    "\n",
    "        current_movie_subtitles = movie_subtitles[movie_name]\n",
    "        sentence_count = 0\n",
    "        for idx in range(last_processed_subtitle_idx, len(current_movie_subtitles)):\n",
    "            sub = current_movie_subtitles[idx]\n",
    "            sub_start, sub_end = sub.start.total_seconds(), sub.end.total_seconds()\n",
    "\n",
    "            # Some subtitles start just before scene_start\n",
    "            if scene_start <= (sub_start + 0.05) and scene_end >= sub_end:\n",
    "                # Add subtitle content to the dictionary for the current scene\n",
    "                movies_scenes_subtitles[movie_name][scene_id].append(sub.content)\n",
    "                sentence_count += sub.content.count('.') + sub.content.count('!') + sub.content.count('?')\n",
    "            elif scene_end < sub_end:\n",
    "                last_processed_subtitle_idx = idx\n",
    "                break\n",
    "            else:\n",
    "                missed_subtitles += 1\n",
    "        \n",
    "        additional_data.append({\n",
    "            'movie': movie_name,\n",
    "            'scene_id': scene_id,\n",
    "            'sentence_count': sentence_count,\n",
    "        })\n",
    "\n",
    "    print(f\"Ignored subtitltes: {missed_subtitles}\")\n",
    "    additional_df = pd.DataFrame(additional_data)\n",
    "    return movies_scenes_subtitles, additional_df"
   ]
  },
  {
   "cell_type": "code",
   "execution_count": 20,
   "id": "c8490b71-024e-451c-835c-a4408e2f39ba",
   "metadata": {},
   "outputs": [],
   "source": [
    "def format_data(name, data):\n",
    "    formatted_data = \"{:.0f}\".format(data)\n",
    "    # print(f\"{name}{formatted_data}\")\n",
    "    return name + formatted_data\n",
    "\n",
    "\n",
    "def map_scene_location_to_category(x):\n",
    "    scene_mapping = {\n",
    "        (0, 1): \"Opening\",\n",
    "        (2, 15): \"Setup\",\n",
    "        (16, 19): \"Debate\",\n",
    "        (20, 49): \"Story\",\n",
    "        (50, 75): \"BadGuys\",\n",
    "        (76, 89): \"Ending\",\n",
    "        (90, 99): \"Finale\",\n",
    "        (99, float('inf')): \"FinalImage\"\n",
    "    }\n",
    "\n",
    "    for percentage_range, category in scene_mapping.items():\n",
    "        if percentage_range[0] <= x <= percentage_range[1]:\n",
    "            return category\n",
    "\n",
    "    return \"InvalidValue\"\n",
    "\n",
    "\n",
    "def associate_scenes_with_subtitles_extra_info(full_data, movie_subtitles, movie_scenes_count):\n",
    "    movies_scenes_subtitles = {}\n",
    "    last_processed_subtitle_idx = 0\n",
    "    missed_subtitles = 0\n",
    "\n",
    "    for scene_idx, scene_row in full_data.iterrows():\n",
    "        scene_start, scene_end = scene_row['start'], scene_row['end']\n",
    "        scene_id, movie_name = scene_row['scene_id'], scene_row['movie']\n",
    "        scene_location, time_location = scene_row['rel_id_loc'], scene_row['rel_t_loc'] \t\n",
    "        prot_appear = scene_row['is_prot_appear']\n",
    "        scene_count = movie_scenes_count[movie_name]\n",
    "\n",
    "        movie_name_without_spaces = movie_name.replace(\" \", \"\")\n",
    "        category = map_scene_location_to_category(int(scene_location * 100))\n",
    "        \n",
    "        scene_location_result = format_data(\"SceneLocation\", scene_location * 100)\n",
    "        time_location_result = format_data(\"TimeLocation\", time_location * 100)\n",
    "        category_result = f\"category{category}\"\n",
    "        movie_name_result = f\"MovieName{movie_name_without_spaces}\"\n",
    "        scene_start_result = format_data(\"SceneStart\", scene_start)\n",
    "        scene_end_result = format_data(\"SceneEnd\", scene_end)\n",
    "        prot_appear_result = format_data(\"ProtAppear\", prot_appear)\n",
    "        scene_count_result = format_data(\"SceneCount\", scene_count)\n",
    "        \n",
    "        # Create new dictionary for every movie\n",
    "        if movie_name not in movies_scenes_subtitles:\n",
    "            movies_scenes_subtitles[movie_name] = {}\n",
    "            last_processed_subtitle_idx = 0\n",
    "\n",
    "        # Craete new dictionary for every scene within movie\n",
    "        movies_scenes_subtitles[movie_name][scene_id] = []\n",
    "        movies_scenes_subtitles[movie_name][scene_id].append(scene_location_result)\n",
    "        movies_scenes_subtitles[movie_name][scene_id].append(time_location_result)\n",
    "        movies_scenes_subtitles[movie_name][scene_id].append(category_result)\n",
    "        movies_scenes_subtitles[movie_name][scene_id].append(movie_name_result)\n",
    "        movies_scenes_subtitles[movie_name][scene_id].append(scene_start_result)\n",
    "        movies_scenes_subtitles[movie_name][scene_id].append(scene_end_result)\n",
    "        movies_scenes_subtitles[movie_name][scene_id].append(prot_appear_result)\n",
    "        movies_scenes_subtitles[movie_name][scene_id].append(scene_count_result)\n",
    "\n",
    "        current_movie_subtitles = movie_subtitles[movie_name]\n",
    "        for idx in range(last_processed_subtitle_idx, len(current_movie_subtitles)):\n",
    "            sub = current_movie_subtitles[idx]\n",
    "            sub_start, sub_end = sub.start.total_seconds(), sub.end.total_seconds()\n",
    "\n",
    "            # Some subtitles start just before scene_start\n",
    "            if scene_start <= (sub_start + 0.05) and scene_end >= sub_end:\n",
    "                # Add subtitle content to the dictionary for the current scene\n",
    "                movies_scenes_subtitles[movie_name][scene_id].append(sub.content)\n",
    "            elif scene_end < sub_end:\n",
    "                last_processed_subtitle_idx = idx\n",
    "                break\n",
    "            else:\n",
    "                missed_subtitles += 1\n",
    "        \n",
    "    print(f\"Ignored subtitltes: {missed_subtitles}\")\n",
    "    return movies_scenes_subtitles"
   ]
  },
  {
   "cell_type": "markdown",
   "id": "88cb2a42-e9e0-4b51-8851-6f3c3989e397",
   "metadata": {},
   "source": [
    "### Get subtitle files"
   ]
  },
  {
   "cell_type": "code",
   "execution_count": 21,
   "id": "7fe0cf7b-cb14-4eb1-a65d-376ce385faec",
   "metadata": {},
   "outputs": [],
   "source": [
    "train_features_files = load_files(FEATURES_PATH)\n",
    "# remove australia because australia subtitles are in diffrent format than everything else\n",
    "train_features_files.remove('tt0455824_australia.csv')\n",
    "test_features_files = load_files(TEST_FEATURES_PATH)\n",
    "\n",
    "train_subtitles_files = convert_files_to_subtitles(train_features_files)\n",
    "train_subtitle_paths = [os.path.join(SUBTITLES_PATH, subtitle_file) for subtitle_file in train_subtitles_files]\n",
    "\n",
    "test_subtitles_files = convert_files_to_subtitles(test_features_files)\n",
    "test_subtitle_paths = [os.path.join(TEST_SUBTITLES_PATH, subtitle_file) for subtitle_file in test_subtitles_files]"
   ]
  },
  {
   "cell_type": "markdown",
   "id": "49999294-c505-4b00-a2be-0f8a5c24ff3e",
   "metadata": {},
   "source": [
    "### Load subtitles "
   ]
  },
  {
   "cell_type": "code",
   "execution_count": 22,
   "id": "6c910f57-e1ec-4562-9f27-92e13cc52825",
   "metadata": {},
   "outputs": [],
   "source": [
    "train_movie_subtitles = load_subtitles(train_subtitle_paths, train_movies)\n",
    "test_movie_subtitles = load_subtitles(test_subtitle_paths, test_movies)"
   ]
  },
  {
   "cell_type": "markdown",
   "id": "9aad00e5-ee25-4e9d-85de-44e39278862d",
   "metadata": {},
   "source": [
    "### Associate Scenes with subtitles"
   ]
  },
  {
   "cell_type": "code",
   "execution_count": 23,
   "id": "9c1dd419-8d7d-4c19-9d8d-74f5588d0413",
   "metadata": {},
   "outputs": [
    {
     "name": "stdout",
     "output_type": "stream",
     "text": [
      "Ignored subtitltes: 3018\n",
      "Ignored subtitltes: 3165\n"
     ]
    }
   ],
   "source": [
    "train_movies_scenes_subtitles, additional_train_data = associate_scenes_with_subtitles(train_full_data, train_movie_subtitles)\n",
    "test_movies_scenes_subtitles, additional_test_data = associate_scenes_with_subtitles(test_full_data, test_movie_subtitles)"
   ]
  },
  {
   "cell_type": "markdown",
   "id": "f6c0a6fe",
   "metadata": {},
   "source": [
    "## Subtitles cleaning and combining"
   ]
  },
  {
   "cell_type": "markdown",
   "id": "f6281799-8ce1-4208-92ce-efe2058c4bd1",
   "metadata": {},
   "source": [
    "### Helper functions"
   ]
  },
  {
   "cell_type": "code",
   "execution_count": 24,
   "id": "fbfc8d6b-af1f-4df9-a109-4813387446b4",
   "metadata": {},
   "outputs": [],
   "source": [
    "def clean_subtitles(movies_scenes_subtitles):\n",
    "    for movie_name, scenes in movies_scenes_subtitles.items():\n",
    "        for scene_id, subtitles in scenes.items():\n",
    "            cleaned_subtitles = []\n",
    "            for subtitle in subtitles:\n",
    "                # Remove new line characters\n",
    "                cleaned_subtitle = subtitle.replace('\\n', ' ').strip()\n",
    "                cleaned_subtitle = re.sub(r'<.*?>', '', cleaned_subtitle)\n",
    "                cleaned_subtitle = re.sub(r'♪', '', cleaned_subtitle)\n",
    "                cleaned_subtitles.append(cleaned_subtitle)\n",
    "            \n",
    "            combined_text = \" \".join(cleaned_subtitles)\n",
    "            movies_scenes_subtitles[movie_name][scene_id] = combined_text\n",
    "            \n",
    "    return movies_scenes_subtitles\n",
    "\n",
    "def clean_subtitles_only_words(movies_scenes_subtitles):\n",
    "    for movie_name, scenes in movies_scenes_subtitles.items():\n",
    "        for scene_id, subtitles in scenes.items():\n",
    "            cleaned_subtitles = []\n",
    "            for subtitle in subtitles:\n",
    "                cleaned_subtitle = subtitle.replace('\\n', ' ').strip()\n",
    "                cleaned_subtitle = re.sub(r'<.*?>', '', cleaned_subtitle)\n",
    "                cleaned_subtitle = re.sub(r'[^a-zA-Z0-9\\s\\']', '', cleaned_subtitle)\n",
    "                cleaned_subtitles.append(cleaned_subtitle)\n",
    "            \n",
    "            combined_text = \" \".join(cleaned_subtitles)\n",
    "            movies_scenes_subtitles[movie_name][scene_id] = combined_text\n",
    "            \n",
    "    return movies_scenes_subtitles"
   ]
  },
  {
   "cell_type": "code",
   "execution_count": 25,
   "id": "b4d1034b",
   "metadata": {},
   "outputs": [
    {
     "data": {
      "text/plain": [
       "\" Although I can't dismiss   The memory of her kiss   I guess he's not for me \""
      ]
     },
     "execution_count": 25,
     "metadata": {},
     "output_type": "execute_result"
    }
   ],
   "source": [
    "clean_train_movies_scenes_subtitles = clean_subtitles(train_movies_scenes_subtitles)\n",
    "clean_train_movies_scenes_subtitles['four weddings and a funeral'][3]"
   ]
  },
  {
   "cell_type": "code",
   "execution_count": 26,
   "id": "48092566",
   "metadata": {},
   "outputs": [
    {
     "data": {
      "text/plain": [
       "\"His majesty prefers not to be moistened. I got you a present. Oh. I hated this game. You loved it. You loved it. Thank you. I'll add it to the collection. Can you pour me a bourbon? (SIGHS) What's up, Jitters? (BREATHES DEEPLY) Well, if you're not going to talk... I'm gonna have to fill the silence... with another excruciating story by Margo Dunne. I could tell you about my recent customer service experience... changing Internet service providers. I like that one. Or how about the time... I saw that woman who looked exactly like my friend Monica? But it wasn't Monica. It was a total stranger. Who was also named Monica. Made it kind of interesting. It's great. I'm just having a bad day. Amy? It's our anniversary. Five years. Five? That came fast. And furious.\""
      ]
     },
     "execution_count": 26,
     "metadata": {},
     "output_type": "execute_result"
    }
   ],
   "source": [
    "clean_test_movies_scenes_subtitles = clean_subtitles(test_movies_scenes_subtitles)\n",
    "clean_test_movies_scenes_subtitles['gone girl'][3]"
   ]
  },
  {
   "cell_type": "markdown",
   "id": "b4cafdd5",
   "metadata": {},
   "source": [
    "## Tokenize and Embeddings"
   ]
  },
  {
   "cell_type": "markdown",
   "id": "963e0ad5-cd9a-4044-bfdf-237fd0e06f58",
   "metadata": {
    "jp-MarkdownHeadingCollapsed": true
   },
   "source": [
    "### Helper functions"
   ]
  },
  {
   "cell_type": "code",
   "execution_count": 24,
   "id": "847ea61b-7aaa-4e5e-9159-12e90fbe2141",
   "metadata": {},
   "outputs": [],
   "source": [
    "from transformers import BertTokenizer, BertModel\n",
    "\n",
    "tokenizer = BertTokenizer.from_pretrained('bert-base-uncased')\n",
    "model = BertModel.from_pretrained('bert-base-uncased').to(device)"
   ]
  },
  {
   "cell_type": "code",
   "execution_count": 25,
   "id": "a44eb11b-52c0-47cf-bbdc-fef38ae1467a",
   "metadata": {},
   "outputs": [],
   "source": [
    "def calculate_embeddings(movies_scenes_subtitles):\n",
    "    embeddings = {}\n",
    "    for movie_name, scenes in movies_scenes_subtitles.items():\n",
    "        for scene_id, combined_text in scenes.items():\n",
    "            inputs = tokenizer(combined_text, return_tensors=\"pt\", truncation=True, padding=True, max_length=512).to(device)\n",
    "            outputs = model(**inputs)\n",
    "            embedding = outputs.last_hidden_state.mean(dim=1).squeeze().tolist()\n",
    "            embeddings.setdefault(movie_name, {})[scene_id] = embedding\n",
    "\n",
    "    return embeddings"
   ]
  },
  {
   "cell_type": "code",
   "execution_count": 26,
   "id": "a8b776d9-c0ca-4228-8052-922d49878988",
   "metadata": {},
   "outputs": [
    {
     "data": {
      "text/html": [
       "<div>\n",
       "<style scoped>\n",
       "    .dataframe tbody tr th:only-of-type {\n",
       "        vertical-align: middle;\n",
       "    }\n",
       "\n",
       "    .dataframe tbody tr th {\n",
       "        vertical-align: top;\n",
       "    }\n",
       "\n",
       "    .dataframe thead th {\n",
       "        text-align: right;\n",
       "    }\n",
       "</style>\n",
       "<table border=\"1\" class=\"dataframe\">\n",
       "  <thead>\n",
       "    <tr style=\"text-align: right;\">\n",
       "      <th></th>\n",
       "      <th>scene_id</th>\n",
       "      <th>start</th>\n",
       "      <th>end</th>\n",
       "      <th>movie</th>\n",
       "      <th>s_dur</th>\n",
       "      <th>n_shots</th>\n",
       "      <th>ava_shot_dur</th>\n",
       "      <th>rel_id_loc</th>\n",
       "      <th>rel_t_loc</th>\n",
       "      <th>ava_char_score</th>\n",
       "      <th>is_prot_appear</th>\n",
       "      <th>embedding</th>\n",
       "      <th>label</th>\n",
       "    </tr>\n",
       "  </thead>\n",
       "  <tbody>\n",
       "    <tr>\n",
       "      <th>3724</th>\n",
       "      <td>220</td>\n",
       "      <td>6499.655</td>\n",
       "      <td>6574.354333</td>\n",
       "      <td>dallas buyers club</td>\n",
       "      <td>74.699333</td>\n",
       "      <td>16</td>\n",
       "      <td>4.668708</td>\n",
       "      <td>0.960699</td>\n",
       "      <td>0.926278</td>\n",
       "      <td>656.478716</td>\n",
       "      <td>1</td>\n",
       "      <td>[0.031814076006412506, 0.13735561072826385, 0....</td>\n",
       "      <td>Finale</td>\n",
       "    </tr>\n",
       "    <tr>\n",
       "      <th>3725</th>\n",
       "      <td>221</td>\n",
       "      <td>6574.396</td>\n",
       "      <td>6579.776333</td>\n",
       "      <td>dallas buyers club</td>\n",
       "      <td>5.380333</td>\n",
       "      <td>1</td>\n",
       "      <td>5.380333</td>\n",
       "      <td>0.965066</td>\n",
       "      <td>0.936929</td>\n",
       "      <td>372.108700</td>\n",
       "      <td>0</td>\n",
       "      <td>[0.20158791542053223, 0.11704117059707642, 0.2...</td>\n",
       "      <td>Finale</td>\n",
       "    </tr>\n",
       "    <tr>\n",
       "      <th>3726</th>\n",
       "      <td>224</td>\n",
       "      <td>6589.161</td>\n",
       "      <td>6623.987333</td>\n",
       "      <td>dallas buyers club</td>\n",
       "      <td>34.826333</td>\n",
       "      <td>6</td>\n",
       "      <td>5.804389</td>\n",
       "      <td>0.978166</td>\n",
       "      <td>0.939033</td>\n",
       "      <td>928.370357</td>\n",
       "      <td>1</td>\n",
       "      <td>[0.31051069498062134, 0.047210514545440674, -0...</td>\n",
       "      <td>Final Image</td>\n",
       "    </tr>\n",
       "    <tr>\n",
       "      <th>3727</th>\n",
       "      <td>226</td>\n",
       "      <td>6629.701</td>\n",
       "      <td>6682.462333</td>\n",
       "      <td>dallas buyers club</td>\n",
       "      <td>52.761333</td>\n",
       "      <td>19</td>\n",
       "      <td>2.776912</td>\n",
       "      <td>0.986900</td>\n",
       "      <td>0.944811</td>\n",
       "      <td>1076.267498</td>\n",
       "      <td>1</td>\n",
       "      <td>[0.051616448909044266, -0.009972741827368736, ...</td>\n",
       "      <td>Final Image</td>\n",
       "    </tr>\n",
       "    <tr>\n",
       "      <th>3728</th>\n",
       "      <td>227</td>\n",
       "      <td>6682.504</td>\n",
       "      <td>6688.176333</td>\n",
       "      <td>dallas buyers club</td>\n",
       "      <td>5.672333</td>\n",
       "      <td>4</td>\n",
       "      <td>1.418083</td>\n",
       "      <td>0.991266</td>\n",
       "      <td>0.952336</td>\n",
       "      <td>2085.459362</td>\n",
       "      <td>1</td>\n",
       "      <td>[0.36869367957115173, 0.02289198897778988, 0.2...</td>\n",
       "      <td>Final Image</td>\n",
       "    </tr>\n",
       "  </tbody>\n",
       "</table>\n",
       "</div>"
      ],
      "text/plain": [
       "      scene_id     start          end               movie      s_dur  n_shots  \\\n",
       "3724       220  6499.655  6574.354333  dallas buyers club  74.699333       16   \n",
       "3725       221  6574.396  6579.776333  dallas buyers club   5.380333        1   \n",
       "3726       224  6589.161  6623.987333  dallas buyers club  34.826333        6   \n",
       "3727       226  6629.701  6682.462333  dallas buyers club  52.761333       19   \n",
       "3728       227  6682.504  6688.176333  dallas buyers club   5.672333        4   \n",
       "\n",
       "      ava_shot_dur  rel_id_loc  rel_t_loc  ava_char_score  is_prot_appear  \\\n",
       "3724      4.668708    0.960699   0.926278      656.478716               1   \n",
       "3725      5.380333    0.965066   0.936929      372.108700               0   \n",
       "3726      5.804389    0.978166   0.939033      928.370357               1   \n",
       "3727      2.776912    0.986900   0.944811     1076.267498               1   \n",
       "3728      1.418083    0.991266   0.952336     2085.459362               1   \n",
       "\n",
       "                                              embedding        label  \n",
       "3724  [0.031814076006412506, 0.13735561072826385, 0....       Finale  \n",
       "3725  [0.20158791542053223, 0.11704117059707642, 0.2...       Finale  \n",
       "3726  [0.31051069498062134, 0.047210514545440674, -0...  Final Image  \n",
       "3727  [0.051616448909044266, -0.009972741827368736, ...  Final Image  \n",
       "3728  [0.36869367957115173, 0.02289198897778988, 0.2...  Final Image  "
      ]
     },
     "execution_count": 26,
     "metadata": {},
     "output_type": "execute_result"
    }
   ],
   "source": [
    "train_movies_scenes_embeddings = calculate_embeddings(clean_train_movies_scenes_subtitles)\n",
    "\n",
    "train_embeddings = []\n",
    "for index, row in train_full_data.iterrows():\n",
    "    movie_name, scene_id = row['movie'], row['scene_id']\n",
    "    embedding = train_movies_scenes_embeddings.get(movie_name, {}).get(scene_id, None)\n",
    "    train_embeddings.append(embedding)\n",
    "\n",
    "train_full_data.insert(train_full_data.columns.get_loc('label'), 'embedding', train_embeddings)\n",
    "train_full_data.tail()"
   ]
  },
  {
   "cell_type": "code",
   "execution_count": 27,
   "id": "a282e8fe-0f92-4d39-96e9-a40ac5548f85",
   "metadata": {},
   "outputs": [
    {
     "data": {
      "text/html": [
       "<div>\n",
       "<style scoped>\n",
       "    .dataframe tbody tr th:only-of-type {\n",
       "        vertical-align: middle;\n",
       "    }\n",
       "\n",
       "    .dataframe tbody tr th {\n",
       "        vertical-align: top;\n",
       "    }\n",
       "\n",
       "    .dataframe thead th {\n",
       "        text-align: right;\n",
       "    }\n",
       "</style>\n",
       "<table border=\"1\" class=\"dataframe\">\n",
       "  <thead>\n",
       "    <tr style=\"text-align: right;\">\n",
       "      <th></th>\n",
       "      <th>scene_id</th>\n",
       "      <th>start</th>\n",
       "      <th>end</th>\n",
       "      <th>movie</th>\n",
       "      <th>s_dur</th>\n",
       "      <th>n_shots</th>\n",
       "      <th>ava_shot_dur</th>\n",
       "      <th>rel_id_loc</th>\n",
       "      <th>rel_t_loc</th>\n",
       "      <th>ava_char_score</th>\n",
       "      <th>is_prot_appear</th>\n",
       "      <th>embedding</th>\n",
       "    </tr>\n",
       "  </thead>\n",
       "  <tbody>\n",
       "    <tr>\n",
       "      <th>2465</th>\n",
       "      <td>216</td>\n",
       "      <td>8437.638</td>\n",
       "      <td>8460.952333</td>\n",
       "      <td>gone girl</td>\n",
       "      <td>23.314333</td>\n",
       "      <td>10</td>\n",
       "      <td>2.331433</td>\n",
       "      <td>0.972973</td>\n",
       "      <td>0.943599</td>\n",
       "      <td>1400.736946</td>\n",
       "      <td>1</td>\n",
       "      <td>[-0.06389163434505463, 0.051358889788389206, 0...</td>\n",
       "    </tr>\n",
       "    <tr>\n",
       "      <th>2466</th>\n",
       "      <td>217</td>\n",
       "      <td>8460.994</td>\n",
       "      <td>8543.284333</td>\n",
       "      <td>gone girl</td>\n",
       "      <td>82.290333</td>\n",
       "      <td>20</td>\n",
       "      <td>4.114517</td>\n",
       "      <td>0.977477</td>\n",
       "      <td>0.946211</td>\n",
       "      <td>1400.736946</td>\n",
       "      <td>1</td>\n",
       "      <td>[0.20144830644130707, 0.04715737700462341, 0.2...</td>\n",
       "    </tr>\n",
       "    <tr>\n",
       "      <th>2467</th>\n",
       "      <td>218</td>\n",
       "      <td>8543.326</td>\n",
       "      <td>8565.640333</td>\n",
       "      <td>gone girl</td>\n",
       "      <td>22.314333</td>\n",
       "      <td>8</td>\n",
       "      <td>2.789292</td>\n",
       "      <td>0.981982</td>\n",
       "      <td>0.955418</td>\n",
       "      <td>1400.736946</td>\n",
       "      <td>1</td>\n",
       "      <td>[0.384894460439682, 0.03037167154252529, 0.264...</td>\n",
       "    </tr>\n",
       "    <tr>\n",
       "      <th>2468</th>\n",
       "      <td>219</td>\n",
       "      <td>8565.682</td>\n",
       "      <td>8607.307333</td>\n",
       "      <td>gone girl</td>\n",
       "      <td>41.625333</td>\n",
       "      <td>9</td>\n",
       "      <td>4.625037</td>\n",
       "      <td>0.986486</td>\n",
       "      <td>0.957918</td>\n",
       "      <td>1094.344390</td>\n",
       "      <td>1</td>\n",
       "      <td>[0.07813608646392822, -0.12171435356140137, 0....</td>\n",
       "    </tr>\n",
       "    <tr>\n",
       "      <th>2469</th>\n",
       "      <td>220</td>\n",
       "      <td>8607.349</td>\n",
       "      <td>8649.390333</td>\n",
       "      <td>gone girl</td>\n",
       "      <td>42.041333</td>\n",
       "      <td>6</td>\n",
       "      <td>7.006889</td>\n",
       "      <td>0.990991</td>\n",
       "      <td>0.962578</td>\n",
       "      <td>1029.305716</td>\n",
       "      <td>1</td>\n",
       "      <td>[0.4052170515060425, 0.03550687059760094, 0.22...</td>\n",
       "    </tr>\n",
       "  </tbody>\n",
       "</table>\n",
       "</div>"
      ],
      "text/plain": [
       "      scene_id     start          end      movie      s_dur  n_shots  \\\n",
       "2465       216  8437.638  8460.952333  gone girl  23.314333       10   \n",
       "2466       217  8460.994  8543.284333  gone girl  82.290333       20   \n",
       "2467       218  8543.326  8565.640333  gone girl  22.314333        8   \n",
       "2468       219  8565.682  8607.307333  gone girl  41.625333        9   \n",
       "2469       220  8607.349  8649.390333  gone girl  42.041333        6   \n",
       "\n",
       "      ava_shot_dur  rel_id_loc  rel_t_loc  ava_char_score  is_prot_appear  \\\n",
       "2465      2.331433    0.972973   0.943599     1400.736946               1   \n",
       "2466      4.114517    0.977477   0.946211     1400.736946               1   \n",
       "2467      2.789292    0.981982   0.955418     1400.736946               1   \n",
       "2468      4.625037    0.986486   0.957918     1094.344390               1   \n",
       "2469      7.006889    0.990991   0.962578     1029.305716               1   \n",
       "\n",
       "                                              embedding  \n",
       "2465  [-0.06389163434505463, 0.051358889788389206, 0...  \n",
       "2466  [0.20144830644130707, 0.04715737700462341, 0.2...  \n",
       "2467  [0.384894460439682, 0.03037167154252529, 0.264...  \n",
       "2468  [0.07813608646392822, -0.12171435356140137, 0....  \n",
       "2469  [0.4052170515060425, 0.03550687059760094, 0.22...  "
      ]
     },
     "execution_count": 27,
     "metadata": {},
     "output_type": "execute_result"
    }
   ],
   "source": [
    "test_movies_scenes_embeddings = calculate_embeddings(test_movies_scenes_subtitles)\n",
    "\n",
    "test_embeddings = []\n",
    "for index, row in test_full_data.iterrows():\n",
    "    movie_name, scene_id = row['movie'], row['scene_id']\n",
    "    embedding = test_movies_scenes_embeddings.get(movie_name, {}).get(scene_id, None)\n",
    "    test_embeddings.append(embedding)\n",
    "\n",
    "test_full_data['embedding'] = test_embeddings\n",
    "test_full_data.tail()"
   ]
  },
  {
   "cell_type": "markdown",
   "id": "1bab7da3",
   "metadata": {},
   "source": [
    "## Add additionaly data"
   ]
  },
  {
   "cell_type": "code",
   "execution_count": 28,
   "id": "e9f9b8f0",
   "metadata": {},
   "outputs": [],
   "source": [
    "train_full_data = pd.merge(train_full_data, additional_train_data, on=[\"movie\", \"scene_id\"])\n",
    "test_full_data = pd.merge(test_full_data, additional_test_data, on=[\"movie\", \"scene_id\"])"
   ]
  },
  {
   "cell_type": "markdown",
   "id": "4334d013",
   "metadata": {
    "jp-MarkdownHeadingCollapsed": true
   },
   "source": [
    "## First Model"
   ]
  },
  {
   "cell_type": "markdown",
   "id": "efed7adb",
   "metadata": {
    "jp-MarkdownHeadingCollapsed": true
   },
   "source": [
    "### Tuning hyperparameters"
   ]
  },
  {
   "cell_type": "code",
   "execution_count": 248,
   "id": "f292ba62",
   "metadata": {},
   "outputs": [
    {
     "name": "stderr",
     "output_type": "stream",
     "text": [
      "C:\\Users\\User\\AppData\\Local\\Temp\\ipykernel_17364\\2521873100.py:15: SettingWithCopyWarning: \n",
      "A value is trying to be set on a copy of a slice from a DataFrame.\n",
      "Try using .loc[row_indexer,col_indexer] = value instead\n",
      "\n",
      "See the caveats in the documentation: https://pandas.pydata.org/pandas-docs/stable/user_guide/indexing.html#returning-a-view-versus-a-copy\n",
      "  X['movie'] = movie_encoder.fit_transform(train_full_data['movie'])\n"
     ]
    },
    {
     "name": "stdout",
     "output_type": "stream",
     "text": [
      "Best parameters: {'n_estimators': 250, 'min_samples_split': 35, 'min_samples_leaf': 20, 'max_depth': 20}\n"
     ]
    }
   ],
   "source": [
    "from sklearn.model_selection import cross_val_score, RandomizedSearchCV, train_test_split\n",
    "from sklearn.metrics import classification_report, confusion_matrix, accuracy_score\n",
    "from sklearn.inspection import permutation_importance\n",
    "from sklearn.model_selection import cross_val_predict\n",
    "from sklearn.ensemble import RandomForestClassifier\n",
    "from sklearn.preprocessing import LabelEncoder\n",
    "from sklearn.decomposition import PCA\n",
    "\n",
    "# embeddings = np.array(train_full_data['embedding'].tolist())\n",
    "# pca = PCA(n_components=10)\n",
    "# reduced_embeddings = pca.fit_transform(embeddings)\n",
    "\n",
    "X = train_full_data[['scene_id', 'rel_id_loc', 'rel_t_loc', 'ava_char_score', 'ava_shot_dur', 'is_prot_appear']]\n",
    "movie_encoder = LabelEncoder()\n",
    "X['movie'] = movie_encoder.fit_transform(train_full_data['movie'])\n",
    "y = train_full_data['label']\n",
    "\n",
    "X_train, X_test, y_train, y_test = train_test_split(X, y, random_state=23, test_size=0.3, stratify=y)\n",
    "\n",
    "param_dist = {\n",
    "    'n_estimators': [210, 240, 200, 225, 250],\n",
    "    'min_samples_split': [15, 25, 35],\n",
    "    'min_samples_leaf': [10, 15, 20],\n",
    "    'max_depth': [10, 15, 20, 25, 30, 50]\n",
    "}\n",
    "\n",
    "random_search = RandomizedSearchCV(RandomForestClassifier(random_state=23), param_distributions=param_dist, n_iter=10, cv=5, random_state=23, n_jobs=-1)\n",
    "random_search.fit(X, y)\n",
    "# random_search.fit(X_train, y_train)\n",
    "\n",
    "print(\"Best parameters:\", random_search.best_params_)"
   ]
  },
  {
   "cell_type": "markdown",
   "id": "b3e338f7",
   "metadata": {},
   "source": [
    "### Cross-Validation"
   ]
  },
  {
   "cell_type": "code",
   "execution_count": 249,
   "id": "608c4a5e",
   "metadata": {},
   "outputs": [
    {
     "name": "stdout",
     "output_type": "stream",
     "text": [
      "Mean Accuracy from cross-validation on training set: 0.47708476528060173\n"
     ]
    }
   ],
   "source": [
    "best_params = random_search.best_params_\n",
    "model = RandomForestClassifier(**best_params, random_state=23)\n",
    "model.fit(X, y)\n",
    "# model.fit(X_train, y_train)\n",
    "\n",
    "y_pred = model.predict(X)\n",
    "# y_pred = model.predict(X_test)\n",
    "\n",
    "scores = cross_val_score(model, X, y, cv=5)\n",
    "# scores = cross_val_score(model, X_train, y_train, cv=5)\n",
    "print(f\"Mean Accuracy from cross-validation on training set: {np.mean(scores)}\")"
   ]
  },
  {
   "cell_type": "markdown",
   "id": "bff470f4-0400-4ec3-a8bc-aac7c47e08be",
   "metadata": {},
   "source": [
    "### Scores"
   ]
  },
  {
   "cell_type": "code",
   "execution_count": 250,
   "id": "1e086559-82e7-44a9-a159-970d9dbd8171",
   "metadata": {},
   "outputs": [
    {
     "name": "stdout",
     "output_type": "stream",
     "text": [
      "                        precision    recall  f1-score   support\n",
      "\n",
      "         Opening Image       0.00      0.00      0.00        69\n",
      "                Set-Up       0.53      0.76      0.63       426\n",
      "          Theme Stated       0.49      0.83      0.62       345\n",
      "              Catalyst       0.83      0.11      0.19        92\n",
      "                Debate       0.83      0.12      0.22        81\n",
      "                  None       0.00      0.00      0.00        72\n",
      "        Break into Two       0.67      0.40      0.50       146\n",
      "               B Story       0.56      0.68      0.61       232\n",
      "              Midpoint       0.88      0.66      0.75        85\n",
      "     Bad Guys Close In       0.78      0.97      0.87       611\n",
      "           All Is Lost       0.63      0.46      0.53       370\n",
      "Dark Night of the Soul       0.49      0.19      0.27       102\n",
      "      Break into Three       0.51      0.35      0.41       521\n",
      "                Finale       0.72      0.77      0.74        64\n",
      "           Final Image       0.74      0.89      0.81       488\n",
      "         Fun and Games       0.00      0.00      0.00        25\n",
      "\n",
      "              accuracy                           0.63      3729\n",
      "             macro avg       0.54      0.45      0.45      3729\n",
      "          weighted avg       0.61      0.63      0.59      3729\n",
      "\n",
      "\n",
      "Accuracy: 0.6310002681684097\n"
     ]
    },
    {
     "name": "stderr",
     "output_type": "stream",
     "text": [
      "c:\\Users\\User\\Desktop\\Studia\\Sem2-mgr\\ZED\\story-beats\\venv\\Lib\\site-packages\\sklearn\\metrics\\_classification.py:1471: UndefinedMetricWarning: Precision and F-score are ill-defined and being set to 0.0 in labels with no predicted samples. Use `zero_division` parameter to control this behavior.\n",
      "  _warn_prf(average, modifier, msg_start, len(result))\n",
      "c:\\Users\\User\\Desktop\\Studia\\Sem2-mgr\\ZED\\story-beats\\venv\\Lib\\site-packages\\sklearn\\metrics\\_classification.py:1471: UndefinedMetricWarning: Precision and F-score are ill-defined and being set to 0.0 in labels with no predicted samples. Use `zero_division` parameter to control this behavior.\n",
      "  _warn_prf(average, modifier, msg_start, len(result))\n",
      "c:\\Users\\User\\Desktop\\Studia\\Sem2-mgr\\ZED\\story-beats\\venv\\Lib\\site-packages\\sklearn\\metrics\\_classification.py:1471: UndefinedMetricWarning: Precision and F-score are ill-defined and being set to 0.0 in labels with no predicted samples. Use `zero_division` parameter to control this behavior.\n",
      "  _warn_prf(average, modifier, msg_start, len(result))\n"
     ]
    }
   ],
   "source": [
    "_, levels = pd.factorize(train_full_data['label'])\n",
    "print(classification_report(y,y_pred,target_names=levels))\n",
    "# print(classification_report(y_test,y_pred,target_names=levels))\n",
    "\n",
    "accuracy = accuracy_score(y, y_pred)\n",
    "# accuracy = accuracy_score(y_test, y_pred)\n",
    "print()\n",
    "print(f\"Accuracy: {accuracy}\")"
   ]
  },
  {
   "cell_type": "code",
   "execution_count": 251,
   "id": "b81fc580-c101-41e6-b409-8fdf5003f406",
   "metadata": {},
   "outputs": [
    {
     "name": "stdout",
     "output_type": "stream",
     "text": [
      "Confusion Matrix:\n",
      "[[  0   5  31   0   0   0   2   0   0   9   0   3  19   0   0   0]\n",
      " [  0 258  51   0   2   0   1  18   0   3  76   1  16   0   0   0]\n",
      " [  0  16 200   0   0   0  15   0   0   8  50   8  48   0   0   0]\n",
      " [  0   0  15   0   0   0   5   0   0  45   0   0  27   0   0   0]\n",
      " [  0  37   0   0   2   0   0  27   0   0   6   0   6   0   3   0]\n",
      " [  0  15   0   0   0   0   0  15   0   0   0   0   1   0  41   0]\n",
      " [  0   0  38   0   0   0  11   0   0  35   0   3  59   0   0   0]\n",
      " [  0  48   3   0   2   0   0 109   0   0   2   0  11   0  57   0]\n",
      " [  0   0   0   0   0   0   0   0  51  34   0   0   0   0   0   0]\n",
      " [  0   0   0   0   0   0   5   0  12 551   0   0  43   0   0   0]\n",
      " [  0 148 100   0   1   0   4  12   0  11  64   0  27   0   3   0]\n",
      " [  0  28  49   0   0   0   0   0   0  10  13   0   2   0   0   0]\n",
      " [  0  91 108   0   2   0  12  37   1  79  32   6  88   2  63   0]\n",
      " [  0   0   0   0   0   0   0   0   0   0   0   0   0  43  21   0]\n",
      " [  0  11   0   0   0   0   0  58   0   0   0   0  10   7 402   0]\n",
      " [  0   0   0   0   0   0   0   0   0   0   0   0   0   7  18   0]]\n"
     ]
    }
   ],
   "source": [
    "# Assuming 'model', 'X', and 'y' are already defined\n",
    "predicted = cross_val_predict(model, X, y, cv=5)\n",
    "conf_matrix = confusion_matrix(y, predicted)\n",
    "\n",
    "print(\"Confusion Matrix:\")\n",
    "print(conf_matrix)"
   ]
  },
  {
   "cell_type": "code",
   "execution_count": 252,
   "id": "b5eff19d-1730-4609-afd1-e5ddc12c0d4e",
   "metadata": {},
   "outputs": [
    {
     "data": {
      "text/plain": [
       "<Axes: >"
      ]
     },
     "execution_count": 252,
     "metadata": {},
     "output_type": "execute_result"
    },
    {
     "data": {
      "image/png": "[encoded data removed]",
      "text/plain": [
       "<Figure size 1200x1000 with 2 Axes>"
      ]
     },
     "metadata": {},
     "output_type": "display_data"
    }
   ],
   "source": [
    "import seaborn as sns\n",
    "import matplotlib.pyplot as plt\n",
    "\n",
    "fig, ax = plt.subplots(figsize=(12,10))\n",
    "sns.heatmap(conf_matrix, fmt='g', ax=ax, annot=True)"
   ]
  },
  {
   "cell_type": "markdown",
   "id": "49f97ce1",
   "metadata": {},
   "source": [
    "### Feature importances"
   ]
  },
  {
   "cell_type": "code",
   "execution_count": 253,
   "id": "aedf4aab",
   "metadata": {},
   "outputs": [
    {
     "data": {
      "image/png": "[encoded data removed]",
      "text/plain": [
       "<Figure size 640x480 with 1 Axes>"
      ]
     },
     "metadata": {},
     "output_type": "display_data"
    }
   ],
   "source": [
    "importances = model.feature_importances_\n",
    "std = np.std([tree.feature_importances_ for tree in model.estimators_], axis=0)\n",
    "\n",
    "feature_names = [f\"feature {i}\" for i in range(X.shape[1])]\n",
    "feature_names = X.columns\n",
    "forest_importances = pd.Series(importances, index=feature_names)\n",
    "\n",
    "fig, ax = plt.subplots()\n",
    "forest_importances.plot.bar(yerr=std, ax=ax)\n",
    "ax.set_title(\"Feature importances using MDI\")\n",
    "ax.set_ylabel(\"Mean decrease in impurity\")\n",
    "fig.tight_layout()"
   ]
  },
  {
   "cell_type": "markdown",
   "id": "b79e1be6-db89-48ec-80d2-fa0a2a3c7cba",
   "metadata": {},
   "source": [
    "### Predict for real test data"
   ]
  },
  {
   "cell_type": "code",
   "execution_count": 254,
   "id": "ccbc314a-6a80-4fbd-b16c-f0a18825d3c9",
   "metadata": {},
   "outputs": [
    {
     "name": "stderr",
     "output_type": "stream",
     "text": [
      "C:\\Users\\User\\AppData\\Local\\Temp\\ipykernel_17364\\3029110483.py:5: SettingWithCopyWarning: \n",
      "A value is trying to be set on a copy of a slice from a DataFrame.\n",
      "Try using .loc[row_indexer,col_indexer] = value instead\n",
      "\n",
      "See the caveats in the documentation: https://pandas.pydata.org/pandas-docs/stable/user_guide/indexing.html#returning-a-view-versus-a-copy\n",
      "  X['movie'] = movie_encoder.fit_transform(test_full_data['movie'])\n"
     ]
    }
   ],
   "source": [
    "# embeddings = np.array(test_full_data['embedding'].tolist())\n",
    "\n",
    "X = test_full_data[['scene_id', 'rel_id_loc', 'rel_t_loc', 'ava_char_score', 'ava_shot_dur', 'is_prot_appear']]\n",
    "movie_encoder = LabelEncoder()\n",
    "X['movie'] = movie_encoder.fit_transform(test_full_data['movie'])\n",
    "# X = np.hstack((X, embeddings))\n",
    "\n",
    "y_pred = model.predict(X)"
   ]
  },
  {
   "cell_type": "code",
   "execution_count": 255,
   "id": "338c0668-59ea-4db1-9ff7-7b0ba35f0238",
   "metadata": {},
   "outputs": [
    {
     "name": "stdout",
     "output_type": "stream",
     "text": [
      "(2470,)\n",
      "(2470, 14)\n"
     ]
    }
   ],
   "source": [
    "# print(\"Shape of X:\", X.shape)\n",
    "# print(\"Shape of embeddings:\", embeddings.shape)\n",
    "print(y_pred.shape)\n",
    "print(test_full_data.shape)"
   ]
  },
  {
   "cell_type": "markdown",
   "id": "3a274c22",
   "metadata": {
    "jp-MarkdownHeadingCollapsed": true
   },
   "source": [
    "## Second Model"
   ]
  },
  {
   "cell_type": "code",
   "execution_count": null,
   "id": "8b280aa1",
   "metadata": {},
   "outputs": [],
   "source": [
    "from transformers import BertModel, DistilBertTokenizer, DistilBertForSequenceClassification, AdamW\n",
    "from torch.utils.data import DataLoader, TensorDataset\n",
    "from sklearn.model_selection import train_test_split"
   ]
  },
  {
   "cell_type": "markdown",
   "id": "6d94b798",
   "metadata": {},
   "source": [
    "### LabelEncoder"
   ]
  },
  {
   "cell_type": "code",
   "execution_count": null,
   "id": "a4934167",
   "metadata": {},
   "outputs": [],
   "source": [
    "from sklearn.preprocessing import LabelEncoder\n",
    "\n",
    "data = []\n",
    "for movie, scenes in movies_scenes_subtitles.items():\n",
    "    for scene_number, text in scenes.items():\n",
    "        data.append({\"movie\": movie, \"scene\": scene_number, \"text\": text})\n",
    "scenes_df = pd.DataFrame(data)\n",
    "\n",
    "full_data.insert(full_data.columns.get_loc('label'), 'text', scenes_df['text'])\n",
    "\n",
    "label_encoder = LabelEncoder()\n",
    "full_data['encoded_label'] = label_encoder.fit_transform(full_data['label'])"
   ]
  },
  {
   "cell_type": "markdown",
   "id": "6036b0dc",
   "metadata": {},
   "source": [
    "### Train test split"
   ]
  },
  {
   "cell_type": "code",
   "execution_count": null,
   "id": "2a9229cf",
   "metadata": {},
   "outputs": [],
   "source": [
    "X = full_data.drop(columns=['movie', 'encoded_label'])\n",
    "y = full_data['encoded_label']\n",
    "\n",
    "X_train, X_temp, y_train, y_temp = train_test_split(X, y, random_state=23, test_size=0.3, stratify=y)\n",
    "X_val, X_test, y_val, y_test = train_test_split(X_temp, y_temp, random_state=23, test_size=0.5, stratify=y_temp)\n",
    "\n",
    "train_texts = X_train['text']\n",
    "val_texts = X_val['text']\n",
    "test_texts = X_test['text']\n",
    "\n",
    "train_labels = y_train\n",
    "val_labels = y_val\n",
    "test_labels = y_test\n"
   ]
  },
  {
   "cell_type": "markdown",
   "id": "5fe9d03f",
   "metadata": {},
   "source": [
    "### Tokenizer"
   ]
  },
  {
   "cell_type": "code",
   "execution_count": null,
   "id": "ba43e74f",
   "metadata": {},
   "outputs": [],
   "source": [
    "tokenizer = DistilBertTokenizer.from_pretrained(\"distilbert-base-uncased\")\n",
    "\n",
    "def encode_texts(texts, labels):\n",
    "    encodings = tokenizer(texts.tolist(), truncation=True, padding=True, return_tensors=\"pt\")\n",
    "    labels = torch.tensor(labels)\n",
    "    return encodings, labels\n",
    "\n",
    "train_encodings, train_labels = encode_texts(train_texts, train_labels.values)\n",
    "val_encodings, val_labels = encode_texts(val_texts, val_labels.values)\n",
    "test_encodings, test_labels = encode_texts(test_texts, test_labels.values)"
   ]
  },
  {
   "cell_type": "markdown",
   "id": "162e5fbe",
   "metadata": {},
   "source": [
    "### DataLoader"
   ]
  },
  {
   "cell_type": "code",
   "execution_count": null,
   "id": "3e24a9da",
   "metadata": {},
   "outputs": [],
   "source": [
    "train_labels"
   ]
  },
  {
   "cell_type": "code",
   "execution_count": null,
   "id": "507ffa21",
   "metadata": {},
   "outputs": [],
   "source": [
    "train_dataset = TensorDataset(train_encodings['input_ids'], \n",
    "                              train_encodings['attention_mask'], \n",
    "                              train_labels)\n",
    "val_dataset = TensorDataset(val_encodings['input_ids'], \n",
    "                            val_encodings['attention_mask'], \n",
    "                            val_labels)\n",
    "test_dataset = TensorDataset(test_encodings['input_ids'], \n",
    "                             test_encodings['attention_mask'], \n",
    "                             test_labels)\n",
    "\n",
    "batch_size = 4\n",
    "train_loader = DataLoader(train_dataset, batch_size=batch_size, shuffle=True)\n",
    "val_loader = DataLoader(val_dataset, batch_size=batch_size, shuffle=False)\n",
    "test_loader = DataLoader(test_dataset, batch_size=batch_size, shuffle=False)"
   ]
  },
  {
   "cell_type": "markdown",
   "id": "db0b89e0",
   "metadata": {},
   "source": [
    "### Trening and Validation"
   ]
  },
  {
   "cell_type": "code",
   "execution_count": null,
   "id": "2bf9a6b0",
   "metadata": {},
   "outputs": [],
   "source": [
    "model = DistilBertForSequenceClassification.from_pretrained(\"distilbert-base-uncased\", num_labels=len(label_encoder.classes_))\n",
    "model.to(device)\n",
    "\n",
    "# Optimizer\n",
    "optimizer = AdamW(model.parameters(), lr=5e-5)\n",
    "\n",
    "def calculate_accuracy(preds, labels):\n",
    "    pred_flat = np.argmax(preds, axis=1).flatten()\n",
    "    labels_flat = labels.flatten()\n",
    "    return np.sum(pred_flat == labels_flat) / len(labels_flat)\n",
    "\n",
    "# Trening Model\n",
    "epochs = 12\n",
    "for epoch in range(epochs):\n",
    "    model.train()\n",
    "    total_loss, total_accuracy = 0, 0\n",
    "\n",
    "    for step, batch in enumerate(train_loader):\n",
    "        b_input_ids, b_input_mask, b_labels = tuple(t.to(device) for t in batch)\n",
    "        \n",
    "        model.zero_grad()\n",
    "        b_labels = b_labels.long()\n",
    "        outputs = model(b_input_ids, attention_mask=b_input_mask, labels=b_labels)\n",
    "        \n",
    "        loss = outputs.loss\n",
    "        total_loss += loss.item()\n",
    "        loss.backward()\n",
    "        optimizer.step()\n",
    "\n",
    "    avg_train_loss = total_loss / len(train_loader)\n",
    "    print(f'Epoch {epoch+1}/{epochs} - Loss: {avg_train_loss}')\n",
    "\n",
    "    # Validation\n",
    "    model.eval()\n",
    "    total_eval_accuracy = 0\n",
    "\n",
    "    for batch in val_loader:\n",
    "        b_input_ids, b_input_mask, b_labels = tuple(t.to(device) for t in batch)\n",
    "        \n",
    "        with torch.no_grad():\n",
    "            outputs = model(b_input_ids, attention_mask=b_input_mask)\n",
    "        \n",
    "        logits = outputs.logits\n",
    "        logits = logits.detach().cpu().numpy()\n",
    "        label_ids = b_labels.to('cpu').numpy()\n",
    "        total_eval_accuracy += calculate_accuracy(logits, label_ids)\n",
    "\n",
    "    avg_val_accuracy = total_eval_accuracy / len(val_loader)\n",
    "    print(f'Epoch {epoch+1}/{epochs} - Validation Accuracy: {avg_val_accuracy}')\n",
    "\n",
    "print(\"Training complete\")"
   ]
  },
  {
   "cell_type": "markdown",
   "id": "dc500a76",
   "metadata": {},
   "source": [
    "### Testing Model"
   ]
  },
  {
   "cell_type": "code",
   "execution_count": null,
   "id": "c6672e09",
   "metadata": {},
   "outputs": [],
   "source": [
    "model.eval()\n",
    "total_test_accuracy = 0\n",
    "\n",
    "for batch in test_loader:\n",
    "    b_input_ids, b_input_mask, b_labels = tuple(t.to(device) for t in batch)\n",
    "\n",
    "    with torch.no_grad():\n",
    "        outputs = model(b_input_ids, attention_mask=b_input_mask)\n",
    "\n",
    "    logits = outputs.logits\n",
    "    logits = logits.detach().cpu().numpy()\n",
    "    label_ids = b_labels.to('cpu').numpy()\n",
    "    total_test_accuracy += calculate_accuracy(logits, label_ids)\n",
    "\n",
    "avg_test_accuracy = total_test_accuracy / len(test_loader)\n",
    "print(f'Test Accuracy: {avg_test_accuracy}')"
   ]
  },
  {
   "cell_type": "markdown",
   "id": "d1cdf29f",
   "metadata": {
    "jp-MarkdownHeadingCollapsed": true
   },
   "source": [
    "## Third Model"
   ]
  },
  {
   "cell_type": "code",
   "execution_count": 193,
   "id": "fee02df7",
   "metadata": {},
   "outputs": [
    {
     "name": "stderr",
     "output_type": "stream",
     "text": [
      "C:\\Users\\User\\AppData\\Local\\Temp\\ipykernel_17364\\1546538747.py:13: SettingWithCopyWarning: \n",
      "A value is trying to be set on a copy of a slice from a DataFrame.\n",
      "Try using .loc[row_indexer,col_indexer] = value instead\n",
      "\n",
      "See the caveats in the documentation: https://pandas.pydata.org/pandas-docs/stable/user_guide/indexing.html#returning-a-view-versus-a-copy\n",
      "  X['movie'] = movie_encoder.fit_transform(train_full_data['movie'])\n"
     ]
    },
    {
     "name": "stdout",
     "output_type": "stream",
     "text": [
      "Best parameters: {'subsample': 0.6, 'n_estimators': 300, 'min_child_weight': 6, 'max_depth': 9, 'learning_rate': 0.01, 'gamma': 0.1, 'colsample_bytree': 0.9}\n"
     ]
    }
   ],
   "source": [
    "from xgboost import XGBClassifier\n",
    "from sklearn.model_selection import train_test_split, RandomizedSearchCV, cross_val_score, cross_val_predict\n",
    "from sklearn.metrics import classification_report, accuracy_score, confusion_matrix\n",
    "from sklearn.preprocessing import LabelEncoder\n",
    "\n",
    "embeddings = np.array(train_full_data['embedding'].tolist())\n",
    "pca = PCA(n_components=10)\n",
    "reduced_embeddings = pca.fit_transform(embeddings)\n",
    "\n",
    "X = train_full_data[['scene_id', 'start', 'end', 'movie', 'rel_id_loc', 'rel_t_loc', 'is_prot_appear']]\n",
    "label_encoder = LabelEncoder()\n",
    "movie_encoder = LabelEncoder()\n",
    "X['movie'] = movie_encoder.fit_transform(train_full_data['movie'])\n",
    "y = label_encoder.fit_transform(train_full_data['label'])\n",
    "\n",
    "X_train, X_test, y_train, y_test = train_test_split(X, y, random_state=23, test_size=0.3, stratify=y)\n",
    "\n",
    "param_dist = {\n",
    "    'n_estimators': [100, 200, 300, 400, 500],\n",
    "    'learning_rate': [0.01, 0.05, 0.1, 0.2, 0.3],\n",
    "    'max_depth': [3, 4, 5, 6, 7, 8, 9, 10],\n",
    "    'min_child_weight': [1, 2, 4, 6, 8, 10],\n",
    "    'gamma': [0.1, 0.3, 0.5, 0.7, 1.0, 1.5, 2],\n",
    "    'subsample': [0.5, 0.6, 0.7, 0.8, 0.9, 1.0],\n",
    "    'colsample_bytree': [0.5, 0.6, 0.7, 0.8, 0.9, 1.0]\n",
    "}\n",
    "\n",
    "\n",
    "xgb = XGBClassifier(random_state=23)\n",
    "\n",
    "random_search = RandomizedSearchCV(xgb, param_distributions=param_dist, n_iter=10, cv=5, random_state=23, n_jobs=-1)\n",
    "random_search.fit(X, y)\n",
    "\n",
    "print(\"Best parameters:\", random_search.best_params_)"
   ]
  },
  {
   "cell_type": "code",
   "execution_count": 194,
   "id": "b0f445d8",
   "metadata": {},
   "outputs": [
    {
     "data": {
      "text/html": [
       "<style>#sk-container-id-26 {color: black;}#sk-container-id-26 pre{padding: 0;}#sk-container-id-26 div.sk-toggleable {background-color: white;}#sk-container-id-26 label.sk-toggleable__label {cursor: pointer;display: block;width: 100%;margin-bottom: 0;padding: 0.3em;box-sizing: border-box;text-align: center;}#sk-container-id-26 label.sk-toggleable__label-arrow:before {content: \"▸\";float: left;margin-right: 0.25em;color: #696969;}#sk-container-id-26 label.sk-toggleable__label-arrow:hover:before {color: black;}#sk-container-id-26 div.sk-estimator:hover label.sk-toggleable__label-arrow:before {color: black;}#sk-container-id-26 div.sk-toggleable__content {max-height: 0;max-width: 0;overflow: hidden;text-align: left;background-color: #f0f8ff;}#sk-container-id-26 div.sk-toggleable__content pre {margin: 0.2em;color: black;border-radius: 0.25em;background-color: #f0f8ff;}#sk-container-id-26 input.sk-toggleable__control:checked~div.sk-toggleable__content {max-height: 200px;max-width: 100%;overflow: auto;}#sk-container-id-26 input.sk-toggleable__control:checked~label.sk-toggleable__label-arrow:before {content: \"▾\";}#sk-container-id-26 div.sk-estimator input.sk-toggleable__control:checked~label.sk-toggleable__label {background-color: #d4ebff;}#sk-container-id-26 div.sk-label input.sk-toggleable__control:checked~label.sk-toggleable__label {background-color: #d4ebff;}#sk-container-id-26 input.sk-hidden--visually {border: 0;clip: rect(1px 1px 1px 1px);clip: rect(1px, 1px, 1px, 1px);height: 1px;margin: -1px;overflow: hidden;padding: 0;position: absolute;width: 1px;}#sk-container-id-26 div.sk-estimator {font-family: monospace;background-color: #f0f8ff;border: 1px dotted black;border-radius: 0.25em;box-sizing: border-box;margin-bottom: 0.5em;}#sk-container-id-26 div.sk-estimator:hover {background-color: #d4ebff;}#sk-container-id-26 div.sk-parallel-item::after {content: \"\";width: 100%;border-bottom: 1px solid gray;flex-grow: 1;}#sk-container-id-26 div.sk-label:hover label.sk-toggleable__label {background-color: #d4ebff;}#sk-container-id-26 div.sk-serial::before {content: \"\";position: absolute;border-left: 1px solid gray;box-sizing: border-box;top: 0;bottom: 0;left: 50%;z-index: 0;}#sk-container-id-26 div.sk-serial {display: flex;flex-direction: column;align-items: center;background-color: white;padding-right: 0.2em;padding-left: 0.2em;position: relative;}#sk-container-id-26 div.sk-item {position: relative;z-index: 1;}#sk-container-id-26 div.sk-parallel {display: flex;align-items: stretch;justify-content: center;background-color: white;position: relative;}#sk-container-id-26 div.sk-item::before, #sk-container-id-26 div.sk-parallel-item::before {content: \"\";position: absolute;border-left: 1px solid gray;box-sizing: border-box;top: 0;bottom: 0;left: 50%;z-index: -1;}#sk-container-id-26 div.sk-parallel-item {display: flex;flex-direction: column;z-index: 1;position: relative;background-color: white;}#sk-container-id-26 div.sk-parallel-item:first-child::after {align-self: flex-end;width: 50%;}#sk-container-id-26 div.sk-parallel-item:last-child::after {align-self: flex-start;width: 50%;}#sk-container-id-26 div.sk-parallel-item:only-child::after {width: 0;}#sk-container-id-26 div.sk-dashed-wrapped {border: 1px dashed gray;margin: 0 0.4em 0.5em 0.4em;box-sizing: border-box;padding-bottom: 0.4em;background-color: white;}#sk-container-id-26 div.sk-label label {font-family: monospace;font-weight: bold;display: inline-block;line-height: 1.2em;}#sk-container-id-26 div.sk-label-container {text-align: center;}#sk-container-id-26 div.sk-container {/* jupyter's `normalize.less` sets `[hidden] { display: none; }` but bootstrap.min.css set `[hidden] { display: none !important; }` so we also need the `!important` here to be able to override the default hidden behavior on the sphinx rendered scikit-learn.org. See: https://github.com/scikit-learn/scikit-learn/issues/21755 */display: inline-block !important;position: relative;}#sk-container-id-26 div.sk-text-repr-fallback {display: none;}</style><div id=\"sk-container-id-26\" class=\"sk-top-container\"><div class=\"sk-text-repr-fallback\"><pre>XGBClassifier(base_score=None, booster=None, callbacks=None,\n",
       "              colsample_bylevel=None, colsample_bynode=None,\n",
       "              colsample_bytree=0.9, device=None, early_stopping_rounds=None,\n",
       "              enable_categorical=False, eval_metric=None, feature_types=None,\n",
       "              gamma=0.1, grow_policy=None, importance_type=None,\n",
       "              interaction_constraints=None, learning_rate=0.01, max_bin=None,\n",
       "              max_cat_threshold=None, max_cat_to_onehot=None,\n",
       "              max_delta_step=None, max_depth=9, max_leaves=None,\n",
       "              min_child_weight=6, missing=nan, monotone_constraints=None,\n",
       "              multi_strategy=None, n_estimators=300, n_jobs=None,\n",
       "              num_parallel_tree=None, objective=&#x27;multi:softprob&#x27;, ...)</pre><b>In a Jupyter environment, please rerun this cell to show the HTML representation or trust the notebook. <br />On GitHub, the HTML representation is unable to render, please try loading this page with nbviewer.org.</b></div><div class=\"sk-container\" hidden><div class=\"sk-item\"><div class=\"sk-estimator sk-toggleable\"><input class=\"sk-toggleable__control sk-hidden--visually\" id=\"sk-estimator-id-26\" type=\"checkbox\" checked><label for=\"sk-estimator-id-26\" class=\"sk-toggleable__label sk-toggleable__label-arrow\">XGBClassifier</label><div class=\"sk-toggleable__content\"><pre>XGBClassifier(base_score=None, booster=None, callbacks=None,\n",
       "              colsample_bylevel=None, colsample_bynode=None,\n",
       "              colsample_bytree=0.9, device=None, early_stopping_rounds=None,\n",
       "              enable_categorical=False, eval_metric=None, feature_types=None,\n",
       "              gamma=0.1, grow_policy=None, importance_type=None,\n",
       "              interaction_constraints=None, learning_rate=0.01, max_bin=None,\n",
       "              max_cat_threshold=None, max_cat_to_onehot=None,\n",
       "              max_delta_step=None, max_depth=9, max_leaves=None,\n",
       "              min_child_weight=6, missing=nan, monotone_constraints=None,\n",
       "              multi_strategy=None, n_estimators=300, n_jobs=None,\n",
       "              num_parallel_tree=None, objective=&#x27;multi:softprob&#x27;, ...)</pre></div></div></div></div></div>"
      ],
      "text/plain": [
       "XGBClassifier(base_score=None, booster=None, callbacks=None,\n",
       "              colsample_bylevel=None, colsample_bynode=None,\n",
       "              colsample_bytree=0.9, device=None, early_stopping_rounds=None,\n",
       "              enable_categorical=False, eval_metric=None, feature_types=None,\n",
       "              gamma=0.1, grow_policy=None, importance_type=None,\n",
       "              interaction_constraints=None, learning_rate=0.01, max_bin=None,\n",
       "              max_cat_threshold=None, max_cat_to_onehot=None,\n",
       "              max_delta_step=None, max_depth=9, max_leaves=None,\n",
       "              min_child_weight=6, missing=nan, monotone_constraints=None,\n",
       "              multi_strategy=None, n_estimators=300, n_jobs=None,\n",
       "              num_parallel_tree=None, objective='multi:softprob', ...)"
      ]
     },
     "execution_count": 194,
     "metadata": {},
     "output_type": "execute_result"
    }
   ],
   "source": [
    "best_params = random_search.best_params_\n",
    "model = XGBClassifier(**best_params, random_state=23)\n",
    "model.fit(X, y)"
   ]
  },
  {
   "cell_type": "code",
   "execution_count": 183,
   "id": "37efd5dd",
   "metadata": {},
   "outputs": [
    {
     "name": "stdout",
     "output_type": "stream",
     "text": [
      "\n",
      "Accuracy: 0.6210902591599643\n",
      "              precision    recall  f1-score   support\n",
      "\n",
      "           0       0.57      0.19      0.29        21\n",
      "           1       0.60      0.58      0.59       128\n",
      "           2       0.58      0.62      0.60       104\n",
      "           3       0.54      0.50      0.52        28\n",
      "           4       0.60      0.50      0.55        24\n",
      "           5       0.70      0.32      0.44        22\n",
      "           6       0.57      0.66      0.61        44\n",
      "           7       0.65      0.66      0.65        70\n",
      "           8       0.74      0.68      0.71        25\n",
      "           9       0.87      0.90      0.88       183\n",
      "          10       0.46      0.46      0.46       111\n",
      "          11       0.50      0.29      0.37        31\n",
      "          12       0.38      0.41      0.39       156\n",
      "          13       0.78      0.74      0.76        19\n",
      "          14       0.75      0.85      0.80       146\n",
      "          15       0.40      0.29      0.33         7\n",
      "\n",
      "    accuracy                           0.62      1119\n",
      "   macro avg       0.60      0.54      0.56      1119\n",
      "weighted avg       0.62      0.62      0.62      1119\n",
      "\n"
     ]
    }
   ],
   "source": [
    "y_pred = model.predict(X_test)\n",
    "accuracy = accuracy_score(y_test, y_pred)\n",
    "print(\"\\nAccuracy:\", accuracy)\n",
    "print(classification_report(y_test, y_pred))"
   ]
  },
  {
   "cell_type": "code",
   "execution_count": 188,
   "id": "5d71ca51",
   "metadata": {},
   "outputs": [
    {
     "name": "stdout",
     "output_type": "stream",
     "text": [
      "\n",
      "Confusion Matrix:\n"
     ]
    },
    {
     "data": {
      "text/plain": [
       "<Axes: >"
      ]
     },
     "execution_count": 188,
     "metadata": {},
     "output_type": "execute_result"
    },
    {
     "data": {
      "image/png": "[encoded data removed]",
      "text/plain": [
       "<Figure size 640x480 with 2 Axes>"
      ]
     },
     "metadata": {},
     "output_type": "display_data"
    }
   ],
   "source": [
    "import seaborn as sns\n",
    "import matplotlib.pyplot as plt\n",
    "\n",
    "predicted = cross_val_predict(model, X, y, cv=5)\n",
    "conf_matrix = confusion_matrix(y, predicted)\n",
    "\n",
    "print(\"\\nConfusion Matrix:\")\n",
    "sns.heatmap(conf_matrix, annot=True, fmt='g')"
   ]
  },
  {
   "cell_type": "code",
   "execution_count": 189,
   "id": "db49e10f",
   "metadata": {},
   "outputs": [
    {
     "data": {
      "image/png": "[encoded data removed]",
      "text/plain": [
       "<Figure size 640x480 with 1 Axes>"
      ]
     },
     "metadata": {},
     "output_type": "display_data"
    }
   ],
   "source": [
    "importances = model.feature_importances_\n",
    "feature_names = X.columns\n",
    "# feature_names = [f\"feature {i}\" for i in range(X.shape[1])]\n",
    "forest_importances = pd.Series(importances, index=feature_names)\n",
    "\n",
    "fig, ax = plt.subplots()\n",
    "forest_importances.plot.bar(ax=ax)\n",
    "ax.set_title(\"Feature importances using XGBoost\")\n",
    "ax.set_ylabel(\"Mean decrease in impurity\")\n",
    "fig.tight_layout()\n",
    "\n",
    "plt.show()"
   ]
  },
  {
   "cell_type": "code",
   "execution_count": 195,
   "id": "487bc04e",
   "metadata": {},
   "outputs": [
    {
     "name": "stdout",
     "output_type": "stream",
     "text": [
      "(2470,)\n",
      "(2470, 14)\n"
     ]
    },
    {
     "name": "stderr",
     "output_type": "stream",
     "text": [
      "C:\\Users\\User\\AppData\\Local\\Temp\\ipykernel_17364\\3314366978.py:2: SettingWithCopyWarning: \n",
      "A value is trying to be set on a copy of a slice from a DataFrame.\n",
      "Try using .loc[row_indexer,col_indexer] = value instead\n",
      "\n",
      "See the caveats in the documentation: https://pandas.pydata.org/pandas-docs/stable/user_guide/indexing.html#returning-a-view-versus-a-copy\n",
      "  X['movie'] = movie_encoder.fit_transform(test_full_data['movie'])\n"
     ]
    }
   ],
   "source": [
    "X = test_full_data[['scene_id', 'start', 'end', 'movie', 'rel_id_loc', 'rel_t_loc', 'is_prot_appear']]\n",
    "X['movie'] = movie_encoder.fit_transform(test_full_data['movie'])\n",
    "y_pred = model.predict(X)\n",
    "y_pred_labels = label_encoder.inverse_transform(y_pred)\n",
    "print(y_pred_labels.shape)\n",
    "print(test_full_data.shape)"
   ]
  },
  {
   "cell_type": "markdown",
   "id": "6e2c67c4-3543-4bf9-959d-5383d5bcf6b1",
   "metadata": {},
   "source": [
    "## Text classification using BERT (Fourth Model)"
   ]
  },
  {
   "cell_type": "markdown",
   "id": "226b84f8-9543-4721-a87b-afc4ab827853",
   "metadata": {},
   "source": [
    "### Helper functions"
   ]
  },
  {
   "cell_type": "code",
   "execution_count": 27,
   "id": "72ac5d94-94cc-4be5-981a-2e50214397f9",
   "metadata": {},
   "outputs": [],
   "source": [
    "unique_labels = train_full_data['label'].unique()\n",
    "label_to_int_mapping = {label: i for i, label in enumerate(unique_labels)}\n",
    "int_to_label_mapping = {i: label for label, i in label_to_int_mapping.items()}\n",
    "\n",
    "def map_label_to_int(label):\n",
    "    return label_to_int_mapping[label]\n",
    "\n",
    "\n",
    "def map_label_from_int(label):\n",
    "    return int_to_label_mapping[label] "
   ]
  },
  {
   "cell_type": "code",
   "execution_count": 28,
   "id": "a0932200-b79c-4e09-9ea2-aef8836dcee3",
   "metadata": {},
   "outputs": [],
   "source": [
    "def transform_subtitles(subtitles, df):\n",
    "    transformed_subtitles = []\n",
    "    for movie_name, scenes in subtitles.items():\n",
    "        for scene_id, text in scenes.items():\n",
    "            # Get the label from train_full_data based on movie and scene_id\n",
    "            label = df[(df['movie'] == movie_name) & (df['scene_id'] == scene_id)]['label'].values[0]\n",
    "            label = map_label_to_int(label)\n",
    "            \n",
    "            result = {'text': text, 'label': label}\n",
    "            transformed_subtitles.append(result)\n",
    "    \n",
    "    return transformed_subtitles\n",
    "\n",
    "\n",
    "def transform_validation_subtitles(subtitles, df):\n",
    "    transformed_subtitles = []\n",
    "    for movie_name, scenes in subtitles.items():\n",
    "        for scene_id, text in scenes.items():\n",
    "            result = {'text': text}\n",
    "            transformed_subtitles.append(result)\n",
    "    \n",
    "    return transformed_subtitles\n",
    "    \n",
    "\n",
    "def print_head_transformed_subtitles(subtiltes):\n",
    "    for i in range(min(5, len(subtiltes))):\n",
    "        print(subtiltes[i])"
   ]
  },
  {
   "cell_type": "code",
   "execution_count": 29,
   "id": "fe4be722-feb7-4bce-810b-022f90cac294",
   "metadata": {},
   "outputs": [
    {
     "name": "stdout",
     "output_type": "stream",
     "text": [
      "Ignored subtitltes: 3018\n"
     ]
    }
   ],
   "source": [
    "train_subtitles = associate_scenes_with_subtitles_extra_info(train_full_data, train_movie_subtitles, train_movie_scenes_count)\n",
    "clean_train_subtitles = clean_subtitles_only_words(train_subtitles)\n",
    "train_transformed_subtitles = transform_subtitles(clean_train_subtitles, train_full_data)"
   ]
  },
  {
   "cell_type": "code",
   "execution_count": 30,
   "id": "aa321bf4-8951-4c93-9877-4f4171f18a2e",
   "metadata": {},
   "outputs": [],
   "source": [
    "# train_transformed_subtitles"
   ]
  },
  {
   "cell_type": "code",
   "execution_count": 31,
   "id": "76971eb2-a85f-4571-a5b1-47e85ac57ba0",
   "metadata": {},
   "outputs": [
    {
     "name": "stdout",
     "output_type": "stream",
     "text": [
      "Ignored subtitltes: 3165\n"
     ]
    }
   ],
   "source": [
    "validation_subtitles = associate_scenes_with_subtitles_extra_info(test_full_data, test_movie_subtitles, test_movie_scenes_count)\n",
    "clean_validation_subtitles = clean_subtitles_only_words(validation_subtitles)\n",
    "validation_transformed_subtitles = transform_validation_subtitles(clean_validation_subtitles, test_full_data)"
   ]
  },
  {
   "cell_type": "code",
   "execution_count": 51,
   "id": "bd8c9331-6143-467f-8705-73444fc9e89c",
   "metadata": {},
   "outputs": [],
   "source": [
    "from sklearn.model_selection import train_test_split\n",
    "\n",
    "# Extract 'text' and 'label' from each dictionary\n",
    "texts = [item['text'] for item in train_transformed_subtitles]\n",
    "labels = [item['label'] for item in train_transformed_subtitles]\n",
    "\n",
    "train_texts, test_texts, train_labels, test_labels = train_test_split(texts, labels, test_size=0.3, random_state=42)\n",
    "\n",
    "# # Create training and testing datasets\n",
    "train_data = [{'text': text, 'label': label} for text, label in zip(train_texts, train_labels)]\n",
    "test_data = [{'text': text, 'label': label} for text, label in zip(test_texts, test_labels)]"
   ]
  },
  {
   "cell_type": "code",
   "execution_count": 52,
   "id": "d6011374-e926-47fd-bab2-bf9c7170ae84",
   "metadata": {},
   "outputs": [
    {
     "name": "stdout",
     "output_type": "stream",
     "text": [
      "Dataset({\n",
      "    features: ['text', 'label'],\n",
      "    num_rows: 2610\n",
      "})\n",
      "Dataset({\n",
      "    features: ['text', 'label'],\n",
      "    num_rows: 1119\n",
      "})\n",
      "Dataset({\n",
      "    features: ['text'],\n",
      "    num_rows: 2470\n",
      "})\n"
     ]
    }
   ],
   "source": [
    "from datasets import Dataset\n",
    "train_dataset = Dataset.from_list(train_data)\n",
    "test_dataset = Dataset.from_list(test_data)\n",
    "validation_dataset = Dataset.from_list(validation_transformed_subtitles)\n",
    "\n",
    "print(train_dataset)\n",
    "print(test_dataset)\n",
    "print(validation_dataset)"
   ]
  },
  {
   "cell_type": "code",
   "execution_count": 72,
   "id": "a78ec02d-38fc-4256-8da8-b295f4011680",
   "metadata": {},
   "outputs": [
    {
     "name": "stderr",
     "output_type": "stream",
     "text": [
      "Some weights of RobertaForSequenceClassification were not initialized from the model checkpoint at roberta-base and are newly initialized: ['classifier.dense.bias', 'classifier.dense.weight', 'classifier.out_proj.weight', 'classifier.out_proj.bias']\n",
      "You should probably TRAIN this model on a down-stream task to be able to use it for predictions and inference.\n"
     ]
    }
   ],
   "source": [
    "from transformers import AutoModelForSequenceClassification, TrainingArguments, Trainer, AutoTokenizer\n",
    "\n",
    "def choose_model(name):\n",
    "    if name == \"distilbert\": \n",
    "        tokenizer = AutoTokenizer.from_pretrained(\"distilbert-base-uncased\")\n",
    "        model = AutoModelForSequenceClassification.from_pretrained(\"distilbert-base-uncased\", num_labels=16)\n",
    "    elif name == \"bert\":\n",
    "        tokenizer = AutoTokenizer.from_pretrained(\"bert-base-uncased\")\n",
    "        model = AutoModelForSequenceClassification.from_pretrained(\"bert-base-uncased\", num_labels=16)\n",
    "    elif name == \"roberta\":\n",
    "        tokenizer = AutoTokenizer.from_pretrained(\"roberta-base\")\n",
    "        model = AutoModelForSequenceClassification.from_pretrained(\"roberta-base\", num_labels=16)\n",
    "    elif name == \"roberta-large\":\n",
    "        tokenizer = AutoTokenizer.from_pretrained(\"roberta-large\")\n",
    "        model = AutoModelForSequenceClassification.from_pretrained(\"roberta-large\", num_labels=16)\n",
    "    else:\n",
    "        tokenizer = AutoTokenizer.from_pretrained(\"distilbert-base-uncased\")\n",
    "        model = AutoModelForSequenceClassification.from_pretrained(\"distilbert-base-uncased\", num_labels=16)\n",
    "\n",
    "    return model, tokenizer\n",
    "\n",
    "model, tokenizer = choose_model(\"roberta\")"
   ]
  },
  {
   "cell_type": "code",
   "execution_count": 73,
   "id": "2e3e3f68-1fe4-4878-9454-fa39cc4bf3b3",
   "metadata": {},
   "outputs": [],
   "source": [
    "import nltk\n",
    "from nltk.corpus import stopwords\n",
    "\n",
    "# nltk.download('stopwords')"
   ]
  },
  {
   "cell_type": "code",
   "execution_count": 74,
   "id": "7236c0f2-4fee-44fb-a847-2cae1f6b902d",
   "metadata": {},
   "outputs": [],
   "source": [
    "# print(stop_words)"
   ]
  },
  {
   "cell_type": "code",
   "execution_count": 75,
   "id": "b3d9694f-4c62-4fec-be81-36499cacffc0",
   "metadata": {},
   "outputs": [],
   "source": [
    "stop_words = set(stopwords.words('english'))\n",
    "\n",
    "def remove_stopwords(text):\n",
    "    words = text.split()\n",
    "    filtered_words = [word for word in words if word.lower() not in stop_words]\n",
    "    return ' '.join(filtered_words)\n",
    "\n",
    "def preprocess_function(examples):\n",
    "    examples[\"text\"] = [remove_stopwords(text) for text in examples[\"text\"]]\n",
    "    tokenized_text = tokenizer(examples[\"text\"], truncation=True)\n",
    "    \n",
    "    return tokenized_text"
   ]
  },
  {
   "cell_type": "code",
   "execution_count": 76,
   "id": "2e215c3d-c652-4d9b-8656-b3ef83644c89",
   "metadata": {},
   "outputs": [
    {
     "data": {
      "application/vnd.jupyter.widget-view+json": {
       "model_id": "c61b27c8e422414e99d983f949dc5b10",
       "version_major": 2,
       "version_minor": 0
      },
      "text/plain": [
       "Map:   0%|          | 0/2610 [00:00<?, ? examples/s]"
      ]
     },
     "metadata": {},
     "output_type": "display_data"
    },
    {
     "data": {
      "application/vnd.jupyter.widget-view+json": {
       "model_id": "64f423f41e244b7dbe2d372f3ddc486d",
       "version_major": 2,
       "version_minor": 0
      },
      "text/plain": [
       "Map:   0%|          | 0/1119 [00:00<?, ? examples/s]"
      ]
     },
     "metadata": {},
     "output_type": "display_data"
    },
    {
     "data": {
      "application/vnd.jupyter.widget-view+json": {
       "model_id": "c8c459b6974a462c947d95d46f30618b",
       "version_major": 2,
       "version_minor": 0
      },
      "text/plain": [
       "Map:   0%|          | 0/2470 [00:00<?, ? examples/s]"
      ]
     },
     "metadata": {},
     "output_type": "display_data"
    }
   ],
   "source": [
    "tokenized_train_dataset = train_dataset.map(preprocess_function, batched=True)\n",
    "tokenized_train_dataset.set_format(type='torch', columns=['input_ids', 'attention_mask', 'label'])\n",
    "\n",
    "tokenized_test_dataset = test_dataset.map(preprocess_function, batched=True)\n",
    "tokenized_test_dataset.set_format(type='torch', columns=['input_ids', 'attention_mask', 'label'])\n",
    "\n",
    "tokenized_validation_dataset = validation_dataset.map(preprocess_function, batched=True)\n",
    "tokenized_validation_dataset.set_format(type='torch', columns=['input_ids', 'attention_mask'])"
   ]
  },
  {
   "cell_type": "code",
   "execution_count": 77,
   "id": "dbb940a6-e281-46c5-8c46-420f09ede81e",
   "metadata": {},
   "outputs": [
    {
     "data": {
      "text/plain": [
       "Dataset({\n",
       "    features: ['text', 'label', 'input_ids', 'attention_mask'],\n",
       "    num_rows: 1119\n",
       "})"
      ]
     },
     "execution_count": 77,
     "metadata": {},
     "output_type": "execute_result"
    }
   ],
   "source": [
    "tokenized_test_dataset"
   ]
  },
  {
   "cell_type": "code",
   "execution_count": 78,
   "id": "31db1e78-cdac-467d-ad29-0de83423c66c",
   "metadata": {},
   "outputs": [],
   "source": [
    "from transformers import DataCollatorWithPadding\n",
    "data_collator = DataCollatorWithPadding(tokenizer=tokenizer)"
   ]
  },
  {
   "cell_type": "code",
   "execution_count": 79,
   "id": "ce2b0945-c1cd-4f70-89d0-c93ec711eb01",
   "metadata": {},
   "outputs": [],
   "source": [
    "import evaluate\n",
    "metric = evaluate.load('accuracy')\n",
    "\n",
    "def compute_metrics(eval_pred):\n",
    "    predictions, labels = eval_pred\n",
    "    predictions = np.argmax(predictions, axis=1)\n",
    "    \n",
    "    return metric.compute(predictions=predictions, references=labels)"
   ]
  },
  {
   "cell_type": "code",
   "execution_count": 81,
   "id": "e072f23a-1eb2-45a0-b872-a8efbda6caac",
   "metadata": {},
   "outputs": [
    {
     "data": {
      "text/html": [
       "\n",
       "    <div>\n",
       "      \n",
       "      <progress value='1956' max='1956' style='width:300px; height:20px; vertical-align: middle;'></progress>\n",
       "      [1956/1956 1:23:45, Epoch 11/12]\n",
       "    </div>\n",
       "    <table border=\"1\" class=\"dataframe\">\n",
       "  <thead>\n",
       " <tr style=\"text-align: left;\">\n",
       "      <th>Step</th>\n",
       "      <th>Training Loss</th>\n",
       "    </tr>\n",
       "  </thead>\n",
       "  <tbody>\n",
       "    <tr>\n",
       "      <td>100</td>\n",
       "      <td>1.543600</td>\n",
       "    </tr>\n",
       "    <tr>\n",
       "      <td>200</td>\n",
       "      <td>1.384400</td>\n",
       "    </tr>\n",
       "    <tr>\n",
       "      <td>300</td>\n",
       "      <td>1.466800</td>\n",
       "    </tr>\n",
       "    <tr>\n",
       "      <td>400</td>\n",
       "      <td>1.331800</td>\n",
       "    </tr>\n",
       "    <tr>\n",
       "      <td>500</td>\n",
       "      <td>1.294800</td>\n",
       "    </tr>\n",
       "    <tr>\n",
       "      <td>600</td>\n",
       "      <td>1.214900</td>\n",
       "    </tr>\n",
       "    <tr>\n",
       "      <td>700</td>\n",
       "      <td>1.226800</td>\n",
       "    </tr>\n",
       "    <tr>\n",
       "      <td>800</td>\n",
       "      <td>1.154800</td>\n",
       "    </tr>\n",
       "    <tr>\n",
       "      <td>900</td>\n",
       "      <td>1.105900</td>\n",
       "    </tr>\n",
       "    <tr>\n",
       "      <td>1000</td>\n",
       "      <td>1.088900</td>\n",
       "    </tr>\n",
       "    <tr>\n",
       "      <td>1100</td>\n",
       "      <td>1.036100</td>\n",
       "    </tr>\n",
       "    <tr>\n",
       "      <td>1200</td>\n",
       "      <td>1.008900</td>\n",
       "    </tr>\n",
       "    <tr>\n",
       "      <td>1300</td>\n",
       "      <td>1.019400</td>\n",
       "    </tr>\n",
       "    <tr>\n",
       "      <td>1400</td>\n",
       "      <td>0.951400</td>\n",
       "    </tr>\n",
       "    <tr>\n",
       "      <td>1500</td>\n",
       "      <td>0.969800</td>\n",
       "    </tr>\n",
       "    <tr>\n",
       "      <td>1600</td>\n",
       "      <td>0.953000</td>\n",
       "    </tr>\n",
       "    <tr>\n",
       "      <td>1700</td>\n",
       "      <td>0.934500</td>\n",
       "    </tr>\n",
       "    <tr>\n",
       "      <td>1800</td>\n",
       "      <td>0.871500</td>\n",
       "    </tr>\n",
       "    <tr>\n",
       "      <td>1900</td>\n",
       "      <td>0.879100</td>\n",
       "    </tr>\n",
       "  </tbody>\n",
       "</table><p>"
      ],
      "text/plain": [
       "<IPython.core.display.HTML object>"
      ]
     },
     "metadata": {},
     "output_type": "display_data"
    },
    {
     "name": "stderr",
     "output_type": "stream",
     "text": [
      "Checkpoint destination directory ./results\\checkpoint-500 already exists and is non-empty.Saving will proceed but saved results may be invalid.\n",
      "Checkpoint destination directory ./results\\checkpoint-1000 already exists and is non-empty.Saving will proceed but saved results may be invalid.\n",
      "Checkpoint destination directory ./results\\checkpoint-1500 already exists and is non-empty.Saving will proceed but saved results may be invalid.\n"
     ]
    },
    {
     "data": {
      "text/plain": [
       "TrainOutput(global_step=1956, training_loss=1.1207548328703898, metrics={'train_runtime': 5026.0688, 'train_samples_per_second': 6.232, 'train_steps_per_second': 0.389, 'total_flos': 2428540715529216.0, 'train_loss': 1.1207548328703898, 'epoch': 11.96})"
      ]
     },
     "execution_count": 81,
     "metadata": {},
     "output_type": "execute_result"
    }
   ],
   "source": [
    "training_args = TrainingArguments(\n",
    "    output_dir=\"./results\",\n",
    "    learning_rate=1e-5,\n",
    "    per_device_train_batch_size=8,\n",
    "    per_device_eval_batch_size=8,\n",
    "    gradient_accumulation_steps=2,\n",
    "    num_train_epochs=12,\n",
    "    weight_decay=0.01,\n",
    "    logging_steps=100\n",
    ")\n",
    "\n",
    "trainer = Trainer(\n",
    "    model=model,\n",
    "    args=training_args,\n",
    "    train_dataset=tokenized_train_dataset,\n",
    "    eval_dataset=tokenized_test_dataset,\n",
    "    tokenizer=tokenizer,\n",
    "    data_collator=data_collator,\n",
    "    compute_metrics=compute_metrics\n",
    ")\n",
    "\n",
    "trainer.train()"
   ]
  },
  {
   "cell_type": "code",
   "execution_count": 82,
   "id": "a3d5b4c5-d3e4-4a74-baec-cbc0da9f002b",
   "metadata": {},
   "outputs": [
    {
     "data": {
      "text/html": [
       "\n",
       "    <div>\n",
       "      \n",
       "      <progress value='407' max='140' style='width:300px; height:20px; vertical-align: middle;'></progress>\n",
       "      [140/140 02:55]\n",
       "    </div>\n",
       "    "
      ],
      "text/plain": [
       "<IPython.core.display.HTML object>"
      ]
     },
     "metadata": {},
     "output_type": "display_data"
    },
    {
     "data": {
      "text/plain": [
       "{'eval_loss': 1.1958348751068115,\n",
       " 'eval_accuracy': 0.5960679177837355,\n",
       " 'eval_runtime': 65.5152,\n",
       " 'eval_samples_per_second': 17.08,\n",
       " 'eval_steps_per_second': 2.137,\n",
       " 'epoch': 11.96}"
      ]
     },
     "execution_count": 82,
     "metadata": {},
     "output_type": "execute_result"
    }
   ],
   "source": [
    "trainer.evaluate()"
   ]
  },
  {
   "cell_type": "code",
   "execution_count": null,
   "id": "953c6a1f-dfd1-4fb6-afb4-8356414e67a1",
   "metadata": {},
   "outputs": [],
   "source": [
    "predictions = trainer.predict(tokenized_validation_dataset)"
   ]
  },
  {
   "cell_type": "code",
   "execution_count": null,
   "id": "ebe4e4ca-7999-4896-ac82-63f7ba6184a7",
   "metadata": {},
   "outputs": [],
   "source": [
    "predicted_probabilities = predictions.predictions\n",
    "predicted_label_ids = np.argmax(predicted_probabilities, axis=-1)\n",
    "\n",
    "label_predictions = [map_label_from_int(label) for label in predicted_label_ids]\n",
    "print(f\"first 10 predictions: {label_predictions[:10]} \\nlast 10 predictions: {label_predictions[-10:]}\")"
   ]
  },
  {
   "cell_type": "markdown",
   "id": "49408d5e",
   "metadata": {},
   "source": [
    "## Result data"
   ]
  },
  {
   "cell_type": "code",
   "execution_count": null,
   "id": "5406d67b-dde1-4782-82b4-af0e07c6302a",
   "metadata": {},
   "outputs": [],
   "source": [
    "result_df = pd.DataFrame(columns=['Id', 'Label'])\n",
    "\n",
    "def fill_result_df(full_data, movies, movies_ids, predictions):\n",
    "    for idx, scene in full_data.iterrows():\n",
    "        movie_name = scene['movie']\n",
    "        movie_index = movies.index(movie_name)\n",
    "        movie_id = movies_ids[movie_index]\n",
    "        scene_id = scene['scene_id']\n",
    "        movie_scene_id = f\"{movie_id}_{scene_id}\"\n",
    "\n",
    "        pred_label = predictions[idx]\n",
    "        result_df.loc[idx] = [movie_scene_id, pred_label]"
   ]
  },
  {
   "cell_type": "code",
   "execution_count": null,
   "id": "7f2f9776",
   "metadata": {},
   "outputs": [],
   "source": [
    "# Fourth model\n",
    "fill_result_df(test_full_data, test_movies, test_movies_ids, label_predictions)\n",
    "# First model\n",
    "# fill_result_df(test_full_data, test_movies, test_movies_ids, y_pred_labels)\n",
    "\n",
    "result_df.head(1)"
   ]
  },
  {
   "cell_type": "code",
   "execution_count": null,
   "id": "c306510a",
   "metadata": {},
   "outputs": [],
   "source": [
    "result_df.to_csv('output_roberta_12.csv', index=False)"
   ]
  },
  {
   "cell_type": "markdown",
   "id": "8693669f-3972-4b60-9e3d-37efcef17888",
   "metadata": {},
   "source": [
    "## Save model"
   ]
  },
  {
   "cell_type": "code",
   "execution_count": 68,
   "id": "a97a9533-ceb5-40cb-8313-32123e578052",
   "metadata": {},
   "outputs": [],
   "source": [
    "from transformers import BertConfig\n",
    "\n",
    "folder_name = \"models\"\n",
    "\n",
    "def save_model(model, tokenizer, name):\n",
    "    model_folder_path = f\"./{folder_name}/{name}\" \n",
    "    model.save_model(model_folder_path)\n",
    "    tokenizer.save_pretrained(model_folder_path)\n",
    "    config = BertConfig.from_pretrained(model_folder_path)\n",
    "    config.save_pretrained(model_folder_path)\n",
    "    \n",
    "save_model(trainer, tokenizer, \"model_reoberta_12\")"
   ]
  },
  {
   "cell_type": "markdown",
   "id": "53bc04cd-1d60-4f0a-b6fc-8457d7bfac7f",
   "metadata": {},
   "source": [
    "## Clean memory"
   ]
  },
  {
   "cell_type": "code",
   "execution_count": 61,
   "id": "a3ee0e77-7895-45be-9e93-6d42861d4a00",
   "metadata": {},
   "outputs": [],
   "source": [
    "import torch\n",
    "torch.cuda.empty_cache()"
   ]
  },
  {
   "cell_type": "code",
   "execution_count": 62,
   "id": "c07906c6-d8af-45bb-ad19-95b3f2bb02c2",
   "metadata": {},
   "outputs": [
    {
     "data": {
      "text/plain": [
       "3813"
      ]
     },
     "execution_count": 62,
     "metadata": {},
     "output_type": "execute_result"
    }
   ],
   "source": [
    "import gc\n",
    "gc.collect()"
   ]
  },
  {
   "cell_type": "markdown",
   "id": "bf44d598-d978-4195-a66c-a4d749c3cfa5",
   "metadata": {
    "jp-MarkdownHeadingCollapsed": true
   },
   "source": [
    "## Save combined clean data in file"
   ]
  },
  {
   "cell_type": "code",
   "execution_count": 203,
   "id": "bd0ad960-5f5e-4710-8361-0c38f8424d8a",
   "metadata": {},
   "outputs": [
    {
     "name": "stdout",
     "output_type": "stream",
     "text": [
      "Combined text file saved successfully.\n"
     ]
    }
   ],
   "source": [
    "output_file_path = \"output_combined_file.txt\"  # Set your desired output file\n",
    "\n",
    "with open(output_file_path, 'w', encoding='utf-8') as output_file:\n",
    "    for movie, scenes in clean_train_movies_scenes_subtitles.items():\n",
    "        output_file.write(f\"======= {movie} =========\\n\\n\")\n",
    "        output_file.write(str(scenes))\n",
    "\n",
    "print(\"Combined text file saved successfully.\")\n"
   ]
  },
  {
   "cell_type": "code",
   "execution_count": 202,
   "id": "52291fce-b96a-4304-9ab7-8a85c230ac4a",
   "metadata": {},
   "outputs": [
    {
     "name": "stdout",
     "output_type": "stream",
     "text": [
      "Combined text file saved successfully.\n"
     ]
    }
   ],
   "source": [
    "output_file_path = \"output_combined_file2.txt\"  # Set your desired output file\n",
    "\n",
    "with open(output_file_path, 'w', encoding='utf-8') as output_file:\n",
    "    for movie, scenes in clean_train_subtitles.items():\n",
    "        output_file.write(f\"======= {movie} =========\\n\\n\")\n",
    "        output_file.write(str(scenes))\n",
    "\n",
    "print(\"Combined text file saved successfully.\")\n"
   ]
  },
  {
   "cell_type": "code",
   "execution_count": null,
   "id": "0bf89a13-37d5-4024-bb7f-d456a740bc4e",
   "metadata": {},
   "outputs": [],
   "source": []
  }
 ],
 "metadata": {
  "kernelspec": {
   "display_name": "Python 3 (ipykernel)",
   "language": "python",
   "name": "python3"
  },
  "language_info": {
   "codemirror_mode": {
    "name": "ipython",
    "version": 3
   },
   "file_extension": ".py",
   "mimetype": "text/x-python",
   "name": "python",
   "nbconvert_exporter": "python",
   "pygments_lexer": "ipython3",
   "version": "3.11.5"
  }
 },
 "nbformat": 4,
 "nbformat_minor": 5
}
