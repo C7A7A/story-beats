{
 "cells": [
  {
   "cell_type": "markdown",
   "id": "e4750b17-3e17-4bea-ac92-0886ca139561",
   "metadata": {},
   "source": [
    "## Imports and global variables"
   ]
  },
  {
   "cell_type": "code",
   "execution_count": 1,
   "id": "1639528a-1137-4270-8c2b-b3ef481c427a",
   "metadata": {},
   "outputs": [],
   "source": [
    "import os\n",
    "import pandas as pd\n",
    "import numpy as np"
   ]
  },
  {
   "cell_type": "code",
   "execution_count": 2,
   "id": "d4526c69-03c4-4a09-a494-a3f00d9c2fb4",
   "metadata": {},
   "outputs": [],
   "source": [
    "TIMESTAMPS_PATH = 'train/train/scene_timestamps'\n",
    "FEATURES_PATH = 'train/train/features'\n",
    "LABELS_PATH = 'train/train/labels'\n",
    "SUBTITLES_PATH = 'train/train/subtitles'"
   ]
  },
  {
   "cell_type": "markdown",
   "id": "13e2e1c0-23af-428c-8112-10f7e0d6806b",
   "metadata": {},
   "source": [
    "## Load timestamps"
   ]
  },
  {
   "cell_type": "code",
   "execution_count": 3,
   "id": "01c262fc-85fd-4f5d-8bd8-2b985c281b6c",
   "metadata": {},
   "outputs": [],
   "source": [
    "if os.path.exists(TIMESTAMPS_PATH):\n",
    "    files = os.listdir(TIMESTAMPS_PATH)\n",
    "\n",
    "    # print(f\"List of files in {TIMESTAMPS_PATH}:\")\n",
    "    # for file in files:\n",
    "        # print(file)"
   ]
  },
  {
   "cell_type": "code",
   "execution_count": 4,
   "id": "f655f126-732d-4091-9b0d-131163ee17c1",
   "metadata": {},
   "outputs": [
    {
     "name": "stdout",
     "output_type": "stream",
     "text": [
      "file name: tt0037884_the lost weekend_timestamps.csv\n",
      "movie name: the lost weekend\n"
     ]
    }
   ],
   "source": [
    "sample_file = files[0]\n",
    "print(f\"file name: {sample_file}\")\n",
    "\n",
    "movie_name = sample_file[10:-15]\n",
    "print(f\"movie name: {movie_name}\")"
   ]
  },
  {
   "cell_type": "code",
   "execution_count": 5,
   "id": "cf19f621-16a6-414a-85b1-7f9fb1c0de97",
   "metadata": {},
   "outputs": [
    {
     "data": {
      "text/html": [
       "<div>\n",
       "<style scoped>\n",
       "    .dataframe tbody tr th:only-of-type {\n",
       "        vertical-align: middle;\n",
       "    }\n",
       "\n",
       "    .dataframe tbody tr th {\n",
       "        vertical-align: top;\n",
       "    }\n",
       "\n",
       "    .dataframe thead th {\n",
       "        text-align: right;\n",
       "    }\n",
       "</style>\n",
       "<table border=\"1\" class=\"dataframe\">\n",
       "  <thead>\n",
       "    <tr style=\"text-align: right;\">\n",
       "      <th></th>\n",
       "      <th>scene_id</th>\n",
       "      <th>start</th>\n",
       "      <th>end</th>\n",
       "      <th>movie</th>\n",
       "    </tr>\n",
       "  </thead>\n",
       "  <tbody>\n",
       "    <tr>\n",
       "      <th>0</th>\n",
       "      <td>0</td>\n",
       "      <td>0.000</td>\n",
       "      <td>213.171</td>\n",
       "      <td>the lost weekend</td>\n",
       "    </tr>\n",
       "    <tr>\n",
       "      <th>1</th>\n",
       "      <td>1</td>\n",
       "      <td>218.760</td>\n",
       "      <td>228.854</td>\n",
       "      <td>the lost weekend</td>\n",
       "    </tr>\n",
       "    <tr>\n",
       "      <th>2</th>\n",
       "      <td>2</td>\n",
       "      <td>240.782</td>\n",
       "      <td>240.782</td>\n",
       "      <td>the lost weekend</td>\n",
       "    </tr>\n",
       "    <tr>\n",
       "      <th>3</th>\n",
       "      <td>3</td>\n",
       "      <td>282.616</td>\n",
       "      <td>282.616</td>\n",
       "      <td>the lost weekend</td>\n",
       "    </tr>\n",
       "    <tr>\n",
       "      <th>4</th>\n",
       "      <td>4</td>\n",
       "      <td>313.563</td>\n",
       "      <td>355.855</td>\n",
       "      <td>the lost weekend</td>\n",
       "    </tr>\n",
       "  </tbody>\n",
       "</table>\n",
       "</div>"
      ],
      "text/plain": [
       "   scene_id    start      end             movie\n",
       "0         0    0.000  213.171  the lost weekend\n",
       "1         1  218.760  228.854  the lost weekend\n",
       "2         2  240.782  240.782  the lost weekend\n",
       "3         3  282.616  282.616  the lost weekend\n",
       "4         4  313.563  355.855  the lost weekend"
      ]
     },
     "execution_count": 5,
     "metadata": {},
     "output_type": "execute_result"
    }
   ],
   "source": [
    "sample_timestamp_path = os.path.join(TIMESTAMPS_PATH, sample_file)\n",
    "\n",
    "timestamps = pd.read_csv(sample_timestamp_path)\n",
    "timestamps.rename(columns={\"Unnamed: 0\": \"scene_id\"}, inplace=True)\n",
    "timestamps[\"movie\"] = movie_name\n",
    "timestamps.head()"
   ]
  },
  {
   "cell_type": "markdown",
   "id": "23fbb423-7daf-4a2a-8a5d-cb6ec94259a9",
   "metadata": {},
   "source": [
    "## Load features"
   ]
  },
  {
   "cell_type": "code",
   "execution_count": 6,
   "id": "a942e6a9-a3b6-4094-af4c-fc5ce5e607d8",
   "metadata": {},
   "outputs": [
    {
     "data": {
      "text/plain": [
       "'tt0037884_the lost weekend.csv'"
      ]
     },
     "execution_count": 6,
     "metadata": {},
     "output_type": "execute_result"
    }
   ],
   "source": [
    "sample_feature_file = sample_file.replace(\"_timestamps\", \"\")\n",
    "sample_feature_file"
   ]
  },
  {
   "cell_type": "code",
   "execution_count": 7,
   "id": "c26694c3-37f2-4535-9fb9-77ef43436730",
   "metadata": {},
   "outputs": [
    {
     "data": {
      "text/html": [
       "<div>\n",
       "<style scoped>\n",
       "    .dataframe tbody tr th:only-of-type {\n",
       "        vertical-align: middle;\n",
       "    }\n",
       "\n",
       "    .dataframe tbody tr th {\n",
       "        vertical-align: top;\n",
       "    }\n",
       "\n",
       "    .dataframe thead th {\n",
       "        text-align: right;\n",
       "    }\n",
       "</style>\n",
       "<table border=\"1\" class=\"dataframe\">\n",
       "  <thead>\n",
       "    <tr style=\"text-align: right;\">\n",
       "      <th></th>\n",
       "      <th>scene_id</th>\n",
       "      <th>s_dur</th>\n",
       "      <th>n_shots</th>\n",
       "      <th>ava_shot_dur</th>\n",
       "      <th>rel_id_loc</th>\n",
       "      <th>rel_t_loc</th>\n",
       "      <th>ava_char_score</th>\n",
       "      <th>is_prot_appear</th>\n",
       "      <th>movie</th>\n",
       "    </tr>\n",
       "  </thead>\n",
       "  <tbody>\n",
       "    <tr>\n",
       "      <th>0</th>\n",
       "      <td>0</td>\n",
       "      <td>218.718333</td>\n",
       "      <td>6</td>\n",
       "      <td>36.453056</td>\n",
       "      <td>0.000000</td>\n",
       "      <td>0.000000</td>\n",
       "      <td>1295.579078</td>\n",
       "      <td>1</td>\n",
       "      <td>the lost weekend</td>\n",
       "    </tr>\n",
       "    <tr>\n",
       "      <th>1</th>\n",
       "      <td>1</td>\n",
       "      <td>21.980333</td>\n",
       "      <td>3</td>\n",
       "      <td>7.326778</td>\n",
       "      <td>0.008403</td>\n",
       "      <td>0.036189</td>\n",
       "      <td>1295.579078</td>\n",
       "      <td>1</td>\n",
       "      <td>the lost weekend</td>\n",
       "    </tr>\n",
       "    <tr>\n",
       "      <th>2</th>\n",
       "      <td>2</td>\n",
       "      <td>41.792333</td>\n",
       "      <td>1</td>\n",
       "      <td>41.792333</td>\n",
       "      <td>0.016807</td>\n",
       "      <td>0.039832</td>\n",
       "      <td>1256.344447</td>\n",
       "      <td>1</td>\n",
       "      <td>the lost weekend</td>\n",
       "    </tr>\n",
       "    <tr>\n",
       "      <th>3</th>\n",
       "      <td>3</td>\n",
       "      <td>30.905333</td>\n",
       "      <td>1</td>\n",
       "      <td>30.905333</td>\n",
       "      <td>0.025210</td>\n",
       "      <td>0.046752</td>\n",
       "      <td>1256.344447</td>\n",
       "      <td>1</td>\n",
       "      <td>the lost weekend</td>\n",
       "    </tr>\n",
       "    <tr>\n",
       "      <th>4</th>\n",
       "      <td>4</td>\n",
       "      <td>53.470333</td>\n",
       "      <td>4</td>\n",
       "      <td>13.367583</td>\n",
       "      <td>0.033613</td>\n",
       "      <td>0.051871</td>\n",
       "      <td>1256.344447</td>\n",
       "      <td>1</td>\n",
       "      <td>the lost weekend</td>\n",
       "    </tr>\n",
       "  </tbody>\n",
       "</table>\n",
       "</div>"
      ],
      "text/plain": [
       "   scene_id       s_dur  n_shots  ava_shot_dur  rel_id_loc  rel_t_loc  \\\n",
       "0         0  218.718333        6     36.453056    0.000000   0.000000   \n",
       "1         1   21.980333        3      7.326778    0.008403   0.036189   \n",
       "2         2   41.792333        1     41.792333    0.016807   0.039832   \n",
       "3         3   30.905333        1     30.905333    0.025210   0.046752   \n",
       "4         4   53.470333        4     13.367583    0.033613   0.051871   \n",
       "\n",
       "   ava_char_score  is_prot_appear             movie  \n",
       "0     1295.579078               1  the lost weekend  \n",
       "1     1295.579078               1  the lost weekend  \n",
       "2     1256.344447               1  the lost weekend  \n",
       "3     1256.344447               1  the lost weekend  \n",
       "4     1256.344447               1  the lost weekend  "
      ]
     },
     "execution_count": 7,
     "metadata": {},
     "output_type": "execute_result"
    }
   ],
   "source": [
    "sample_feature_path = os.path.join(FEATURES_PATH, sample_feature_file)\n",
    "\n",
    "features = pd.read_csv(sample_feature_path)\n",
    "features.rename(columns={\"Unnamed: 0\": \"scene_id\"}, inplace=True)\n",
    "features[\"movie\"] = movie_name\n",
    "features.head()"
   ]
  },
  {
   "cell_type": "markdown",
   "id": "f34d62e0-fcb5-479f-9e9c-7dc55dbad392",
   "metadata": {},
   "source": [
    "## Load labels"
   ]
  },
  {
   "cell_type": "code",
   "execution_count": 57,
   "id": "11d3f539-33f6-4e17-9265-af44f3639837",
   "metadata": {},
   "outputs": [
    {
     "name": "stdout",
     "output_type": "stream",
     "text": [
      "Scenes that are labeled 'None':\n",
      "    scene_id label             movie\n",
      "22        23  None  the lost weekend\n",
      "68        77  None  the lost weekend\n",
      "73        83  None  the lost weekend\n",
      "74        84  None  the lost weekend\n",
      "77        87  None  the lost weekend\n",
      "83        95  None  the lost weekend\n"
     ]
    },
    {
     "data": {
      "text/html": [
       "<div>\n",
       "<style scoped>\n",
       "    .dataframe tbody tr th:only-of-type {\n",
       "        vertical-align: middle;\n",
       "    }\n",
       "\n",
       "    .dataframe tbody tr th {\n",
       "        vertical-align: top;\n",
       "    }\n",
       "\n",
       "    .dataframe thead th {\n",
       "        text-align: right;\n",
       "    }\n",
       "</style>\n",
       "<table border=\"1\" class=\"dataframe\">\n",
       "  <thead>\n",
       "    <tr style=\"text-align: right;\">\n",
       "      <th></th>\n",
       "      <th>scene_id</th>\n",
       "      <th>label</th>\n",
       "      <th>movie</th>\n",
       "    </tr>\n",
       "  </thead>\n",
       "  <tbody>\n",
       "    <tr>\n",
       "      <th>0</th>\n",
       "      <td>0</td>\n",
       "      <td>Opening Image</td>\n",
       "      <td>the lost weekend</td>\n",
       "    </tr>\n",
       "    <tr>\n",
       "      <th>1</th>\n",
       "      <td>1</td>\n",
       "      <td>Opening Image</td>\n",
       "      <td>the lost weekend</td>\n",
       "    </tr>\n",
       "    <tr>\n",
       "      <th>2</th>\n",
       "      <td>2</td>\n",
       "      <td>Set-Up</td>\n",
       "      <td>the lost weekend</td>\n",
       "    </tr>\n",
       "    <tr>\n",
       "      <th>3</th>\n",
       "      <td>3</td>\n",
       "      <td>Set-Up</td>\n",
       "      <td>the lost weekend</td>\n",
       "    </tr>\n",
       "    <tr>\n",
       "      <th>4</th>\n",
       "      <td>4</td>\n",
       "      <td>Theme Stated</td>\n",
       "      <td>the lost weekend</td>\n",
       "    </tr>\n",
       "  </tbody>\n",
       "</table>\n",
       "</div>"
      ],
      "text/plain": [
       "   scene_id          label             movie\n",
       "0         0  Opening Image  the lost weekend\n",
       "1         1  Opening Image  the lost weekend\n",
       "2         2         Set-Up  the lost weekend\n",
       "3         3         Set-Up  the lost weekend\n",
       "4         4   Theme Stated  the lost weekend"
      ]
     },
     "execution_count": 57,
     "metadata": {},
     "output_type": "execute_result"
    }
   ],
   "source": [
    "sample_labels_path = os.path.join(LABELS_PATH, sample_feature_file)\n",
    "\n",
    "# Some scenes are labeled as \"None\"\n",
    "labels = pd.read_csv(sample_labels_path, keep_default_na=False)\n",
    "labels.rename(\n",
    "    columns={\n",
    "        \"Unnamed: 0\": \"scene_id\",\n",
    "        \"0\": \"label\"\n",
    "    }, inplace=True\n",
    ")\n",
    "\n",
    "labels[\"movie\"] = movie_name\n",
    "\n",
    "print(\"Scenes that are labeled 'None':\")\n",
    "print(labels[labels['label'] == 'None'])\n",
    "\n",
    "labels.head()"
   ]
  },
  {
   "cell_type": "markdown",
   "id": "12bf534f-0205-4b3d-8779-3c3bf53ae04d",
   "metadata": {},
   "source": [
    "## Merge dataframes"
   ]
  },
  {
   "cell_type": "code",
   "execution_count": 58,
   "id": "aaced6b2-e619-4134-80ea-932c5a7eb1c9",
   "metadata": {},
   "outputs": [
    {
     "data": {
      "text/html": [
       "<div>\n",
       "<style scoped>\n",
       "    .dataframe tbody tr th:only-of-type {\n",
       "        vertical-align: middle;\n",
       "    }\n",
       "\n",
       "    .dataframe tbody tr th {\n",
       "        vertical-align: top;\n",
       "    }\n",
       "\n",
       "    .dataframe thead th {\n",
       "        text-align: right;\n",
       "    }\n",
       "</style>\n",
       "<table border=\"1\" class=\"dataframe\">\n",
       "  <thead>\n",
       "    <tr style=\"text-align: right;\">\n",
       "      <th></th>\n",
       "      <th>scene_id</th>\n",
       "      <th>start</th>\n",
       "      <th>end</th>\n",
       "      <th>movie</th>\n",
       "      <th>s_dur</th>\n",
       "      <th>n_shots</th>\n",
       "      <th>ava_shot_dur</th>\n",
       "      <th>rel_id_loc</th>\n",
       "      <th>rel_t_loc</th>\n",
       "      <th>ava_char_score</th>\n",
       "      <th>is_prot_appear</th>\n",
       "      <th>label</th>\n",
       "    </tr>\n",
       "  </thead>\n",
       "  <tbody>\n",
       "    <tr>\n",
       "      <th>0</th>\n",
       "      <td>0</td>\n",
       "      <td>0.000</td>\n",
       "      <td>213.171</td>\n",
       "      <td>the lost weekend</td>\n",
       "      <td>218.718333</td>\n",
       "      <td>6</td>\n",
       "      <td>36.453056</td>\n",
       "      <td>0.000000</td>\n",
       "      <td>0.000000</td>\n",
       "      <td>1295.579078</td>\n",
       "      <td>1</td>\n",
       "      <td>Opening Image</td>\n",
       "    </tr>\n",
       "    <tr>\n",
       "      <th>1</th>\n",
       "      <td>1</td>\n",
       "      <td>218.760</td>\n",
       "      <td>228.854</td>\n",
       "      <td>the lost weekend</td>\n",
       "      <td>21.980333</td>\n",
       "      <td>3</td>\n",
       "      <td>7.326778</td>\n",
       "      <td>0.008403</td>\n",
       "      <td>0.036189</td>\n",
       "      <td>1295.579078</td>\n",
       "      <td>1</td>\n",
       "      <td>Opening Image</td>\n",
       "    </tr>\n",
       "    <tr>\n",
       "      <th>2</th>\n",
       "      <td>2</td>\n",
       "      <td>240.782</td>\n",
       "      <td>240.782</td>\n",
       "      <td>the lost weekend</td>\n",
       "      <td>41.792333</td>\n",
       "      <td>1</td>\n",
       "      <td>41.792333</td>\n",
       "      <td>0.016807</td>\n",
       "      <td>0.039832</td>\n",
       "      <td>1256.344447</td>\n",
       "      <td>1</td>\n",
       "      <td>Set-Up</td>\n",
       "    </tr>\n",
       "    <tr>\n",
       "      <th>3</th>\n",
       "      <td>3</td>\n",
       "      <td>282.616</td>\n",
       "      <td>282.616</td>\n",
       "      <td>the lost weekend</td>\n",
       "      <td>30.905333</td>\n",
       "      <td>1</td>\n",
       "      <td>30.905333</td>\n",
       "      <td>0.025210</td>\n",
       "      <td>0.046752</td>\n",
       "      <td>1256.344447</td>\n",
       "      <td>1</td>\n",
       "      <td>Set-Up</td>\n",
       "    </tr>\n",
       "    <tr>\n",
       "      <th>4</th>\n",
       "      <td>4</td>\n",
       "      <td>313.563</td>\n",
       "      <td>355.855</td>\n",
       "      <td>the lost weekend</td>\n",
       "      <td>53.470333</td>\n",
       "      <td>4</td>\n",
       "      <td>13.367583</td>\n",
       "      <td>0.033613</td>\n",
       "      <td>0.051871</td>\n",
       "      <td>1256.344447</td>\n",
       "      <td>1</td>\n",
       "      <td>Theme Stated</td>\n",
       "    </tr>\n",
       "  </tbody>\n",
       "</table>\n",
       "</div>"
      ],
      "text/plain": [
       "   scene_id    start      end             movie       s_dur  n_shots  \\\n",
       "0         0    0.000  213.171  the lost weekend  218.718333        6   \n",
       "1         1  218.760  228.854  the lost weekend   21.980333        3   \n",
       "2         2  240.782  240.782  the lost weekend   41.792333        1   \n",
       "3         3  282.616  282.616  the lost weekend   30.905333        1   \n",
       "4         4  313.563  355.855  the lost weekend   53.470333        4   \n",
       "\n",
       "   ava_shot_dur  rel_id_loc  rel_t_loc  ava_char_score  is_prot_appear  \\\n",
       "0     36.453056    0.000000   0.000000     1295.579078               1   \n",
       "1      7.326778    0.008403   0.036189     1295.579078               1   \n",
       "2     41.792333    0.016807   0.039832     1256.344447               1   \n",
       "3     30.905333    0.025210   0.046752     1256.344447               1   \n",
       "4     13.367583    0.033613   0.051871     1256.344447               1   \n",
       "\n",
       "           label  \n",
       "0  Opening Image  \n",
       "1  Opening Image  \n",
       "2         Set-Up  \n",
       "3         Set-Up  \n",
       "4   Theme Stated  "
      ]
     },
     "execution_count": 58,
     "metadata": {},
     "output_type": "execute_result"
    }
   ],
   "source": [
    "timestamps_features = pd.merge(timestamps, features, on=[\"scene_id\", \"movie\"])\n",
    "full_data = pd.merge(timestamps_features, labels, on=[\"scene_id\", \"movie\"])\n",
    "full_data.head()"
   ]
  },
  {
   "cell_type": "markdown",
   "id": "1831d8b3-95ac-449d-9dfc-83ff25f5fbfd",
   "metadata": {},
   "source": [
    "## Correct end column"
   ]
  },
  {
   "cell_type": "code",
   "execution_count": 59,
   "id": "7fcb2f39-2263-4b87-9be2-f3a05dcaf462",
   "metadata": {},
   "outputs": [
    {
     "data": {
      "text/html": [
       "<div>\n",
       "<style scoped>\n",
       "    .dataframe tbody tr th:only-of-type {\n",
       "        vertical-align: middle;\n",
       "    }\n",
       "\n",
       "    .dataframe tbody tr th {\n",
       "        vertical-align: top;\n",
       "    }\n",
       "\n",
       "    .dataframe thead th {\n",
       "        text-align: right;\n",
       "    }\n",
       "</style>\n",
       "<table border=\"1\" class=\"dataframe\">\n",
       "  <thead>\n",
       "    <tr style=\"text-align: right;\">\n",
       "      <th></th>\n",
       "      <th>scene_id</th>\n",
       "      <th>start</th>\n",
       "      <th>end</th>\n",
       "      <th>movie</th>\n",
       "      <th>s_dur</th>\n",
       "      <th>n_shots</th>\n",
       "      <th>ava_shot_dur</th>\n",
       "      <th>rel_id_loc</th>\n",
       "      <th>rel_t_loc</th>\n",
       "      <th>ava_char_score</th>\n",
       "      <th>is_prot_appear</th>\n",
       "      <th>label</th>\n",
       "    </tr>\n",
       "  </thead>\n",
       "  <tbody>\n",
       "    <tr>\n",
       "      <th>0</th>\n",
       "      <td>0</td>\n",
       "      <td>0.000</td>\n",
       "      <td>218.718333</td>\n",
       "      <td>the lost weekend</td>\n",
       "      <td>218.718333</td>\n",
       "      <td>6</td>\n",
       "      <td>36.453056</td>\n",
       "      <td>0.000000</td>\n",
       "      <td>0.000000</td>\n",
       "      <td>1295.579078</td>\n",
       "      <td>1</td>\n",
       "      <td>Opening Image</td>\n",
       "    </tr>\n",
       "    <tr>\n",
       "      <th>1</th>\n",
       "      <td>1</td>\n",
       "      <td>218.760</td>\n",
       "      <td>240.740333</td>\n",
       "      <td>the lost weekend</td>\n",
       "      <td>21.980333</td>\n",
       "      <td>3</td>\n",
       "      <td>7.326778</td>\n",
       "      <td>0.008403</td>\n",
       "      <td>0.036189</td>\n",
       "      <td>1295.579078</td>\n",
       "      <td>1</td>\n",
       "      <td>Opening Image</td>\n",
       "    </tr>\n",
       "    <tr>\n",
       "      <th>2</th>\n",
       "      <td>2</td>\n",
       "      <td>240.782</td>\n",
       "      <td>282.574333</td>\n",
       "      <td>the lost weekend</td>\n",
       "      <td>41.792333</td>\n",
       "      <td>1</td>\n",
       "      <td>41.792333</td>\n",
       "      <td>0.016807</td>\n",
       "      <td>0.039832</td>\n",
       "      <td>1256.344447</td>\n",
       "      <td>1</td>\n",
       "      <td>Set-Up</td>\n",
       "    </tr>\n",
       "    <tr>\n",
       "      <th>3</th>\n",
       "      <td>3</td>\n",
       "      <td>282.616</td>\n",
       "      <td>313.521333</td>\n",
       "      <td>the lost weekend</td>\n",
       "      <td>30.905333</td>\n",
       "      <td>1</td>\n",
       "      <td>30.905333</td>\n",
       "      <td>0.025210</td>\n",
       "      <td>0.046752</td>\n",
       "      <td>1256.344447</td>\n",
       "      <td>1</td>\n",
       "      <td>Set-Up</td>\n",
       "    </tr>\n",
       "    <tr>\n",
       "      <th>4</th>\n",
       "      <td>4</td>\n",
       "      <td>313.563</td>\n",
       "      <td>367.033333</td>\n",
       "      <td>the lost weekend</td>\n",
       "      <td>53.470333</td>\n",
       "      <td>4</td>\n",
       "      <td>13.367583</td>\n",
       "      <td>0.033613</td>\n",
       "      <td>0.051871</td>\n",
       "      <td>1256.344447</td>\n",
       "      <td>1</td>\n",
       "      <td>Theme Stated</td>\n",
       "    </tr>\n",
       "  </tbody>\n",
       "</table>\n",
       "</div>"
      ],
      "text/plain": [
       "   scene_id    start         end             movie       s_dur  n_shots  \\\n",
       "0         0    0.000  218.718333  the lost weekend  218.718333        6   \n",
       "1         1  218.760  240.740333  the lost weekend   21.980333        3   \n",
       "2         2  240.782  282.574333  the lost weekend   41.792333        1   \n",
       "3         3  282.616  313.521333  the lost weekend   30.905333        1   \n",
       "4         4  313.563  367.033333  the lost weekend   53.470333        4   \n",
       "\n",
       "   ava_shot_dur  rel_id_loc  rel_t_loc  ava_char_score  is_prot_appear  \\\n",
       "0     36.453056    0.000000   0.000000     1295.579078               1   \n",
       "1      7.326778    0.008403   0.036189     1295.579078               1   \n",
       "2     41.792333    0.016807   0.039832     1256.344447               1   \n",
       "3     30.905333    0.025210   0.046752     1256.344447               1   \n",
       "4     13.367583    0.033613   0.051871     1256.344447               1   \n",
       "\n",
       "           label  \n",
       "0  Opening Image  \n",
       "1  Opening Image  \n",
       "2         Set-Up  \n",
       "3         Set-Up  \n",
       "4   Theme Stated  "
      ]
     },
     "execution_count": 59,
     "metadata": {},
     "output_type": "execute_result"
    }
   ],
   "source": [
    "full_data[\"end\"] = full_data[\"start\"] + full_data[\"s_dur\"]\n",
    "full_data.head()"
   ]
  },
  {
   "cell_type": "markdown",
   "id": "8e4c61e3-fdb8-45bd-9d9e-f47fff1e28fb",
   "metadata": {},
   "source": [
    "## Load subtitles"
   ]
  },
  {
   "cell_type": "code",
   "execution_count": 60,
   "id": "5eae068f-77ad-4d4e-a9e8-b22fa4f80c47",
   "metadata": {},
   "outputs": [],
   "source": [
    "import srt"
   ]
  },
  {
   "cell_type": "code",
   "execution_count": 61,
   "id": "64c1aa39-bc40-47b7-b024-520ecd2cdc25",
   "metadata": {},
   "outputs": [
    {
     "data": {
      "text/plain": [
       "'tt0037884_the lost weekend.srt'"
      ]
     },
     "execution_count": 61,
     "metadata": {},
     "output_type": "execute_result"
    }
   ],
   "source": [
    "sample_subtitles_file = sample_feature_file.replace('.csv', '.srt')\n",
    "sample_subtitles_file"
   ]
  },
  {
   "cell_type": "code",
   "execution_count": 62,
   "id": "c2bc1421-41c6-4f33-a9de-3f92c0b5e96f",
   "metadata": {},
   "outputs": [
    {
     "data": {
      "text/plain": [
       "'train/train/subtitles\\\\tt0037884_the lost weekend.srt'"
      ]
     },
     "execution_count": 62,
     "metadata": {},
     "output_type": "execute_result"
    }
   ],
   "source": [
    "sample_subtitles_path = os.path.join(SUBTITLES_PATH, sample_subtitles_file)\n",
    "sample_subtitles_path"
   ]
  },
  {
   "cell_type": "code",
   "execution_count": 63,
   "id": "8ee98b5c-5c98-422a-8a5e-5d6647fa3104",
   "metadata": {},
   "outputs": [],
   "source": [
    "subtitles = []\n",
    "with open(sample_subtitles_path, 'r') as file:\n",
    "    subtitles = list(srt.parse(file.read())) "
   ]
  },
  {
   "cell_type": "code",
   "execution_count": 64,
   "id": "f2ef27d9-bebd-4007-a744-029d2ca7d622",
   "metadata": {},
   "outputs": [],
   "source": [
    "def print_sub_info(sub):\n",
    "    print(f\"Subtitle {idx + 1}\")\n",
    "    print(f\"Start Time: {sub.start.total_seconds()}\")\n",
    "    print(f\"End Time: {sub.end.total_seconds()}\")\n",
    "    print(f\"Text: {sub.content}\")\n",
    "    print()"
   ]
  },
  {
   "cell_type": "code",
   "execution_count": 65,
   "id": "2f08f684-b487-4003-999f-9b90413018f2",
   "metadata": {},
   "outputs": [
    {
     "name": "stdout",
     "output_type": "stream",
     "text": [
      "Subtitle 1\n",
      "Start Time: 150.32\n",
      "End Time: 152.926\n",
      "Text: You'd better take this along, Don.\n",
      "It's gonna be cold on the farm.\n",
      "\n",
      "Subtitle 2\n",
      "Start Time: 153.04\n",
      "End Time: 154.963\n",
      "Text: - OK.\n",
      "- How many shirts are you taking?\n",
      "\n",
      "Subtitle 3\n",
      "Start Time: 155.08\n",
      "End Time: 156.969\n",
      "Text: - Three.\n",
      "- I'm taking five.\n",
      "\n",
      "Subtitle 4\n",
      "Start Time: 157.08\n",
      "End Time: 158.969\n",
      "Text: - Five?\n",
      "- Yeah, I told them at the office\n",
      "\n"
     ]
    }
   ],
   "source": [
    "for idx, sub in enumerate(subtitles):\n",
    "    print_sub_info(sub)\n",
    "\n",
    "    if idx == 3: break"
   ]
  },
  {
   "cell_type": "code",
   "execution_count": 66,
   "id": "e9534f79-6b1f-43d4-bdcd-cb052cc14f5a",
   "metadata": {},
   "outputs": [
    {
     "name": "stdout",
     "output_type": "stream",
     "text": [
      "Ignored subtitltes: 18\n"
     ]
    }
   ],
   "source": [
    "last_processed_subtitle_idx = 0\n",
    "movies_subtitles = {}\n",
    "missed_subtitle = 0\n",
    "\n",
    "for scene_idx, scene_row in full_data.iterrows():\n",
    "    scene_start = scene_row['start']\n",
    "    scene_end = scene_row['end']\n",
    "    scene_id = scene_row['scene_id']\n",
    "    movie_name = scene_row['movie']\n",
    "    \n",
    "    # print(f\"Movie: {movie_name}\")\n",
    "    # print(f\"Scene: {scene_id}, Start Time - {scene_start}, End Time - {scene_end}\")\n",
    "    # print(\"==================================================================\")\n",
    "\n",
    "    # Create new dictionary for every movie\n",
    "    if movie_name not in movies_subtitles:\n",
    "        movies_subtitles[movie_name] = {}\n",
    "\n",
    "    # Craete new dictionary for every scene within movie\n",
    "    movies_subtitles[movie_name][scene_id] = []\n",
    "    \n",
    "    for idx in range(last_processed_subtitle_idx, len(subtitles)):\n",
    "        sub = subtitles[idx]\n",
    "        sub_start = sub.start.total_seconds()\n",
    "        sub_end = sub.end.total_seconds()\n",
    "        sub_content = sub.content\n",
    "\n",
    "        # Some subtitles start just before scene_start\n",
    "        if scene_start <= (sub_start + 0.05) and scene_end >= sub_end:\n",
    "            # print(f\"Subtitle {idx + 1}: Start Time - {sub_start}, End Time - {sub_end}\")\n",
    "            # print(f\"{sub_content}\")\n",
    "            # print()\n",
    "\n",
    "            # Add subtitle content to the dictionary for the current scene\n",
    "            movies_subtitles[movie_name][scene_id].append(sub_content)\n",
    "            \n",
    "        elif scene_end < sub_end:\n",
    "            last_processed_subtitle_idx = idx\n",
    "            break\n",
    "        else:\n",
    "            missed_subtitle += 1\n",
    "            # print(f\"Subtitle {idx + 1}: Start Time - {sub_start}, End Time - {sub_end}\")\n",
    "            # print(f\"{sub_content}\")\n",
    "            # print()\n",
    "            # print()\n",
    "\n",
    "print(f\"Ignored subtitltes: {missed_subtitle}\")"
   ]
  },
  {
   "cell_type": "code",
   "execution_count": 67,
   "id": "11bf787c-9300-4255-8288-a8f15b8d44ec",
   "metadata": {},
   "outputs": [
    {
     "data": {
      "text/plain": [
       "[\"You'd better take this along, Don.\\nIt's gonna be cold on the farm.\",\n",
       " '- OK.\\n- How many shirts are you taking?',\n",
       " \"- Three.\\n- I'm taking five.\",\n",
       " '- Five?\\n- Yeah, I told them at the office',\n",
       " 'I might not be back until Tuesday.',\n",
       " \"We'll get there this afternoon.\\nThat's Friday, Saturday, Sunday, Monday.\",\n",
       " \"We'll make it\\na long, wonderful weekend.\",\n",
       " 'Sounds long, all right.',\n",
       " \"It'll be good for you, Don,\\nafter what you've been through.\",\n",
       " 'Trees, grass,\\nsweet cider and buttermilk',\n",
       " \"and water from that well\\nthat's colder than any other...\",\n",
       " 'Wick, please. Why this emphasis\\non liquids? Very dull liquids.',\n",
       " 'Sorry, Don.',\n",
       " \"I think it'd be a good idea\\nif we took along my typewriter.\",\n",
       " '- What for?\\n- To write.',\n",
       " \"I'm gonna write there,\\nget started on that novel.\",\n",
       " '- You really feel up to writing?\\n- Why not?',\n",
       " \"After what you've been through.\",\n",
       " \"I haven't touched the stuff\\nfor 10 days now.\",\n",
       " \"I know.\\nI know you haven't, Don.\",\n",
       " '- Where is the typewriter?\\n- In the living room.',\n",
       " 'In the closet.',\n",
       " 'Kind of towards the back.']"
      ]
     },
     "execution_count": 67,
     "metadata": {},
     "output_type": "execute_result"
    }
   ],
   "source": [
    "movies_subtitles['the lost weekend'][0]"
   ]
  },
  {
   "cell_type": "markdown",
   "id": "f6c0a6fe",
   "metadata": {},
   "source": [
    "## Subtitles cleaning and combining"
   ]
  },
  {
   "cell_type": "code",
   "execution_count": 68,
   "id": "b4d1034b",
   "metadata": {},
   "outputs": [
    {
     "data": {
      "text/plain": [
       "\"You'd better take this along, Don. It's gonna be cold on the farm. - OK. - How many shirts are you taking? - Three. - I'm taking five. - Five? - Yeah, I told them at the office I might not be back until Tuesday. We'll get there this afternoon. That's Friday, Saturday, Sunday, Monday. We'll make it a long, wonderful weekend. Sounds long, all right. It'll be good for you, Don, after what you've been through. Trees, grass, sweet cider and buttermilk and water from that well that's colder than any other... Wick, please. Why this emphasis on liquids? Very dull liquids. Sorry, Don. I think it'd be a good idea if we took along my typewriter. - What for? - To write. I'm gonna write there, get started on that novel. - You really feel up to writing? - Why not? After what you've been through. I haven't touched the stuff for 10 days now. I know. I know you haven't, Don. - Where is the typewriter? - In the living room. In the closet. Kind of towards the back.\""
      ]
     },
     "execution_count": 68,
     "metadata": {},
     "output_type": "execute_result"
    }
   ],
   "source": [
    "for movie_name, scenes in movies_subtitles.items():\n",
    "    for scene_id, subtitles in scenes.items():\n",
    "        cleaned_subtitles = []\n",
    "        for subtitle in subtitles:\n",
    "            # Remove new line characters and dashes\n",
    "            cleaned_subtitle = subtitle.replace('\\n', ' ').strip()\n",
    "            cleaned_subtitles.append(cleaned_subtitle)\n",
    "        combined_text = \" \".join(cleaned_subtitles)\n",
    "        movies_subtitles[movie_name][scene_id] = combined_text\n",
    "\n",
    "movies_subtitles['the lost weekend'][0]"
   ]
  },
  {
   "cell_type": "markdown",
   "id": "b4cafdd5",
   "metadata": {},
   "source": [
    "## Tokenize and Embeddings"
   ]
  },
  {
   "cell_type": "code",
   "execution_count": 69,
   "id": "98486364",
   "metadata": {},
   "outputs": [],
   "source": [
    "from transformers import BertTokenizer, BertModel\n",
    "import torch\n",
    "\n",
    "tokenizer = BertTokenizer.from_pretrained('bert-base-uncased')\n",
    "model = BertModel.from_pretrained('bert-base-uncased')\n",
    "\n",
    "embeddings = []\n",
    "for movie_name, scenes in movies_subtitles.items():\n",
    "    for scene_id, combined_text in scenes.items():\n",
    "        inputs = tokenizer(combined_text, return_tensors=\"pt\", truncation=True, padding=True, max_length=512)\n",
    "        outputs = model(**inputs)\n",
    "        embedding = outputs.last_hidden_state.mean(dim=1).squeeze().tolist()\n",
    "        movies_subtitles[movie_name][scene_id] = embedding"
   ]
  },
  {
   "cell_type": "code",
   "execution_count": 70,
   "id": "fda1ec3e",
   "metadata": {},
   "outputs": [],
   "source": [
    "# movies_subtitles['the lost weekend'][15]"
   ]
  },
  {
   "cell_type": "markdown",
   "id": "70e715b4",
   "metadata": {},
   "source": [
    "## Merge with Full Data"
   ]
  },
  {
   "cell_type": "code",
   "execution_count": 71,
   "id": "5366b0d9",
   "metadata": {},
   "outputs": [
    {
     "data": {
      "text/html": [
       "<div>\n",
       "<style scoped>\n",
       "    .dataframe tbody tr th:only-of-type {\n",
       "        vertical-align: middle;\n",
       "    }\n",
       "\n",
       "    .dataframe tbody tr th {\n",
       "        vertical-align: top;\n",
       "    }\n",
       "\n",
       "    .dataframe thead th {\n",
       "        text-align: right;\n",
       "    }\n",
       "</style>\n",
       "<table border=\"1\" class=\"dataframe\">\n",
       "  <thead>\n",
       "    <tr style=\"text-align: right;\">\n",
       "      <th></th>\n",
       "      <th>scene_id</th>\n",
       "      <th>start</th>\n",
       "      <th>end</th>\n",
       "      <th>movie</th>\n",
       "      <th>s_dur</th>\n",
       "      <th>n_shots</th>\n",
       "      <th>ava_shot_dur</th>\n",
       "      <th>rel_id_loc</th>\n",
       "      <th>rel_t_loc</th>\n",
       "      <th>ava_char_score</th>\n",
       "      <th>is_prot_appear</th>\n",
       "      <th>embedding</th>\n",
       "      <th>label</th>\n",
       "    </tr>\n",
       "  </thead>\n",
       "  <tbody>\n",
       "    <tr>\n",
       "      <th>0</th>\n",
       "      <td>0</td>\n",
       "      <td>0.000</td>\n",
       "      <td>218.718333</td>\n",
       "      <td>the lost weekend</td>\n",
       "      <td>218.718333</td>\n",
       "      <td>6</td>\n",
       "      <td>36.453056</td>\n",
       "      <td>0.000000</td>\n",
       "      <td>0.000000</td>\n",
       "      <td>1295.579078</td>\n",
       "      <td>1</td>\n",
       "      <td>[0.04265003651380539, 0.09052932262420654, 0.3...</td>\n",
       "      <td>Opening Image</td>\n",
       "    </tr>\n",
       "    <tr>\n",
       "      <th>1</th>\n",
       "      <td>1</td>\n",
       "      <td>218.760</td>\n",
       "      <td>240.740333</td>\n",
       "      <td>the lost weekend</td>\n",
       "      <td>21.980333</td>\n",
       "      <td>3</td>\n",
       "      <td>7.326778</td>\n",
       "      <td>0.008403</td>\n",
       "      <td>0.036189</td>\n",
       "      <td>1295.579078</td>\n",
       "      <td>1</td>\n",
       "      <td>[-0.0005472705815918744, -0.09439108520746231,...</td>\n",
       "      <td>Opening Image</td>\n",
       "    </tr>\n",
       "    <tr>\n",
       "      <th>2</th>\n",
       "      <td>2</td>\n",
       "      <td>240.782</td>\n",
       "      <td>282.574333</td>\n",
       "      <td>the lost weekend</td>\n",
       "      <td>41.792333</td>\n",
       "      <td>1</td>\n",
       "      <td>41.792333</td>\n",
       "      <td>0.016807</td>\n",
       "      <td>0.039832</td>\n",
       "      <td>1256.344447</td>\n",
       "      <td>1</td>\n",
       "      <td>[0.021815838292241096, 0.10321275889873505, 0....</td>\n",
       "      <td>Set-Up</td>\n",
       "    </tr>\n",
       "    <tr>\n",
       "      <th>3</th>\n",
       "      <td>3</td>\n",
       "      <td>282.616</td>\n",
       "      <td>313.521333</td>\n",
       "      <td>the lost weekend</td>\n",
       "      <td>30.905333</td>\n",
       "      <td>1</td>\n",
       "      <td>30.905333</td>\n",
       "      <td>0.025210</td>\n",
       "      <td>0.046752</td>\n",
       "      <td>1256.344447</td>\n",
       "      <td>1</td>\n",
       "      <td>[0.07913928478956223, 0.020035874098539352, 0....</td>\n",
       "      <td>Set-Up</td>\n",
       "    </tr>\n",
       "    <tr>\n",
       "      <th>4</th>\n",
       "      <td>4</td>\n",
       "      <td>313.563</td>\n",
       "      <td>367.033333</td>\n",
       "      <td>the lost weekend</td>\n",
       "      <td>53.470333</td>\n",
       "      <td>4</td>\n",
       "      <td>13.367583</td>\n",
       "      <td>0.033613</td>\n",
       "      <td>0.051871</td>\n",
       "      <td>1256.344447</td>\n",
       "      <td>1</td>\n",
       "      <td>[0.07229191064834595, -0.025207601487636566, 0...</td>\n",
       "      <td>Theme Stated</td>\n",
       "    </tr>\n",
       "  </tbody>\n",
       "</table>\n",
       "</div>"
      ],
      "text/plain": [
       "   scene_id    start         end             movie       s_dur  n_shots  \\\n",
       "0         0    0.000  218.718333  the lost weekend  218.718333        6   \n",
       "1         1  218.760  240.740333  the lost weekend   21.980333        3   \n",
       "2         2  240.782  282.574333  the lost weekend   41.792333        1   \n",
       "3         3  282.616  313.521333  the lost weekend   30.905333        1   \n",
       "4         4  313.563  367.033333  the lost weekend   53.470333        4   \n",
       "\n",
       "   ava_shot_dur  rel_id_loc  rel_t_loc  ava_char_score  is_prot_appear  \\\n",
       "0     36.453056    0.000000   0.000000     1295.579078               1   \n",
       "1      7.326778    0.008403   0.036189     1295.579078               1   \n",
       "2     41.792333    0.016807   0.039832     1256.344447               1   \n",
       "3     30.905333    0.025210   0.046752     1256.344447               1   \n",
       "4     13.367583    0.033613   0.051871     1256.344447               1   \n",
       "\n",
       "                                           embedding          label  \n",
       "0  [0.04265003651380539, 0.09052932262420654, 0.3...  Opening Image  \n",
       "1  [-0.0005472705815918744, -0.09439108520746231,...  Opening Image  \n",
       "2  [0.021815838292241096, 0.10321275889873505, 0....         Set-Up  \n",
       "3  [0.07913928478956223, 0.020035874098539352, 0....         Set-Up  \n",
       "4  [0.07229191064834595, -0.025207601487636566, 0...   Theme Stated  "
      ]
     },
     "execution_count": 71,
     "metadata": {},
     "output_type": "execute_result"
    }
   ],
   "source": [
    "embeddings = []\n",
    "for index, row in full_data.iterrows():\n",
    "    movie_name = row['movie']\n",
    "    scene_id = row['scene_id']\n",
    "    \n",
    "    embedding = movies_subtitles.get(movie_name, {}).get(scene_id, None)\n",
    "    \n",
    "    embeddings.append(embedding)\n",
    "\n",
    "full_data.insert(full_data.columns.get_loc('label'), 'embedding', embeddings)\n",
    "full_data.head()"
   ]
  },
  {
   "cell_type": "markdown",
   "id": "4334d013",
   "metadata": {},
   "source": [
    "## First Model"
   ]
  },
  {
   "cell_type": "markdown",
   "id": "efed7adb",
   "metadata": {},
   "source": [
    "### Tuning hyperparameters"
   ]
  },
  {
   "cell_type": "code",
   "execution_count": 75,
   "id": "f292ba62",
   "metadata": {},
   "outputs": [
    {
     "name": "stdout",
     "output_type": "stream",
     "text": [
      "103\n",
      "103\n"
     ]
    },
    {
     "name": "stderr",
     "output_type": "stream",
     "text": [
      "C:\\Users\\Mateusz\\miniconda3\\envs\\zed\\Lib\\site-packages\\sklearn\\model_selection\\_split.py:737: UserWarning: The least populated class in y has only 1 members, which is less than n_splits=10.\n",
      "  warnings.warn(\n"
     ]
    },
    {
     "name": "stdout",
     "output_type": "stream",
     "text": [
      "Best parameters: {'n_estimators': 225, 'min_samples_split': 15, 'min_samples_leaf': 8, 'max_depth': 10}\n"
     ]
    }
   ],
   "source": [
    "from sklearn.model_selection import cross_val_score, RandomizedSearchCV\n",
    "from sklearn.ensemble import RandomForestClassifier\n",
    "print(len(full_data))\n",
    "full_data_clean = full_data.dropna()\n",
    "print(len(full_data_clean))\n",
    "\n",
    "embeddings = np.array(full_data_clean['embedding'].tolist())\n",
    "\n",
    "X = full_data_clean[['s_dur', 'n_shots', 'ava_shot_dur', 'rel_id_loc', 'rel_t_loc', 'ava_char_score', 'is_prot_appear']]\n",
    "X = np.hstack((X, embeddings))\n",
    "y = full_data_clean['label']\n",
    "\n",
    "param_dist = {\n",
    "    'n_estimators': [100, 150, 200, 225, 250],\n",
    "    'min_samples_split': [5, 10, 15],\n",
    "    'min_samples_leaf': [5, 8, 10],\n",
    "    'max_depth': [1, 2, 5, 10, 15, 20]\n",
    "}\n",
    "\n",
    "random_search = RandomizedSearchCV(RandomForestClassifier(random_state=23), param_distributions=param_dist, n_iter=10, cv=10, random_state=23, n_jobs=-1)\n",
    "random_search.fit(X, y)\n",
    "\n",
    "print(\"Best parameters:\", random_search.best_params_)"
   ]
  },
  {
   "cell_type": "markdown",
   "id": "b3e338f7",
   "metadata": {},
   "source": [
    "### Cross-Validation"
   ]
  },
  {
   "cell_type": "code",
   "execution_count": 175,
   "id": "608c4a5e",
   "metadata": {},
   "outputs": [
    {
     "name": "stderr",
     "output_type": "stream",
     "text": [
      "c:\\Users\\User\\Desktop\\Studia\\Sem2-mgr\\ZED\\story-beats\\venv\\Lib\\site-packages\\sklearn\\model_selection\\_split.py:737: UserWarning: The least populated class in y has only 1 members, which is less than n_splits=5.\n",
      "  warnings.warn(\n"
     ]
    },
    {
     "name": "stdout",
     "output_type": "stream",
     "text": [
      "Mean Accuracy from cross-validation: 0.3405263157894737\n"
     ]
    }
   ],
   "source": [
    "model = RandomForestClassifier(random_state=23, n_estimators=225, min_samples_split=15, min_samples_leaf=8, max_depth=10)\n",
    "scores = cross_val_score(model, X, y, cv=5)\n",
    "print(f\"Mean Accuracy from cross-validation: {np.mean(scores)}\")"
   ]
  }
 ],
 "metadata": {
  "kernelspec": {
   "display_name": "Python 3 (ipykernel)",
   "language": "python",
   "name": "python3"
  },
  "language_info": {
   "codemirror_mode": {
    "name": "ipython",
    "version": 3
   },
   "file_extension": ".py",
   "mimetype": "text/x-python",
   "name": "python",
   "nbconvert_exporter": "python",
   "pygments_lexer": "ipython3",
   "version": "3.11.5"
  }
 },
 "nbformat": 4,
 "nbformat_minor": 5
}
