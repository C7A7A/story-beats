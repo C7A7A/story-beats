{
 "cells": [
  {
   "cell_type": "markdown",
   "id": "e4750b17-3e17-4bea-ac92-0886ca139561",
   "metadata": {},
   "source": [
    "## Imports and global variables"
   ]
  },
  {
   "cell_type": "code",
   "execution_count": 1,
   "id": "1639528a-1137-4270-8c2b-b3ef481c427a",
   "metadata": {},
   "outputs": [],
   "source": [
    "import os\n",
    "import pandas as pd\n",
    "import numpy as np"
   ]
  },
  {
   "cell_type": "code",
   "execution_count": 2,
   "id": "d4526c69-03c4-4a09-a494-a3f00d9c2fb4",
   "metadata": {},
   "outputs": [],
   "source": [
    "TIMESTAMPS_PATH = 'train/train/scene_timestamps'\n",
    "FEATURES_PATH = 'train/train/features'\n",
    "LABELS_PATH = 'train/train/labels'\n",
    "SUBTITLES_PATH = 'train/train/subtitles'"
   ]
  },
  {
   "cell_type": "markdown",
   "id": "13e2e1c0-23af-428c-8112-10f7e0d6806b",
   "metadata": {},
   "source": [
    "## Load timestamps"
   ]
  },
  {
   "cell_type": "code",
   "execution_count": 103,
   "id": "01c262fc-85fd-4f5d-8bd8-2b985c281b6c",
   "metadata": {},
   "outputs": [],
   "source": [
    "if os.path.exists(TIMESTAMPS_PATH):\n",
    "    files = os.listdir(TIMESTAMPS_PATH)\n",
    "    # remove australia because australia subtitles are in diffrent format than everything else\n",
    "    files.remove(\"tt0455824_australia_timestamps.csv\")\n",
    "else:\n",
    "    print(\"PATH DOES NOT EXIST!\")"
   ]
  },
  {
   "cell_type": "code",
   "execution_count": 104,
   "id": "ccb21fde-14d1-48e9-843d-adec49a4c328",
   "metadata": {},
   "outputs": [],
   "source": [
    "def get_movie_name(file):\n",
    "    return file[10:-15]"
   ]
  },
  {
   "cell_type": "code",
   "execution_count": 105,
   "id": "f655f126-732d-4091-9b0d-131163ee17c1",
   "metadata": {},
   "outputs": [],
   "source": [
    "movies = []\n",
    "for file in files:\n",
    "    # print(f\"file name: {file}\")\n",
    "    movie_name = get_movie_name(file)\n",
    "    movies.append(movie_name)    "
   ]
  },
  {
   "cell_type": "code",
   "execution_count": 119,
   "id": "c6315a7a-d497-4fd4-b13f-0d221a94634e",
   "metadata": {},
   "outputs": [],
   "source": [
    "def prepare_csv(path, movie_name):\n",
    "    df = pd.read_csv(path)\n",
    "    df.rename(columns={\"Unnamed: 0\": \"scene_id\"}, inplace=True)\n",
    "    df[\"movie\"] = movie_name\n",
    "    return df"
   ]
  },
  {
   "cell_type": "code",
   "execution_count": 120,
   "id": "eb08e613-fd7f-4f8b-80fa-9be899ef1a81",
   "metadata": {},
   "outputs": [
    {
     "name": "stdout",
     "output_type": "stream",
     "text": [
      "(3729, 4)\n"
     ]
    },
    {
     "data": {
      "text/html": [
       "<div>\n",
       "<style scoped>\n",
       "    .dataframe tbody tr th:only-of-type {\n",
       "        vertical-align: middle;\n",
       "    }\n",
       "\n",
       "    .dataframe tbody tr th {\n",
       "        vertical-align: top;\n",
       "    }\n",
       "\n",
       "    .dataframe thead th {\n",
       "        text-align: right;\n",
       "    }\n",
       "</style>\n",
       "<table border=\"1\" class=\"dataframe\">\n",
       "  <thead>\n",
       "    <tr style=\"text-align: right;\">\n",
       "      <th></th>\n",
       "      <th>scene_id</th>\n",
       "      <th>start</th>\n",
       "      <th>end</th>\n",
       "      <th>movie</th>\n",
       "    </tr>\n",
       "  </thead>\n",
       "  <tbody>\n",
       "    <tr>\n",
       "      <th>3724</th>\n",
       "      <td>220</td>\n",
       "      <td>6499.655</td>\n",
       "      <td>6571.893</td>\n",
       "      <td>dallas buyers club</td>\n",
       "    </tr>\n",
       "    <tr>\n",
       "      <th>3725</th>\n",
       "      <td>221</td>\n",
       "      <td>6574.396</td>\n",
       "      <td>6574.396</td>\n",
       "      <td>dallas buyers club</td>\n",
       "    </tr>\n",
       "    <tr>\n",
       "      <th>3726</th>\n",
       "      <td>224</td>\n",
       "      <td>6589.161</td>\n",
       "      <td>6609.264</td>\n",
       "      <td>dallas buyers club</td>\n",
       "    </tr>\n",
       "    <tr>\n",
       "      <th>3727</th>\n",
       "      <td>226</td>\n",
       "      <td>6629.701</td>\n",
       "      <td>6677.999</td>\n",
       "      <td>dallas buyers club</td>\n",
       "    </tr>\n",
       "    <tr>\n",
       "      <th>3728</th>\n",
       "      <td>227</td>\n",
       "      <td>6682.504</td>\n",
       "      <td>6686.675</td>\n",
       "      <td>dallas buyers club</td>\n",
       "    </tr>\n",
       "  </tbody>\n",
       "</table>\n",
       "</div>"
      ],
      "text/plain": [
       "      scene_id     start       end               movie\n",
       "3724       220  6499.655  6571.893  dallas buyers club\n",
       "3725       221  6574.396  6574.396  dallas buyers club\n",
       "3726       224  6589.161  6609.264  dallas buyers club\n",
       "3727       226  6629.701  6677.999  dallas buyers club\n",
       "3728       227  6682.504  6686.675  dallas buyers club"
      ]
     },
     "execution_count": 120,
     "metadata": {},
     "output_type": "execute_result"
    }
   ],
   "source": [
    "dfs = []\n",
    "for idx, file in enumerate(files):\n",
    "    timestamp_path = os.path.join(TIMESTAMPS_PATH, file)\n",
    "    df = prepare_csv(timestamp_path, movies[idx])\n",
    "    dfs.append(df)\n",
    "\n",
    "timestamps = pd.concat(dfs, ignore_index=True)\n",
    "print(timestamps.shape)\n",
    "timestamps.tail()"
   ]
  },
  {
   "cell_type": "code",
   "execution_count": 115,
   "id": "cf19f621-16a6-414a-85b1-7f9fb1c0de97",
   "metadata": {},
   "outputs": [],
   "source": [
    "# TODO: DELETE\n",
    "# sample_timestamp_path = os.path.join(TIMESTAMPS_PATH, sample_file)\n",
    "\n",
    "# timestamps = pd.read_csv(sample_timestamp_path)\n",
    "# timestamps.rename(columns={\"Unnamed: 0\": \"scene_id\"}, inplace=True)\n",
    "# timestamps[\"movie\"] = movie_name\n",
    "# timestamps.head()"
   ]
  },
  {
   "cell_type": "markdown",
   "id": "23fbb423-7daf-4a2a-8a5d-cb6ec94259a9",
   "metadata": {},
   "source": [
    "## Load features"
   ]
  },
  {
   "cell_type": "code",
   "execution_count": 116,
   "id": "1f7d4cc6-cda7-4be3-b5f1-85ed26b1ee5e",
   "metadata": {},
   "outputs": [],
   "source": [
    "def get_feature_file(file):\n",
    "    return file.replace(\"_timestamps\", \"\")"
   ]
  },
  {
   "cell_type": "code",
   "execution_count": 118,
   "id": "1d9146b9-1976-47e1-82e4-697d4044dd05",
   "metadata": {},
   "outputs": [],
   "source": [
    "feature_files = []\n",
    "for file in files:\n",
    "    feature_file = get_feature_file(file)\n",
    "    feature_files.append(feature_file)    "
   ]
  },
  {
   "cell_type": "code",
   "execution_count": 136,
   "id": "a942e6a9-a3b6-4094-af4c-fc5ce5e607d8",
   "metadata": {},
   "outputs": [
    {
     "name": "stdout",
     "output_type": "stream",
     "text": [
      "(3729, 9)\n"
     ]
    },
    {
     "data": {
      "text/html": [
       "<div>\n",
       "<style scoped>\n",
       "    .dataframe tbody tr th:only-of-type {\n",
       "        vertical-align: middle;\n",
       "    }\n",
       "\n",
       "    .dataframe tbody tr th {\n",
       "        vertical-align: top;\n",
       "    }\n",
       "\n",
       "    .dataframe thead th {\n",
       "        text-align: right;\n",
       "    }\n",
       "</style>\n",
       "<table border=\"1\" class=\"dataframe\">\n",
       "  <thead>\n",
       "    <tr style=\"text-align: right;\">\n",
       "      <th></th>\n",
       "      <th>scene_id</th>\n",
       "      <th>s_dur</th>\n",
       "      <th>n_shots</th>\n",
       "      <th>ava_shot_dur</th>\n",
       "      <th>rel_id_loc</th>\n",
       "      <th>rel_t_loc</th>\n",
       "      <th>ava_char_score</th>\n",
       "      <th>is_prot_appear</th>\n",
       "      <th>movie</th>\n",
       "    </tr>\n",
       "  </thead>\n",
       "  <tbody>\n",
       "    <tr>\n",
       "      <th>3724</th>\n",
       "      <td>220</td>\n",
       "      <td>74.699333</td>\n",
       "      <td>16</td>\n",
       "      <td>4.668708</td>\n",
       "      <td>0.960699</td>\n",
       "      <td>0.926278</td>\n",
       "      <td>656.478716</td>\n",
       "      <td>1</td>\n",
       "      <td>dallas buyers club</td>\n",
       "    </tr>\n",
       "    <tr>\n",
       "      <th>3725</th>\n",
       "      <td>221</td>\n",
       "      <td>5.380333</td>\n",
       "      <td>1</td>\n",
       "      <td>5.380333</td>\n",
       "      <td>0.965066</td>\n",
       "      <td>0.936929</td>\n",
       "      <td>372.108700</td>\n",
       "      <td>0</td>\n",
       "      <td>dallas buyers club</td>\n",
       "    </tr>\n",
       "    <tr>\n",
       "      <th>3726</th>\n",
       "      <td>224</td>\n",
       "      <td>34.826333</td>\n",
       "      <td>6</td>\n",
       "      <td>5.804389</td>\n",
       "      <td>0.978166</td>\n",
       "      <td>0.939033</td>\n",
       "      <td>928.370357</td>\n",
       "      <td>1</td>\n",
       "      <td>dallas buyers club</td>\n",
       "    </tr>\n",
       "    <tr>\n",
       "      <th>3727</th>\n",
       "      <td>226</td>\n",
       "      <td>52.761333</td>\n",
       "      <td>19</td>\n",
       "      <td>2.776912</td>\n",
       "      <td>0.986900</td>\n",
       "      <td>0.944811</td>\n",
       "      <td>1076.267498</td>\n",
       "      <td>1</td>\n",
       "      <td>dallas buyers club</td>\n",
       "    </tr>\n",
       "    <tr>\n",
       "      <th>3728</th>\n",
       "      <td>227</td>\n",
       "      <td>5.672333</td>\n",
       "      <td>4</td>\n",
       "      <td>1.418083</td>\n",
       "      <td>0.991266</td>\n",
       "      <td>0.952336</td>\n",
       "      <td>2085.459362</td>\n",
       "      <td>1</td>\n",
       "      <td>dallas buyers club</td>\n",
       "    </tr>\n",
       "  </tbody>\n",
       "</table>\n",
       "</div>"
      ],
      "text/plain": [
       "      scene_id      s_dur  n_shots  ava_shot_dur  rel_id_loc  rel_t_loc  \\\n",
       "3724       220  74.699333       16      4.668708    0.960699   0.926278   \n",
       "3725       221   5.380333        1      5.380333    0.965066   0.936929   \n",
       "3726       224  34.826333        6      5.804389    0.978166   0.939033   \n",
       "3727       226  52.761333       19      2.776912    0.986900   0.944811   \n",
       "3728       227   5.672333        4      1.418083    0.991266   0.952336   \n",
       "\n",
       "      ava_char_score  is_prot_appear               movie  \n",
       "3724      656.478716               1  dallas buyers club  \n",
       "3725      372.108700               0  dallas buyers club  \n",
       "3726      928.370357               1  dallas buyers club  \n",
       "3727     1076.267498               1  dallas buyers club  \n",
       "3728     2085.459362               1  dallas buyers club  "
      ]
     },
     "execution_count": 136,
     "metadata": {},
     "output_type": "execute_result"
    }
   ],
   "source": [
    "dfs = []\n",
    "for idx, file in enumerate(files):\n",
    "    feature_path = os.path.join(FEATURES_PATH, feature_files[idx])\n",
    "    df = prepare_csv(feature_path, movies[idx])\n",
    "    dfs.append(df)\n",
    "\n",
    "features = pd.concat(dfs, ignore_index=True)\n",
    "print(features.shape)\n",
    "features.tail()"
   ]
  },
  {
   "cell_type": "code",
   "execution_count": 122,
   "id": "c26694c3-37f2-4535-9fb9-77ef43436730",
   "metadata": {
    "scrolled": true
   },
   "outputs": [],
   "source": [
    "# TODO: DELETE\n",
    "# sample_feature_path = os.path.join(FEATURES_PATH, sample_feature_file)\n",
    "\n",
    "# features = pd.read_csv(sample_feature_path)\n",
    "# features.rename(columns={\"Unnamed: 0\": \"scene_id\"}, inplace=True)\n",
    "# features[\"movie\"] = movie_name\n",
    "# features.head()"
   ]
  },
  {
   "cell_type": "markdown",
   "id": "f34d62e0-fcb5-479f-9e9c-7dc55dbad392",
   "metadata": {},
   "source": [
    "## Load labels"
   ]
  },
  {
   "cell_type": "code",
   "execution_count": 143,
   "id": "6e4a819c-9244-4014-bb3d-0e3182cb63d9",
   "metadata": {},
   "outputs": [
    {
     "name": "stdout",
     "output_type": "stream",
     "text": [
      "(3729, 3)\n"
     ]
    },
    {
     "data": {
      "text/html": [
       "<div>\n",
       "<style scoped>\n",
       "    .dataframe tbody tr th:only-of-type {\n",
       "        vertical-align: middle;\n",
       "    }\n",
       "\n",
       "    .dataframe tbody tr th {\n",
       "        vertical-align: top;\n",
       "    }\n",
       "\n",
       "    .dataframe thead th {\n",
       "        text-align: right;\n",
       "    }\n",
       "</style>\n",
       "<table border=\"1\" class=\"dataframe\">\n",
       "  <thead>\n",
       "    <tr style=\"text-align: right;\">\n",
       "      <th></th>\n",
       "      <th>scene_id</th>\n",
       "      <th>label</th>\n",
       "      <th>movie</th>\n",
       "    </tr>\n",
       "  </thead>\n",
       "  <tbody>\n",
       "    <tr>\n",
       "      <th>3724</th>\n",
       "      <td>220</td>\n",
       "      <td>Finale</td>\n",
       "      <td>dallas buyers club</td>\n",
       "    </tr>\n",
       "    <tr>\n",
       "      <th>3725</th>\n",
       "      <td>221</td>\n",
       "      <td>Finale</td>\n",
       "      <td>dallas buyers club</td>\n",
       "    </tr>\n",
       "    <tr>\n",
       "      <th>3726</th>\n",
       "      <td>224</td>\n",
       "      <td>Final Image</td>\n",
       "      <td>dallas buyers club</td>\n",
       "    </tr>\n",
       "    <tr>\n",
       "      <th>3727</th>\n",
       "      <td>226</td>\n",
       "      <td>Final Image</td>\n",
       "      <td>dallas buyers club</td>\n",
       "    </tr>\n",
       "    <tr>\n",
       "      <th>3728</th>\n",
       "      <td>227</td>\n",
       "      <td>Final Image</td>\n",
       "      <td>dallas buyers club</td>\n",
       "    </tr>\n",
       "  </tbody>\n",
       "</table>\n",
       "</div>"
      ],
      "text/plain": [
       "      scene_id        label               movie\n",
       "3724       220       Finale  dallas buyers club\n",
       "3725       221       Finale  dallas buyers club\n",
       "3726       224  Final Image  dallas buyers club\n",
       "3727       226  Final Image  dallas buyers club\n",
       "3728       227  Final Image  dallas buyers club"
      ]
     },
     "execution_count": 143,
     "metadata": {},
     "output_type": "execute_result"
    }
   ],
   "source": [
    "dfs = []\n",
    "for idx, file in enumerate(files):\n",
    "    # print(feature_files[idx])\n",
    "    labels_path = os.path.join(LABELS_PATH, feature_files[idx])\n",
    "    \n",
    "    df = pd.read_csv(labels_path, keep_default_na=False)\n",
    "    df.rename(\n",
    "        columns={\n",
    "            \"Unnamed: 0\": \"scene_id\",\n",
    "            \"0\": \"label\"\n",
    "        }, inplace=True\n",
    "    )\n",
    "    df[\"movie\"] = movies[idx]\n",
    "    \n",
    "    dfs.append(df)\n",
    "\n",
    "labels = pd.concat(dfs, ignore_index=True)\n",
    "print(labels.shape)\n",
    "labels.tail()"
   ]
  },
  {
   "cell_type": "code",
   "execution_count": 144,
   "id": "11d3f539-33f6-4e17-9265-af44f3639837",
   "metadata": {},
   "outputs": [],
   "source": [
    "# TODO: DELETE\n",
    "# sample_file = \"tt0790636_dallas buyers club.csv\"\n",
    "# sample_labels_path = os.path.join(LABELS_PATH, sample_file)\n",
    "\n",
    "# # Some scenes are labeled as \"None\"\n",
    "# labels = pd.read_csv(sample_labels_path, keep_default_na=False)\n",
    "# labels.rename(\n",
    "#     columns={\n",
    "#         \"Unnamed: 0\": \"scene_id\",\n",
    "#         \"0\": \"label\"\n",
    "#     }, inplace=True\n",
    "# )\n",
    "\n",
    "# labels[\"movie\"] = movie_name\n",
    "\n",
    "# # print(\"Scenes that are labeled 'None':\")\n",
    "# # print(labels[labels['label'] == 'None'])\n",
    "\n",
    "# labels.tail()"
   ]
  },
  {
   "cell_type": "markdown",
   "id": "12bf534f-0205-4b3d-8779-3c3bf53ae04d",
   "metadata": {},
   "source": [
    "## Merge dataframes"
   ]
  },
  {
   "cell_type": "code",
   "execution_count": 147,
   "id": "aaced6b2-e619-4134-80ea-932c5a7eb1c9",
   "metadata": {},
   "outputs": [
    {
     "name": "stdout",
     "output_type": "stream",
     "text": [
      "(3729, 12)\n"
     ]
    },
    {
     "data": {
      "text/html": [
       "<div>\n",
       "<style scoped>\n",
       "    .dataframe tbody tr th:only-of-type {\n",
       "        vertical-align: middle;\n",
       "    }\n",
       "\n",
       "    .dataframe tbody tr th {\n",
       "        vertical-align: top;\n",
       "    }\n",
       "\n",
       "    .dataframe thead th {\n",
       "        text-align: right;\n",
       "    }\n",
       "</style>\n",
       "<table border=\"1\" class=\"dataframe\">\n",
       "  <thead>\n",
       "    <tr style=\"text-align: right;\">\n",
       "      <th></th>\n",
       "      <th>scene_id</th>\n",
       "      <th>start</th>\n",
       "      <th>end</th>\n",
       "      <th>movie</th>\n",
       "      <th>s_dur</th>\n",
       "      <th>n_shots</th>\n",
       "      <th>ava_shot_dur</th>\n",
       "      <th>rel_id_loc</th>\n",
       "      <th>rel_t_loc</th>\n",
       "      <th>ava_char_score</th>\n",
       "      <th>is_prot_appear</th>\n",
       "      <th>label</th>\n",
       "    </tr>\n",
       "  </thead>\n",
       "  <tbody>\n",
       "    <tr>\n",
       "      <th>3724</th>\n",
       "      <td>220</td>\n",
       "      <td>6499.655</td>\n",
       "      <td>6571.893</td>\n",
       "      <td>dallas buyers club</td>\n",
       "      <td>74.699333</td>\n",
       "      <td>16</td>\n",
       "      <td>4.668708</td>\n",
       "      <td>0.960699</td>\n",
       "      <td>0.926278</td>\n",
       "      <td>656.478716</td>\n",
       "      <td>1</td>\n",
       "      <td>Finale</td>\n",
       "    </tr>\n",
       "    <tr>\n",
       "      <th>3725</th>\n",
       "      <td>221</td>\n",
       "      <td>6574.396</td>\n",
       "      <td>6574.396</td>\n",
       "      <td>dallas buyers club</td>\n",
       "      <td>5.380333</td>\n",
       "      <td>1</td>\n",
       "      <td>5.380333</td>\n",
       "      <td>0.965066</td>\n",
       "      <td>0.936929</td>\n",
       "      <td>372.108700</td>\n",
       "      <td>0</td>\n",
       "      <td>Finale</td>\n",
       "    </tr>\n",
       "    <tr>\n",
       "      <th>3726</th>\n",
       "      <td>224</td>\n",
       "      <td>6589.161</td>\n",
       "      <td>6609.264</td>\n",
       "      <td>dallas buyers club</td>\n",
       "      <td>34.826333</td>\n",
       "      <td>6</td>\n",
       "      <td>5.804389</td>\n",
       "      <td>0.978166</td>\n",
       "      <td>0.939033</td>\n",
       "      <td>928.370357</td>\n",
       "      <td>1</td>\n",
       "      <td>Final Image</td>\n",
       "    </tr>\n",
       "    <tr>\n",
       "      <th>3727</th>\n",
       "      <td>226</td>\n",
       "      <td>6629.701</td>\n",
       "      <td>6677.999</td>\n",
       "      <td>dallas buyers club</td>\n",
       "      <td>52.761333</td>\n",
       "      <td>19</td>\n",
       "      <td>2.776912</td>\n",
       "      <td>0.986900</td>\n",
       "      <td>0.944811</td>\n",
       "      <td>1076.267498</td>\n",
       "      <td>1</td>\n",
       "      <td>Final Image</td>\n",
       "    </tr>\n",
       "    <tr>\n",
       "      <th>3728</th>\n",
       "      <td>227</td>\n",
       "      <td>6682.504</td>\n",
       "      <td>6686.675</td>\n",
       "      <td>dallas buyers club</td>\n",
       "      <td>5.672333</td>\n",
       "      <td>4</td>\n",
       "      <td>1.418083</td>\n",
       "      <td>0.991266</td>\n",
       "      <td>0.952336</td>\n",
       "      <td>2085.459362</td>\n",
       "      <td>1</td>\n",
       "      <td>Final Image</td>\n",
       "    </tr>\n",
       "  </tbody>\n",
       "</table>\n",
       "</div>"
      ],
      "text/plain": [
       "      scene_id     start       end               movie      s_dur  n_shots  \\\n",
       "3724       220  6499.655  6571.893  dallas buyers club  74.699333       16   \n",
       "3725       221  6574.396  6574.396  dallas buyers club   5.380333        1   \n",
       "3726       224  6589.161  6609.264  dallas buyers club  34.826333        6   \n",
       "3727       226  6629.701  6677.999  dallas buyers club  52.761333       19   \n",
       "3728       227  6682.504  6686.675  dallas buyers club   5.672333        4   \n",
       "\n",
       "      ava_shot_dur  rel_id_loc  rel_t_loc  ava_char_score  is_prot_appear  \\\n",
       "3724      4.668708    0.960699   0.926278      656.478716               1   \n",
       "3725      5.380333    0.965066   0.936929      372.108700               0   \n",
       "3726      5.804389    0.978166   0.939033      928.370357               1   \n",
       "3727      2.776912    0.986900   0.944811     1076.267498               1   \n",
       "3728      1.418083    0.991266   0.952336     2085.459362               1   \n",
       "\n",
       "            label  \n",
       "3724       Finale  \n",
       "3725       Finale  \n",
       "3726  Final Image  \n",
       "3727  Final Image  \n",
       "3728  Final Image  "
      ]
     },
     "execution_count": 147,
     "metadata": {},
     "output_type": "execute_result"
    }
   ],
   "source": [
    "timestamps_features = pd.merge(timestamps, features, on=[\"scene_id\", \"movie\"], how=\"outer\")\n",
    "full_data = pd.merge(timestamps_features, labels, on=[\"scene_id\", \"movie\"], how=\"outer\")\n",
    "\n",
    "print(full_data.shape)\n",
    "full_data.tail()"
   ]
  },
  {
   "cell_type": "markdown",
   "id": "1831d8b3-95ac-449d-9dfc-83ff25f5fbfd",
   "metadata": {},
   "source": [
    "## Correct end column"
   ]
  },
  {
   "cell_type": "code",
   "execution_count": 149,
   "id": "7fcb2f39-2263-4b87-9be2-f3a05dcaf462",
   "metadata": {},
   "outputs": [
    {
     "data": {
      "text/html": [
       "<div>\n",
       "<style scoped>\n",
       "    .dataframe tbody tr th:only-of-type {\n",
       "        vertical-align: middle;\n",
       "    }\n",
       "\n",
       "    .dataframe tbody tr th {\n",
       "        vertical-align: top;\n",
       "    }\n",
       "\n",
       "    .dataframe thead th {\n",
       "        text-align: right;\n",
       "    }\n",
       "</style>\n",
       "<table border=\"1\" class=\"dataframe\">\n",
       "  <thead>\n",
       "    <tr style=\"text-align: right;\">\n",
       "      <th></th>\n",
       "      <th>scene_id</th>\n",
       "      <th>start</th>\n",
       "      <th>end</th>\n",
       "      <th>movie</th>\n",
       "      <th>s_dur</th>\n",
       "      <th>n_shots</th>\n",
       "      <th>ava_shot_dur</th>\n",
       "      <th>rel_id_loc</th>\n",
       "      <th>rel_t_loc</th>\n",
       "      <th>ava_char_score</th>\n",
       "      <th>is_prot_appear</th>\n",
       "      <th>label</th>\n",
       "    </tr>\n",
       "  </thead>\n",
       "  <tbody>\n",
       "    <tr>\n",
       "      <th>3724</th>\n",
       "      <td>220</td>\n",
       "      <td>6499.655</td>\n",
       "      <td>6574.354333</td>\n",
       "      <td>dallas buyers club</td>\n",
       "      <td>74.699333</td>\n",
       "      <td>16</td>\n",
       "      <td>4.668708</td>\n",
       "      <td>0.960699</td>\n",
       "      <td>0.926278</td>\n",
       "      <td>656.478716</td>\n",
       "      <td>1</td>\n",
       "      <td>Finale</td>\n",
       "    </tr>\n",
       "    <tr>\n",
       "      <th>3725</th>\n",
       "      <td>221</td>\n",
       "      <td>6574.396</td>\n",
       "      <td>6579.776333</td>\n",
       "      <td>dallas buyers club</td>\n",
       "      <td>5.380333</td>\n",
       "      <td>1</td>\n",
       "      <td>5.380333</td>\n",
       "      <td>0.965066</td>\n",
       "      <td>0.936929</td>\n",
       "      <td>372.108700</td>\n",
       "      <td>0</td>\n",
       "      <td>Finale</td>\n",
       "    </tr>\n",
       "    <tr>\n",
       "      <th>3726</th>\n",
       "      <td>224</td>\n",
       "      <td>6589.161</td>\n",
       "      <td>6623.987333</td>\n",
       "      <td>dallas buyers club</td>\n",
       "      <td>34.826333</td>\n",
       "      <td>6</td>\n",
       "      <td>5.804389</td>\n",
       "      <td>0.978166</td>\n",
       "      <td>0.939033</td>\n",
       "      <td>928.370357</td>\n",
       "      <td>1</td>\n",
       "      <td>Final Image</td>\n",
       "    </tr>\n",
       "    <tr>\n",
       "      <th>3727</th>\n",
       "      <td>226</td>\n",
       "      <td>6629.701</td>\n",
       "      <td>6682.462333</td>\n",
       "      <td>dallas buyers club</td>\n",
       "      <td>52.761333</td>\n",
       "      <td>19</td>\n",
       "      <td>2.776912</td>\n",
       "      <td>0.986900</td>\n",
       "      <td>0.944811</td>\n",
       "      <td>1076.267498</td>\n",
       "      <td>1</td>\n",
       "      <td>Final Image</td>\n",
       "    </tr>\n",
       "    <tr>\n",
       "      <th>3728</th>\n",
       "      <td>227</td>\n",
       "      <td>6682.504</td>\n",
       "      <td>6688.176333</td>\n",
       "      <td>dallas buyers club</td>\n",
       "      <td>5.672333</td>\n",
       "      <td>4</td>\n",
       "      <td>1.418083</td>\n",
       "      <td>0.991266</td>\n",
       "      <td>0.952336</td>\n",
       "      <td>2085.459362</td>\n",
       "      <td>1</td>\n",
       "      <td>Final Image</td>\n",
       "    </tr>\n",
       "  </tbody>\n",
       "</table>\n",
       "</div>"
      ],
      "text/plain": [
       "      scene_id     start          end               movie      s_dur  n_shots  \\\n",
       "3724       220  6499.655  6574.354333  dallas buyers club  74.699333       16   \n",
       "3725       221  6574.396  6579.776333  dallas buyers club   5.380333        1   \n",
       "3726       224  6589.161  6623.987333  dallas buyers club  34.826333        6   \n",
       "3727       226  6629.701  6682.462333  dallas buyers club  52.761333       19   \n",
       "3728       227  6682.504  6688.176333  dallas buyers club   5.672333        4   \n",
       "\n",
       "      ava_shot_dur  rel_id_loc  rel_t_loc  ava_char_score  is_prot_appear  \\\n",
       "3724      4.668708    0.960699   0.926278      656.478716               1   \n",
       "3725      5.380333    0.965066   0.936929      372.108700               0   \n",
       "3726      5.804389    0.978166   0.939033      928.370357               1   \n",
       "3727      2.776912    0.986900   0.944811     1076.267498               1   \n",
       "3728      1.418083    0.991266   0.952336     2085.459362               1   \n",
       "\n",
       "            label  \n",
       "3724       Finale  \n",
       "3725       Finale  \n",
       "3726  Final Image  \n",
       "3727  Final Image  \n",
       "3728  Final Image  "
      ]
     },
     "execution_count": 149,
     "metadata": {},
     "output_type": "execute_result"
    }
   ],
   "source": [
    "full_data[\"end\"] = full_data[\"start\"] + full_data[\"s_dur\"]\n",
    "full_data.tail()"
   ]
  },
  {
   "cell_type": "markdown",
   "id": "8e4c61e3-fdb8-45bd-9d9e-f47fff1e28fb",
   "metadata": {},
   "source": [
    "## Load subtitles"
   ]
  },
  {
   "cell_type": "code",
   "execution_count": 150,
   "id": "5eae068f-77ad-4d4e-a9e8-b22fa4f80c47",
   "metadata": {},
   "outputs": [],
   "source": [
    "import srt"
   ]
  },
  {
   "cell_type": "code",
   "execution_count": 156,
   "id": "64c1aa39-bc40-47b7-b024-520ecd2cdc25",
   "metadata": {},
   "outputs": [
    {
     "name": "stdout",
     "output_type": "stream",
     "text": [
      "tt0116695_jerry maguire.srt\n"
     ]
    }
   ],
   "source": [
    "subtitles_files = [file.replace('.csv', '.srt') for file in feature_files]\n",
    "print(subtitles_files[10])"
   ]
  },
  {
   "cell_type": "code",
   "execution_count": 157,
   "id": "c2bc1421-41c6-4f33-a9de-3f92c0b5e96f",
   "metadata": {},
   "outputs": [
    {
     "name": "stdout",
     "output_type": "stream",
     "text": [
      "train/train/subtitles\\tt0116695_jerry maguire.srt\n"
     ]
    }
   ],
   "source": [
    "subtitle_paths = [os.path.join(SUBTITLES_PATH, subtitle_file) for subtitle_file in subtitles_files]\n",
    "print(subtitle_paths[10])"
   ]
  },
  {
   "cell_type": "code",
   "execution_count": 230,
   "id": "4e5c89a9-34e5-4954-b1ed-e85a1468cc77",
   "metadata": {},
   "outputs": [],
   "source": [
    "movie_subtitles = {}\n",
    "\n",
    "for idx, file in enumerate(files):\n",
    "    movie_name = movies[idx]\n",
    "    movie_subtitles[movie_name] = []\n",
    "    # print(movie_name)\n",
    "\n",
    "    if movie_name == \"pretty woman\":\n",
    "        with open(subtitle_paths[idx], 'r', encoding='utf-16') as subtitle_file:\n",
    "            movie_subtitles[movie_name] = list(srt.parse(subtitle_file.read()))\n",
    "    else:\n",
    "        with open(subtitle_paths[idx], 'r', encoding='utf-8') as subtitle_file:\n",
    "            movie_subtitles[movie_name] = list(srt.parse(subtitle_file.read()))\n"
   ]
  },
  {
   "cell_type": "code",
   "execution_count": 231,
   "id": "8ee98b5c-5c98-422a-8a5e-5d6647fa3104",
   "metadata": {},
   "outputs": [],
   "source": [
    "# TODO: DELETE\n",
    "# subtitles = []\n",
    "# with open(sample_subtitles_path, 'r') as file:\n",
    "#     subtitles = list(srt.parse(file.read())) "
   ]
  },
  {
   "cell_type": "code",
   "execution_count": 232,
   "id": "f2ef27d9-bebd-4007-a744-029d2ca7d622",
   "metadata": {},
   "outputs": [],
   "source": [
    "def print_sub_info(sub):\n",
    "    print(f\"Subtitle {idx + 1}\")\n",
    "    print(f\"Start Time: {sub.start.total_seconds()}\")\n",
    "    print(f\"End Time: {sub.end.total_seconds()}\")\n",
    "    print(f\"Text: {sub.content}\")\n",
    "    print()"
   ]
  },
  {
   "cell_type": "code",
   "execution_count": 233,
   "id": "2f08f684-b487-4003-999f-9b90413018f2",
   "metadata": {},
   "outputs": [
    {
     "name": "stdout",
     "output_type": "stream",
     "text": [
      "MOVIE: the lost weekend\n",
      "Subtitle 1\n",
      "Start Time: 150.32\n",
      "End Time: 152.926\n",
      "Text: You'd better take this along, Don.\n",
      "It's gonna be cold on the farm.\n",
      "\n",
      "Subtitle 2\n",
      "Start Time: 153.04\n",
      "End Time: 154.963\n",
      "Text: - OK.\n",
      "- How many shirts are you taking?\n",
      "\n"
     ]
    }
   ],
   "source": [
    "movie_name = movies[0]\n",
    "print(f\"MOVIE: {movie_name}\")\n",
    "for idx, sub in enumerate(movie_subtitles[movie_name]):\n",
    "    print_sub_info(sub)\n",
    "\n",
    "    if idx == 1: break"
   ]
  },
  {
   "cell_type": "code",
   "execution_count": 264,
   "id": "e9534f79-6b1f-43d4-bdcd-cb052cc14f5a",
   "metadata": {},
   "outputs": [
    {
     "name": "stdout",
     "output_type": "stream",
     "text": [
      "Ignored subtitltes: 3018\n"
     ]
    }
   ],
   "source": [
    "last_processed_subtitle_idx = 0\n",
    "movies_scenes_subtitles = {}\n",
    "missed_subtitles = 0\n",
    "\n",
    "for scene_idx, scene_row in full_data.iterrows():\n",
    "    scene_start = scene_row['start']\n",
    "    scene_end = scene_row['end']\n",
    "    scene_id = scene_row['scene_id']\n",
    "    movie_name = scene_row['movie']\n",
    "\n",
    "    # Create new dictionary for every movie\n",
    "    if movie_name not in movies_scenes_subtitles:\n",
    "        # print(f\"Movie: {movie_name}\")\n",
    "        # print(\"==================================================================\")\n",
    "        movies_scenes_subtitles[movie_name] = {}\n",
    "        last_processed_subtitle_idx = 0\n",
    "    \n",
    "    # print(f\"Scene: {scene_id}, Start Time - {scene_start}, End Time - {scene_end}\")\n",
    "        \n",
    "    # Craete new dictionary for every scene within movie\n",
    "    movies_scenes_subtitles[movie_name][scene_id] = []\n",
    "\n",
    "    current_movie_subtitles = movie_subtitles[movie_name]\n",
    "    for idx in range(last_processed_subtitle_idx, len(current_movie_subtitles)):\n",
    "        sub = current_movie_subtitles[idx]\n",
    "        sub_start = sub.start.total_seconds()\n",
    "        sub_end = sub.end.total_seconds()\n",
    "        sub_content = sub.content\n",
    "\n",
    "        # Some subtitles start just before scene_start\n",
    "        if scene_start <= (sub_start + 0.05) and scene_end >= sub_end:\n",
    "            # print(f\"Subtitle {idx + 1}: Start Time - {sub_start}, End Time - {sub_end}\")\n",
    "            # print(f\"{sub_content}\")\n",
    "\n",
    "            # Add subtitle content to the dictionary for the current scene\n",
    "            movies_scenes_subtitles[movie_name][scene_id].append(sub_content)\n",
    "            \n",
    "        elif scene_end < sub_end:\n",
    "            last_processed_subtitle_idx = idx\n",
    "            break\n",
    "        else:\n",
    "            missed_subtitles += 1\n",
    "            # print(f\"Scene: {scene_id}, Start Time - {scene_start}, End Time - {scene_end}\")\n",
    "            # print(f\"Subtitle {idx + 1}: Start Time - {sub_start}, End Time - {sub_end}\")\n",
    "            # print(f\"{sub_content}\")\n",
    "\n",
    "# I believe that subtitles are ignored for 2 reasons\n",
    "# 1. some subtitles start just before scene starts\n",
    "# 2. some scenes are missing from dataset\n",
    "print(f\"Ignored subtitltes: {missed_subtitles}\")"
   ]
  },
  {
   "cell_type": "code",
   "execution_count": 267,
   "id": "11bf787c-9300-4255-8288-a8f15b8d44ec",
   "metadata": {},
   "outputs": [
    {
     "data": {
      "text/plain": [
       "\"- And you have all four. Take a look. - Oh! But I wouldn't trust you with real gold. That's why this one's only worth about a penny. - Hmm. - And if you wonder where the other one went, watch. Penny from the ear. How much for the rest? - Have you seen Edward? - No, I haven't. Great party, Philip. Well, my wife went to a lot of trouble. She called a caterer. - Excuse me, Anne. Howard, how are ya? - Philip, good. Hey, I understand Edward's taking over Morse Industries. - Yeah, well, he's not here to get a suntan. - Can I get in on it? - Yeah, call me. - When? - Just call me. Uh, hi. I'm Philip Stuckey, Edward Lewis' lawyer. - Hey, where's the guest of honour anyway? - Well, if I know him,\""
      ]
     },
     "execution_count": 267,
     "metadata": {},
     "output_type": "execute_result"
    }
   ],
   "source": [
    "movies_scenes_subtitles['pretty woman'][1]"
   ]
  },
  {
   "cell_type": "markdown",
   "id": "f6c0a6fe",
   "metadata": {},
   "source": [
    "## Subtitles cleaning and combining"
   ]
  },
  {
   "cell_type": "code",
   "execution_count": 266,
   "id": "b4d1034b",
   "metadata": {},
   "outputs": [
    {
     "data": {
      "text/plain": [
       "\"You'd better take this along, Don. It's gonna be cold on the farm. - OK. - How many shirts are you taking? - Three. - I'm taking five. - Five? - Yeah, I told them at the office I might not be back until Tuesday. We'll get there this afternoon. That's Friday, Saturday, Sunday, Monday. We'll make it a long, wonderful weekend. Sounds long, all right. It'll be good for you, Don, after what you've been through. Trees, grass, sweet cider and buttermilk and water from that well that's colder than any other... Wick, please. Why this emphasis on liquids? Very dull liquids. Sorry, Don. I think it'd be a good idea if we took along my typewriter. - What for? - To write. I'm gonna write there, get started on that novel. - You really feel up to writing? - Why not? After what you've been through. I haven't touched the stuff for 10 days now. I know. I know you haven't, Don. - Where is the typewriter? - In the living room. In the closet. Kind of towards the back.\""
      ]
     },
     "execution_count": 266,
     "metadata": {},
     "output_type": "execute_result"
    }
   ],
   "source": [
    "for movie_name, scenes in movies_scenes_subtitles.items():\n",
    "    for scene_id, subtitles in scenes.items():\n",
    "        cleaned_subtitles = []\n",
    "        for subtitle in subtitles:\n",
    "            # Remove new line characters and dashes\n",
    "            cleaned_subtitle = subtitle.replace('\\n', ' ').strip()\n",
    "            cleaned_subtitles.append(cleaned_subtitle)\n",
    "        combined_text = \" \".join(cleaned_subtitles)\n",
    "        movies_scenes_subtitles[movie_name][scene_id] = combined_text\n",
    "\n",
    "movies_scenes_subtitles['pretty woman'][1]"
   ]
  },
  {
   "cell_type": "markdown",
   "id": "b4cafdd5",
   "metadata": {},
   "source": [
    "## Tokenize and Embeddings"
   ]
  },
  {
   "cell_type": "code",
   "execution_count": 269,
   "id": "98486364",
   "metadata": {},
   "outputs": [],
   "source": [
    "from transformers import BertTokenizer, BertModel\n",
    "import torch\n",
    "\n",
    "tokenizer = BertTokenizer.from_pretrained('bert-base-uncased')\n",
    "model = BertModel.from_pretrained('bert-base-uncased')\n",
    "\n",
    "embeddings = []\n",
    "for movie_name, scenes in movies_scenes_subtitles.items():\n",
    "    for scene_id, combined_text in scenes.items():\n",
    "        inputs = tokenizer(combined_text, return_tensors=\"pt\", truncation=True, padding=True, max_length=512)\n",
    "        outputs = model(**inputs)\n",
    "        embedding = outputs.last_hidden_state.mean(dim=1).squeeze().tolist()\n",
    "        movies_scenes_subtitles[movie_name][scene_id] = embedding"
   ]
  },
  {
   "cell_type": "code",
   "execution_count": 272,
   "id": "fda1ec3e",
   "metadata": {},
   "outputs": [],
   "source": [
    "# movies_scenes_subtitles['pretty woman'][1]"
   ]
  },
  {
   "cell_type": "markdown",
   "id": "70e715b4",
   "metadata": {},
   "source": [
    "## Merge with Full Data"
   ]
  },
  {
   "cell_type": "code",
   "execution_count": 274,
   "id": "5366b0d9",
   "metadata": {},
   "outputs": [
    {
     "ename": "ValueError",
     "evalue": "cannot insert embedding, already exists",
     "output_type": "error",
     "traceback": [
      "\u001b[1;31m---------------------------------------------------------------------------\u001b[0m",
      "\u001b[1;31mValueError\u001b[0m                                Traceback (most recent call last)",
      "\u001b[1;32m~\\AppData\\Local\\Temp\\ipykernel_18640\\1127712581.py\u001b[0m in \u001b[0;36m?\u001b[1;34m()\u001b[0m\n\u001b[0;32m      6\u001b[0m     \u001b[0membedding\u001b[0m \u001b[1;33m=\u001b[0m \u001b[0mmovies_scenes_subtitles\u001b[0m\u001b[1;33m.\u001b[0m\u001b[0mget\u001b[0m\u001b[1;33m(\u001b[0m\u001b[0mmovie_name\u001b[0m\u001b[1;33m,\u001b[0m \u001b[1;33m{\u001b[0m\u001b[1;33m}\u001b[0m\u001b[1;33m)\u001b[0m\u001b[1;33m.\u001b[0m\u001b[0mget\u001b[0m\u001b[1;33m(\u001b[0m\u001b[0mscene_id\u001b[0m\u001b[1;33m,\u001b[0m \u001b[1;32mNone\u001b[0m\u001b[1;33m)\u001b[0m\u001b[1;33m\u001b[0m\u001b[1;33m\u001b[0m\u001b[0m\n\u001b[0;32m      7\u001b[0m \u001b[1;33m\u001b[0m\u001b[0m\n\u001b[0;32m      8\u001b[0m     \u001b[0membeddings\u001b[0m\u001b[1;33m.\u001b[0m\u001b[0mappend\u001b[0m\u001b[1;33m(\u001b[0m\u001b[0membedding\u001b[0m\u001b[1;33m)\u001b[0m\u001b[1;33m\u001b[0m\u001b[1;33m\u001b[0m\u001b[0m\n\u001b[0;32m      9\u001b[0m \u001b[1;33m\u001b[0m\u001b[0m\n\u001b[1;32m---> 10\u001b[1;33m \u001b[0mfull_data\u001b[0m\u001b[1;33m.\u001b[0m\u001b[0minsert\u001b[0m\u001b[1;33m(\u001b[0m\u001b[0mfull_data\u001b[0m\u001b[1;33m.\u001b[0m\u001b[0mcolumns\u001b[0m\u001b[1;33m.\u001b[0m\u001b[0mget_loc\u001b[0m\u001b[1;33m(\u001b[0m\u001b[1;34m'label'\u001b[0m\u001b[1;33m)\u001b[0m\u001b[1;33m,\u001b[0m \u001b[1;34m'embedding'\u001b[0m\u001b[1;33m,\u001b[0m \u001b[0membeddings\u001b[0m\u001b[1;33m)\u001b[0m\u001b[1;33m\u001b[0m\u001b[1;33m\u001b[0m\u001b[0m\n\u001b[0m\u001b[0;32m     11\u001b[0m \u001b[0mfull_data\u001b[0m\u001b[1;33m.\u001b[0m\u001b[0mtail\u001b[0m\u001b[1;33m(\u001b[0m\u001b[1;33m)\u001b[0m\u001b[1;33m\u001b[0m\u001b[1;33m\u001b[0m\u001b[0m\n",
      "\u001b[1;32m~\\miniconda3\\envs\\zed\\Lib\\site-packages\\pandas\\core\\frame.py\u001b[0m in \u001b[0;36m?\u001b[1;34m(self, loc, column, value, allow_duplicates)\u001b[0m\n\u001b[0;32m   4927\u001b[0m                 \u001b[1;34m\"'self.flags.allows_duplicate_labels' is False.\"\u001b[0m\u001b[1;33m\u001b[0m\u001b[1;33m\u001b[0m\u001b[0m\n\u001b[0;32m   4928\u001b[0m             )\n\u001b[0;32m   4929\u001b[0m         \u001b[1;32mif\u001b[0m \u001b[1;32mnot\u001b[0m \u001b[0mallow_duplicates\u001b[0m \u001b[1;32mand\u001b[0m \u001b[0mcolumn\u001b[0m \u001b[1;32min\u001b[0m \u001b[0mself\u001b[0m\u001b[1;33m.\u001b[0m\u001b[0mcolumns\u001b[0m\u001b[1;33m:\u001b[0m\u001b[1;33m\u001b[0m\u001b[1;33m\u001b[0m\u001b[0m\n\u001b[0;32m   4930\u001b[0m             \u001b[1;31m# Should this be a different kind of error??\u001b[0m\u001b[1;33m\u001b[0m\u001b[1;33m\u001b[0m\u001b[0m\n\u001b[1;32m-> 4931\u001b[1;33m             \u001b[1;32mraise\u001b[0m \u001b[0mValueError\u001b[0m\u001b[1;33m(\u001b[0m\u001b[1;34mf\"cannot insert {column}, already exists\"\u001b[0m\u001b[1;33m)\u001b[0m\u001b[1;33m\u001b[0m\u001b[1;33m\u001b[0m\u001b[0m\n\u001b[0m\u001b[0;32m   4932\u001b[0m         \u001b[1;32mif\u001b[0m \u001b[1;32mnot\u001b[0m \u001b[0mis_integer\u001b[0m\u001b[1;33m(\u001b[0m\u001b[0mloc\u001b[0m\u001b[1;33m)\u001b[0m\u001b[1;33m:\u001b[0m\u001b[1;33m\u001b[0m\u001b[1;33m\u001b[0m\u001b[0m\n\u001b[0;32m   4933\u001b[0m             \u001b[1;32mraise\u001b[0m \u001b[0mTypeError\u001b[0m\u001b[1;33m(\u001b[0m\u001b[1;34m\"loc must be int\"\u001b[0m\u001b[1;33m)\u001b[0m\u001b[1;33m\u001b[0m\u001b[1;33m\u001b[0m\u001b[0m\n\u001b[0;32m   4934\u001b[0m         \u001b[1;31m# convert non stdlib ints to satisfy typing checks\u001b[0m\u001b[1;33m\u001b[0m\u001b[1;33m\u001b[0m\u001b[0m\n",
      "\u001b[1;31mValueError\u001b[0m: cannot insert embedding, already exists"
     ]
    }
   ],
   "source": [
    "embeddings = []\n",
    "for index, row in full_data.iterrows():\n",
    "    movie_name = row['movie']\n",
    "    scene_id = row['scene_id']\n",
    "    \n",
    "    embedding = movies_scenes_subtitles.get(movie_name, {}).get(scene_id, None)\n",
    "    \n",
    "    embeddings.append(embedding)\n",
    "\n",
    "full_data.insert(full_data.columns.get_loc('label'), 'embedding', embeddings)\n",
    "full_data.tail()"
   ]
  },
  {
   "cell_type": "markdown",
   "id": "4334d013",
   "metadata": {},
   "source": [
    "## First Model"
   ]
  },
  {
   "cell_type": "markdown",
   "id": "efed7adb",
   "metadata": {},
   "source": [
    "### Tuning hyperparameters"
   ]
  },
  {
   "cell_type": "code",
   "execution_count": 279,
   "id": "f292ba62",
   "metadata": {},
   "outputs": [
    {
     "name": "stdout",
     "output_type": "stream",
     "text": [
      "3729\n",
      "3729\n",
      "Best parameters: {'n_estimators': 200, 'min_samples_split': 15, 'min_samples_leaf': 20, 'max_depth': 15}\n"
     ]
    }
   ],
   "source": [
    "from sklearn.model_selection import cross_val_score, RandomizedSearchCV\n",
    "from sklearn.ensemble import RandomForestClassifier\n",
    "print(len(full_data))\n",
    "full_data_clean = full_data.dropna()\n",
    "print(len(full_data_clean))\n",
    "\n",
    "embeddings = np.array(full_data_clean['embedding'].tolist())\n",
    "\n",
    "X = full_data_clean[['s_dur', 'n_shots', 'ava_shot_dur', 'rel_id_loc', 'rel_t_loc', 'ava_char_score', 'is_prot_appear']]\n",
    "X = np.hstack((X, embeddings))\n",
    "y = full_data_clean['label']\n",
    "\n",
    "param_dist = {\n",
    "    'n_estimators': [210, 240, 200, 225, 250],\n",
    "    'min_samples_split': [15, 25, 35],\n",
    "    'min_samples_leaf': [10, 15, 20],\n",
    "    'max_depth': [10, 15, 20, 25, 30, 50]\n",
    "}\n",
    "\n",
    "random_search = RandomizedSearchCV(RandomForestClassifier(random_state=23), param_distributions=param_dist, n_iter=10, cv=5, random_state=23, n_jobs=-1)\n",
    "random_search.fit(X, y)\n",
    "\n",
    "print(\"Best parameters:\", random_search.best_params_)"
   ]
  },
  {
   "cell_type": "markdown",
   "id": "b3e338f7",
   "metadata": {},
   "source": [
    "### Cross-Validation"
   ]
  },
  {
   "cell_type": "code",
   "execution_count": 296,
   "id": "608c4a5e",
   "metadata": {},
   "outputs": [],
   "source": [
    "model = RandomForestClassifier(random_state=23, n_estimators=200, min_samples_split=15, min_samples_leaf=20, max_depth=15)\n",
    "model.fit(X, y)\n",
    "y_pred = model.predict(X)\n",
    "# scores = cross_val_score(model, X, y, cv=5)\n",
    "# print(f\"Mean Accuracy from cross-validation: {np.mean(scores)}\")"
   ]
  },
  {
   "cell_type": "markdown",
   "id": "bff470f4-0400-4ec3-a8bc-aac7c47e08be",
   "metadata": {},
   "source": [
    "### Scores"
   ]
  },
  {
   "cell_type": "code",
   "execution_count": 304,
   "id": "1e086559-82e7-44a9-a159-970d9dbd8171",
   "metadata": {},
   "outputs": [
    {
     "name": "stdout",
     "output_type": "stream",
     "text": [
      "                        precision    recall  f1-score   support\n",
      "\n",
      "         Opening Image       0.00      0.00      0.00        69\n",
      "                Set-Up       0.67      0.87      0.76       426\n",
      "          Theme Stated       0.91      0.75      0.82       345\n",
      "              Catalyst       0.00      0.00      0.00        92\n",
      "                Debate       0.00      0.00      0.00        81\n",
      "                  None       0.00      0.00      0.00        72\n",
      "        Break into Two       1.00      0.01      0.01       146\n",
      "               B Story       1.00      0.34      0.51       232\n",
      "              Midpoint       0.00      0.00      0.00        85\n",
      "     Bad Guys Close In       0.66      0.99      0.80       611\n",
      "           All Is Lost       0.95      0.79      0.86       370\n",
      "Dark Night of the Soul       0.00      0.00      0.00       102\n",
      "      Break into Three       0.51      0.86      0.64       521\n",
      "                Finale       0.00      0.00      0.00        64\n",
      "           Final Image       0.63      0.92      0.75       488\n",
      "         Fun and Games       0.00      0.00      0.00        25\n",
      "\n",
      "              accuracy                           0.67      3729\n",
      "             macro avg       0.40      0.35      0.32      3729\n",
      "          weighted avg       0.62      0.67      0.60      3729\n",
      "\n",
      "\n",
      "Accuracy: 0.6720300348618933\n"
     ]
    },
    {
     "name": "stderr",
     "output_type": "stream",
     "text": [
      "C:\\Users\\Mateusz\\miniconda3\\envs\\zed\\Lib\\site-packages\\sklearn\\metrics\\_classification.py:1471: UndefinedMetricWarning: Precision and F-score are ill-defined and being set to 0.0 in labels with no predicted samples. Use `zero_division` parameter to control this behavior.\n",
      "  _warn_prf(average, modifier, msg_start, len(result))\n",
      "C:\\Users\\Mateusz\\miniconda3\\envs\\zed\\Lib\\site-packages\\sklearn\\metrics\\_classification.py:1471: UndefinedMetricWarning: Precision and F-score are ill-defined and being set to 0.0 in labels with no predicted samples. Use `zero_division` parameter to control this behavior.\n",
      "  _warn_prf(average, modifier, msg_start, len(result))\n",
      "C:\\Users\\Mateusz\\miniconda3\\envs\\zed\\Lib\\site-packages\\sklearn\\metrics\\_classification.py:1471: UndefinedMetricWarning: Precision and F-score are ill-defined and being set to 0.0 in labels with no predicted samples. Use `zero_division` parameter to control this behavior.\n",
      "  _warn_prf(average, modifier, msg_start, len(result))\n"
     ]
    }
   ],
   "source": [
    "from sklearn.metrics import classification_report, confusion_matrix, accuracy_score\n",
    "from sklearn.model_selection import cross_val_predict\n",
    "\n",
    "_, levels = pd.factorize(full_data_clean['label'])\n",
    "print(classification_report(y,y_pred,target_names=levels))\n",
    "\n",
    "accuracy = accuracy_score(y, y_pred)\n",
    "print()\n",
    "print(f\"Accuracy: {accuracy}\")"
   ]
  },
  {
   "cell_type": "code",
   "execution_count": 305,
   "id": "b81fc580-c101-41e6-b409-8fdf5003f406",
   "metadata": {},
   "outputs": [
    {
     "name": "stdout",
     "output_type": "stream",
     "text": [
      "Confusion Matrix:\n",
      "[[  0  17   1   0   0   0   0   0   0  18   4   0  28   0   1   0]\n",
      " [  0 370   0   0   0   0   0   0   0   4   1   0  51   0   0   0]\n",
      " [  0   8 258   0   0   0   0   0   0   6   1   0  72   0   0   0]\n",
      " [  0  10   2   0   0   0   0   0   0  53   1   0  26   0   0   0]\n",
      " [  0  23   2   0   0   0   0   0   0   6   0   0  29   0  21   0]\n",
      " [  0   8   1   0   0   0   0   0   0   2   0   0  16   0  45   0]\n",
      " [  0  33   8   0   0   0   1   0   0  54   5   0  43   0   2   0]\n",
      " [  0  21   5   0   0   0   0  79   0   3   0   0  34   0  90   0]\n",
      " [  0   0   0   0   0   0   0   0   0  85   0   0   0   0   0   0]\n",
      " [  0   0   0   0   0   0   0   0   0 607   0   0   4   0   0   0]\n",
      " [  0   7   0   0   0   0   0   0   0  14 291   0  51   0   7   0]\n",
      " [  0  46   4   0   0   0   0   0   0   9   4   0  38   0   1   0]\n",
      " [  0   3   0   0   0   0   0   0   0  52   0   0 450   0  16   0]\n",
      " [  0   0   0   0   0   0   0   0   0   0   0   0   5   0  59   0]\n",
      " [  0   4   2   0   0   0   0   0   0   0   0   0  32   0 450   0]\n",
      " [  0   0   0   0   0   0   0   0   0   0   0   0   0   0  25   0]]\n"
     ]
    }
   ],
   "source": [
    "# Assuming 'model', 'X', and 'y' are already defined\n",
    "# predicted = cross_val_predict(model, X, y, cv=5)\n",
    "conf_matrix = confusion_matrix(y, y_pred)\n",
    "\n",
    "print(\"Confusion Matrix:\")\n",
    "print(conf_matrix)"
   ]
  },
  {
   "cell_type": "code",
   "execution_count": 306,
   "id": "b5eff19d-1730-4609-afd1-e5ddc12c0d4e",
   "metadata": {},
   "outputs": [
    {
     "data": {
      "text/plain": [
       "<Axes: >"
      ]
     },
     "execution_count": 306,
     "metadata": {},
     "output_type": "execute_result"
    },
    {
     "data": {
      "image/png": "[encoded data removed]",
      "text/plain": [
       "<Figure size 1200x1000 with 2 Axes>"
      ]
     },
     "metadata": {},
     "output_type": "display_data"
    }
   ],
   "source": [
    "import seaborn as sns\n",
    "import matplotlib.pyplot as plt\n",
    "\n",
    "fig, ax = plt.subplots(figsize=(12,10))\n",
    "sns.heatmap(conf_matrix, fmt='g', ax=ax, annot=True)"
   ]
  },
  {
   "cell_type": "code",
   "execution_count": null,
   "id": "6bfb1cb9-7d76-4c0f-b27e-e58f958b9c41",
   "metadata": {},
   "outputs": [],
   "source": []
  }
 ],
 "metadata": {
  "kernelspec": {
   "display_name": "Python 3 (ipykernel)",
   "language": "python",
   "name": "python3"
  },
  "language_info": {
   "codemirror_mode": {
    "name": "ipython",
    "version": 3
   },
   "file_extension": ".py",
   "mimetype": "text/x-python",
   "name": "python",
   "nbconvert_exporter": "python",
   "pygments_lexer": "ipython3",
   "version": "3.11.5"
  }
 },
 "nbformat": 4,
 "nbformat_minor": 5
}
